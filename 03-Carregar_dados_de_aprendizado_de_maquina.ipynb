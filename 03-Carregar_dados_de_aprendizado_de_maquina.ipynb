{
 "cells": [
  {
   "attachments": {},
   "cell_type": "markdown",
   "metadata": {},
   "source": [
    "### Estudos Miranda: Como carregar dados de aprendizado de máquina"
   ]
  },
  {
   "attachments": {},
   "cell_type": "markdown",
   "metadata": {},
   "source": [
    "Você deve ser capaz de carregar seus dados antes de iniciar seu projeto de aprendizado de máquina. O formato mais comum para dados de aprendizado de máquina são os arquivos CSV. Existem várias maneiras de carregue um arquivo CSV em Python. Nesta lição, você aprenderá três maneiras que pode usar para carregar seus dados CSV em Python:"
   ]
  },
  {
   "attachments": {},
   "cell_type": "markdown",
   "metadata": {},
   "source": [
    "1. Carregue arquivos CSV com a biblioteca padrão do Python.\n",
    "2. Carregue arquivos CSV com NumPy.\n",
    "3. Carregar arquivos CSV com Pandas."
   ]
  },
  {
   "attachments": {},
   "cell_type": "markdown",
   "metadata": {},
   "source": [
    "#### Considerações ao carregar dados CSV"
   ]
  },
  {
   "attachments": {},
   "cell_type": "markdown",
   "metadata": {},
   "source": [
    "Há uma série de considerações ao carregar seus dados de aprendizado de máquina de arquivos CSV. Para referência, você pode aprender muito sobre as expectativas para arquivos CSV revisando o CSV pedido de comentário intitulado Formato comum e tipo MIME para valores separados por vírgula (CSV) Arquivos."
   ]
  },
  {
   "attachments": {},
   "cell_type": "markdown",
   "metadata": {},
   "source": [
    "##### Cabeçalho do arquivo"
   ]
  },
  {
   "attachments": {},
   "cell_type": "markdown",
   "metadata": {},
   "source": [
    "Seus dados têm um cabeçalho de arquivo? Nesse caso, isso pode ajudar a atribuir nomes automaticamente a cada coluna de dados. Caso contrário, pode ser necessário nomear seus atributos manualmente. De qualquer maneira, você deve especifique explicitamente se seu arquivo CSV tinha ou não um cabeçalho de arquivo ao carregar seus dados."
   ]
  },
  {
   "attachments": {},
   "cell_type": "markdown",
   "metadata": {},
   "source": [
    "##### Comentários"
   ]
  },
  {
   "attachments": {},
   "cell_type": "markdown",
   "metadata": {},
   "source": [
    "Seus dados têm comentários? Os comentários em um arquivo CSV são indicados por um hash `(#)` na início de uma linha. Se você tiver comentários em seu arquivo, dependendo do método usado para carregar seu dados, você pode precisar indicar se deve ou não esperar comentários e o personagem a esperar para significar uma linha de comentário."
   ]
  },
  {
   "attachments": {},
   "cell_type": "markdown",
   "metadata": {},
   "source": [
    "##### Delimitador"
   ]
  },
  {
   "attachments": {},
   "cell_type": "markdown",
   "metadata": {},
   "source": [
    "O delimitador padrão que separa valores em campos é a vírgula `(,)`. seu le poderia use um delimitador diferente como tabulação ou espaço em branco, caso em que você deve especificá-lo explicitamente."
   ]
  },
  {
   "attachments": {},
   "cell_type": "markdown",
   "metadata": {},
   "source": [
    "##### Citações"
   ]
  },
  {
   "attachments": {},
   "cell_type": "markdown",
   "metadata": {},
   "source": [
    "Às vezes, os valores de campo podem ter espaços. Nesses arquivos CSV, os valores geralmente são citados. O o caractere de aspas padrão é o caractere de aspas duplas. Outros caracteres podem ser usados, e você deve especificar o caractere de aspas usado em seu arquivo."
   ]
  },
  {
   "attachments": {},
   "cell_type": "markdown",
   "metadata": {},
   "source": [
    "#### Pima Indians Dataset"
   ]
  },
  {
   "attachments": {},
   "cell_type": "markdown",
   "metadata": {},
   "source": [
    "O conjunto de dados dos índios Pima é usado para demonstrar o carregamento de dados nesta lição. Também será usado em muitas das lições que virão. Este conjunto de dados descreve os registros médicos dos índios Pima e se cada paciente terá ou não um início de diabetes dentro de cinco anos. Como tal é um problema de classificação. É um bom conjunto de dados para demonstração porque todas as entradas os atributos são numéricos e a variável de saída a ser prevista é binária (0 ou 1). os dados são disponível gratuitamente no UCI Machine Learning Repository."
   ]
  },
  {
   "attachments": {},
   "cell_type": "markdown",
   "metadata": {},
   "source": [
    "#### Carregar arquivos CSV com a biblioteca padrão do Python"
   ]
  },
  {
   "attachments": {},
   "cell_type": "markdown",
   "metadata": {},
   "source": [
    "A API Python fornece o módulo CSV e a função `reader()` que pode ser usada para carregar Arquivos CSV. Depois de carregado, você pode converter os dados CSV em um array NumPy e usá-lo para a máquina aprendizado. Por exemplo, você pode baixar o conjunto de dados dos índios Pima em seu diretório local com o nome de arquivo 'diabetes.csv'. Todos os campos neste conjunto de dados são numéricos e não há linha de cabeçalho."
   ]
  },
  {
   "cell_type": "code",
   "execution_count": 2,
   "metadata": {},
   "outputs": [
    {
     "name": "stdout",
     "output_type": "stream",
     "text": [
      "(768, 9)\n"
     ]
    }
   ],
   "source": [
    "# Load CSV Using Python Standard Library\n",
    "\n",
    "import csv\n",
    "import numpy\n",
    "\n",
    "filename = 'datasets/diabetes.csv'\n",
    "raw_data = open(filename, 'rb')\n",
    "\n",
    "with open(filename, newline='') as raw_data:\n",
    "    reader = csv.reader(raw_data,\n",
    "                        delimiter=',')  \n",
    "    \n",
    "    x = list(reader)\n",
    "    \n",
    "    data = numpy.array(x).astype('float')\n",
    "    \n",
    "    print(data.shape)"
   ]
  },
  {
   "attachments": {},
   "cell_type": "markdown",
   "metadata": {},
   "source": [
    "O exemplo carrega um objeto que pode iterar sobre cada linha dos dados e pode ser facilmente convertido em uma matriz NumPy. A execução do exemplo imprime a forma da matriz."
   ]
  },
  {
   "cell_type": "code",
   "execution_count": 3,
   "metadata": {},
   "outputs": [
    {
     "name": "stdout",
     "output_type": "stream",
     "text": [
      "(768, 9)\n"
     ]
    }
   ],
   "source": [
    "# Saída do exemplo de carregamento de um arquivo CSV usando a biblioteca padrão do Python.\n",
    "print(data.shape)"
   ]
  },
  {
   "attachments": {},
   "cell_type": "markdown",
   "metadata": {},
   "source": [
    "Para obter mais informações sobre a função `csv.reader()`, consulte Leitura e gravação de arquivos CSV em a documentação da API do Python."
   ]
  },
  {
   "attachments": {},
   "cell_type": "markdown",
   "metadata": {},
   "source": [
    "#### Carregar arquivos CSV com NumPy"
   ]
  },
  {
   "attachments": {},
   "cell_type": "markdown",
   "metadata": {},
   "source": [
    "Você pode carregar seus dados CSV usando NumPy e a função `numpy.loadtxt()`. esta função não assume nenhuma linha de cabeçalho e todos os dados têm o mesmo formato. O exemplo abaixo assume que o arquivo diabetes.csv está em seu diretório de trabalho atual."
   ]
  },
  {
   "cell_type": "code",
   "execution_count": 4,
   "metadata": {},
   "outputs": [
    {
     "name": "stdout",
     "output_type": "stream",
     "text": [
      "(768, 9)\n"
     ]
    }
   ],
   "source": [
    "# Load CSV using NumPy\n",
    "\n",
    "from numpy import loadtxt\n",
    "\n",
    "filename = 'datasets/diabetes.csv'\n",
    "raw_data = open(filename, 'rb')\n",
    "data = loadtxt(raw_data,\n",
    "               delimiter = \",\")\n",
    "\n",
    "print(data.shape)"
   ]
  },
  {
   "attachments": {},
   "cell_type": "markdown",
   "metadata": {},
   "source": [
    "A execução do exemplo carregará o arquivo como `numpy.ndarray` e imprimirá a forma dos dados:"
   ]
  },
  {
   "cell_type": "code",
   "execution_count": 5,
   "metadata": {},
   "outputs": [
    {
     "name": "stdout",
     "output_type": "stream",
     "text": [
      "(768, 9)\n"
     ]
    }
   ],
   "source": [
    "# Saída do exemplo carregando um arquivo CSV usando NumPy. \n",
    "print(data.shape)"
   ]
  },
  {
   "attachments": {},
   "cell_type": "markdown",
   "metadata": {},
   "source": [
    "Este exemplo pode ser modificado para carregar o mesmo conjunto de dados diretamente de uma URL da seguinte forma:"
   ]
  },
  {
   "cell_type": "code",
   "execution_count": 6,
   "metadata": {},
   "outputs": [
    {
     "name": "stdout",
     "output_type": "stream",
     "text": [
      "(768, 9)\n"
     ]
    }
   ],
   "source": [
    "# Load CSV from URL using NumPy\n",
    "\n",
    "from urllib.request import urlopen\n",
    "\n",
    "url = 'https://raw.githubusercontent.com/caiquemiranda/machine-learning-mastery/main/datasets/diabetes.csv'\n",
    "raw_data = urlopen(url)\n",
    "\n",
    "dataset = loadtxt(raw_data, \n",
    "                  delimiter = \",\")\n",
    "\n",
    "print(dataset.shape)"
   ]
  },
  {
   "attachments": {},
   "cell_type": "markdown",
   "metadata": {},
   "source": [
    "Novamente, executar o exemplo produz a mesma forma resultante dos dados."
   ]
  },
  {
   "cell_type": "code",
   "execution_count": 7,
   "metadata": {},
   "outputs": [
    {
     "name": "stdout",
     "output_type": "stream",
     "text": [
      "(768, 9)\n"
     ]
    }
   ],
   "source": [
    "# Output of example loading a CSV URL using NumPy.\n",
    "print(dataset.shape)"
   ]
  },
  {
   "attachments": {},
   "cell_type": "markdown",
   "metadata": {},
   "source": [
    "Para obter mais informações sobre a função `numpy.loadtxt()`, consulte a documentação da API."
   ]
  },
  {
   "attachments": {},
   "cell_type": "markdown",
   "metadata": {},
   "source": [
    "#### Carregar arquivos CSV com Pandas"
   ]
  },
  {
   "attachments": {},
   "cell_type": "markdown",
   "metadata": {},
   "source": [
    "Você pode carregar seus dados CSV usando Pandas e a função `pandas.read_csv()`. esta função é muito flexível e talvez seja minha abordagem recomendada para carregar seu aprendizado de máquina dados. A função retorna um pandas.DataFrame que você pode começar a resumir imediatamente e plotagem. O exemplo abaixo assume que o arquivo pima-indians-diabetes.data.csv é no diretório de trabalho atual."
   ]
  },
  {
   "cell_type": "code",
   "execution_count": 8,
   "metadata": {},
   "outputs": [
    {
     "name": "stdout",
     "output_type": "stream",
     "text": [
      "(768, 9)\n"
     ]
    }
   ],
   "source": [
    "# Load CSV using Pandas\n",
    "\n",
    "from pandas import read_csv\n",
    "\n",
    "filename = 'datasets/diabetes.csv'\n",
    "\n",
    "names = ['preg', 'plas', 'pres', \n",
    "         'skin', 'test', 'mass', \n",
    "         'pedi', 'age', 'class']\n",
    "\n",
    "data = read_csv(filename, \n",
    "                names = names)\n",
    "\n",
    "print(data.shape)"
   ]
  },
  {
   "cell_type": "code",
   "execution_count": 9,
   "metadata": {},
   "outputs": [
    {
     "data": {
      "text/html": [
       "<div>\n",
       "<style scoped>\n",
       "    .dataframe tbody tr th:only-of-type {\n",
       "        vertical-align: middle;\n",
       "    }\n",
       "\n",
       "    .dataframe tbody tr th {\n",
       "        vertical-align: top;\n",
       "    }\n",
       "\n",
       "    .dataframe thead th {\n",
       "        text-align: right;\n",
       "    }\n",
       "</style>\n",
       "<table border=\"1\" class=\"dataframe\">\n",
       "  <thead>\n",
       "    <tr style=\"text-align: right;\">\n",
       "      <th></th>\n",
       "      <th>preg</th>\n",
       "      <th>plas</th>\n",
       "      <th>pres</th>\n",
       "      <th>skin</th>\n",
       "      <th>test</th>\n",
       "      <th>mass</th>\n",
       "      <th>pedi</th>\n",
       "      <th>age</th>\n",
       "      <th>class</th>\n",
       "    </tr>\n",
       "  </thead>\n",
       "  <tbody>\n",
       "    <tr>\n",
       "      <th>0</th>\n",
       "      <td>6</td>\n",
       "      <td>148</td>\n",
       "      <td>72</td>\n",
       "      <td>35</td>\n",
       "      <td>0</td>\n",
       "      <td>33.6</td>\n",
       "      <td>0.627</td>\n",
       "      <td>50</td>\n",
       "      <td>1</td>\n",
       "    </tr>\n",
       "    <tr>\n",
       "      <th>1</th>\n",
       "      <td>1</td>\n",
       "      <td>85</td>\n",
       "      <td>66</td>\n",
       "      <td>29</td>\n",
       "      <td>0</td>\n",
       "      <td>26.6</td>\n",
       "      <td>0.351</td>\n",
       "      <td>31</td>\n",
       "      <td>0</td>\n",
       "    </tr>\n",
       "    <tr>\n",
       "      <th>2</th>\n",
       "      <td>8</td>\n",
       "      <td>183</td>\n",
       "      <td>64</td>\n",
       "      <td>0</td>\n",
       "      <td>0</td>\n",
       "      <td>23.3</td>\n",
       "      <td>0.672</td>\n",
       "      <td>32</td>\n",
       "      <td>1</td>\n",
       "    </tr>\n",
       "    <tr>\n",
       "      <th>3</th>\n",
       "      <td>1</td>\n",
       "      <td>89</td>\n",
       "      <td>66</td>\n",
       "      <td>23</td>\n",
       "      <td>94</td>\n",
       "      <td>28.1</td>\n",
       "      <td>0.167</td>\n",
       "      <td>21</td>\n",
       "      <td>0</td>\n",
       "    </tr>\n",
       "    <tr>\n",
       "      <th>4</th>\n",
       "      <td>0</td>\n",
       "      <td>137</td>\n",
       "      <td>40</td>\n",
       "      <td>35</td>\n",
       "      <td>168</td>\n",
       "      <td>43.1</td>\n",
       "      <td>2.288</td>\n",
       "      <td>33</td>\n",
       "      <td>1</td>\n",
       "    </tr>\n",
       "  </tbody>\n",
       "</table>\n",
       "</div>"
      ],
      "text/plain": [
       "   preg  plas  pres  skin  test  mass   pedi  age  class\n",
       "0     6   148    72    35     0  33.6  0.627   50      1\n",
       "1     1    85    66    29     0  26.6  0.351   31      0\n",
       "2     8   183    64     0     0  23.3  0.672   32      1\n",
       "3     1    89    66    23    94  28.1  0.167   21      0\n",
       "4     0   137    40    35   168  43.1  2.288   33      1"
      ]
     },
     "execution_count": 9,
     "metadata": {},
     "output_type": "execute_result"
    }
   ],
   "source": [
    "data.head()"
   ]
  },
  {
   "attachments": {},
   "cell_type": "markdown",
   "metadata": {},
   "source": [
    "Observe que neste exemplo especificamos explicitamente os nomes de cada atributo para o DataFrame.\n",
    "A execução do exemplo exibe a forma dos dados:"
   ]
  },
  {
   "cell_type": "code",
   "execution_count": 10,
   "metadata": {},
   "outputs": [
    {
     "name": "stdout",
     "output_type": "stream",
     "text": [
      "(768, 9)\n"
     ]
    }
   ],
   "source": [
    "# Output of example loading a CSV file using Pandas.\n",
    "print(data.shape)"
   ]
  },
  {
   "attachments": {},
   "cell_type": "markdown",
   "metadata": {},
   "source": [
    "Também podemos modificar este exemplo para carregar dados CSV diretamente de um URL."
   ]
  },
  {
   "cell_type": "code",
   "execution_count": 11,
   "metadata": {},
   "outputs": [
    {
     "name": "stdout",
     "output_type": "stream",
     "text": [
      "(768, 9)\n"
     ]
    }
   ],
   "source": [
    "# Load CSV using Pandas from URL\n",
    "\n",
    "from pandas import read_csv\n",
    "\n",
    "url = 'https://raw.githubusercontent.com/caiquemiranda/machine-learning-mastery/main/datasets/diabetes.csv'\n",
    "\n",
    "names = ['preg', 'plas', 'pres', \n",
    "         'skin', 'test', 'mass', \n",
    "         'pedi', 'age', 'class']\n",
    "\n",
    "data = read_csv(url, names=names)\n",
    "\n",
    "print(data.shape)"
   ]
  },
  {
   "attachments": {},
   "cell_type": "markdown",
   "metadata": {},
   "source": [
    "Novamente, executar o exemplo baixa o arquivo CSV, analisa-o e exibe a forma do DataFrame carregado."
   ]
  },
  {
   "cell_type": "code",
   "execution_count": 12,
   "metadata": {},
   "outputs": [
    {
     "name": "stdout",
     "output_type": "stream",
     "text": [
      "(768, 9)\n"
     ]
    }
   ],
   "source": [
    "# Output of example loading a CSV URL using Pandas.\n",
    "print(data.shape)"
   ]
  },
  {
   "attachments": {},
   "cell_type": "markdown",
   "metadata": {},
   "source": [
    "Para saber mais sobre a função `pandas.read_csv()`, você pode consultar a documentação da API."
   ]
  },
  {
   "cell_type": "code",
   "execution_count": 13,
   "metadata": {},
   "outputs": [
    {
     "name": "stdout",
     "output_type": "stream",
     "text": [
      "Github username: caiquemiranda\n",
      "\n",
      "csv  : 1.0\n",
      "numpy: 1.23.0\n",
      "\n"
     ]
    }
   ],
   "source": [
    "%reload_ext watermark\n",
    "%watermark -gu \"caiquemiranda\" -iv"
   ]
  },
  {
   "attachments": {},
   "cell_type": "markdown",
   "metadata": {},
   "source": [
    "### End."
   ]
  }
 ],
 "metadata": {
  "kernelspec": {
   "display_name": "Python 3",
   "language": "python",
   "name": "python3"
  },
  "language_info": {
   "codemirror_mode": {
    "name": "ipython",
    "version": 3
   },
   "file_extension": ".py",
   "mimetype": "text/x-python",
   "name": "python",
   "nbconvert_exporter": "python",
   "pygments_lexer": "ipython3",
   "version": "3.10.5"
  },
  "orig_nbformat": 4
 },
 "nbformat": 4,
 "nbformat_minor": 2
}
