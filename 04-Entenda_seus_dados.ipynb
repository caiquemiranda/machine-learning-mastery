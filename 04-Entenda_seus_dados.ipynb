{
 "cells": [
  {
   "attachments": {},
   "cell_type": "markdown",
   "metadata": {},
   "source": [
    "Você deve entender seus dados para obter os melhores resultados. Neste capítulo você descobrirá 7 receitas que você pode usar em Python para entender melhor seus dados de aprendizado de máquina."
   ]
  },
  {
   "attachments": {},
   "cell_type": "markdown",
   "metadata": {},
   "source": [
    "1. Dê uma olhada em seus dados brutos.\n",
    "2. Revise as dimensões do seu conjunto de dados.\n",
    "3. Revise os tipos de dados de atributos em seus dados.\n",
    "4. Resuma a distribuição de instâncias entre classes em seu conjunto de dados.\n",
    "5. Resuma seus dados usando estatísticas descritivas.\n",
    "6. Entenda as relações em seus dados usando correlações.\n",
    "7. Revise a inclinação das distribuições de cada atributo."
   ]
  },
  {
   "attachments": {},
   "cell_type": "markdown",
   "metadata": {},
   "source": [
    "Cada receita é demonstrada carregando o conjunto de dados de classificação de diabetes Pima Indians do repositório UCI Machine Learning. Abra seu ambiente interativo Python e tente cada receita por sua vez. Vamos começar."
   ]
  },
  {
   "attachments": {},
   "cell_type": "markdown",
   "metadata": {},
   "source": [
    "#### Dê uma olhada em seus dados"
   ]
  },
  {
   "attachments": {},
   "cell_type": "markdown",
   "metadata": {},
   "source": [
    "Não há substituto para olhar para os dados brutos. Observar os dados brutos pode revelar insights que você não pode obter de outra maneira. Ele também pode plantar sementes que mais tarde podem se transformar em ideias sobre como pré-processar e manipular melhor os dados para tarefas de aprendizado de máquina. Você pode rever o primeiras 20 linhas de seus dados usando a função `head()` no Pandas DataFrame."
   ]
  },
  {
   "cell_type": "code",
   "execution_count": 1,
   "metadata": {},
   "outputs": [
    {
     "name": "stdout",
     "output_type": "stream",
     "text": [
      "    preg  plas  pres  skin  test  mass   pedi  age  class\n",
      "0      6   148    72    35     0  33.6  0.627   50      1\n",
      "1      1    85    66    29     0  26.6  0.351   31      0\n",
      "2      8   183    64     0     0  23.3  0.672   32      1\n",
      "3      1    89    66    23    94  28.1  0.167   21      0\n",
      "4      0   137    40    35   168  43.1  2.288   33      1\n",
      "5      5   116    74     0     0  25.6  0.201   30      0\n",
      "6      3    78    50    32    88  31.0  0.248   26      1\n",
      "7     10   115     0     0     0  35.3  0.134   29      0\n",
      "8      2   197    70    45   543  30.5  0.158   53      1\n",
      "9      8   125    96     0     0   0.0  0.232   54      1\n",
      "10     4   110    92     0     0  37.6  0.191   30      0\n",
      "11    10   168    74     0     0  38.0  0.537   34      1\n",
      "12    10   139    80     0     0  27.1  1.441   57      0\n",
      "13     1   189    60    23   846  30.1  0.398   59      1\n",
      "14     5   166    72    19   175  25.8  0.587   51      1\n",
      "15     7   100     0     0     0  30.0  0.484   32      1\n",
      "16     0   118    84    47   230  45.8  0.551   31      1\n",
      "17     7   107    74     0     0  29.6  0.254   31      1\n",
      "18     1   103    30    38    83  43.3  0.183   33      0\n",
      "19     1   115    70    30    96  34.6  0.529   32      1\n"
     ]
    }
   ],
   "source": [
    "# mostrando as 20 primeiras linhas\n",
    "from pandas import read_csv\n",
    "\n",
    "filename = \"datasets/diabetes.csv\"\n",
    "names = ['preg', 'plas', 'pres', \n",
    "         'skin', 'test', 'mass',\n",
    "         'pedi', 'age', 'class']\n",
    "\n",
    "data = read_csv(filename, names=names)\n",
    "peek = data.head(20)\n",
    "\n",
    "print(peek)"
   ]
  },
  {
   "attachments": {},
   "cell_type": "markdown",
   "metadata": {},
   "source": [
    "Você pode ver que a primeira coluna lista o número da linha, o que é útil para referenciar um\n",
    "observação específica."
   ]
  },
  {
   "attachments": {},
   "cell_type": "markdown",
   "metadata": {},
   "source": [
    "#### Dimensões dos seus dados"
   ]
  },
  {
   "attachments": {},
   "cell_type": "markdown",
   "metadata": {},
   "source": [
    "Você deve ter um controle muito bom sobre a quantidade de dados que possui, tanto em termos de linhas quanto colunas. Muitas linhas e algoritmos podem levar muito tempo para treinar. Muito poucos e talvez você faça não tem dados suficientes para treinar os algoritmos. Muitos recursos e alguns algoritmos podem ser distraídos ou apresentar baixo desempenho devido para a maldição da dimensionalidade. Você pode revisar a forma e o tamanho do seu conjunto de dados imprimindo a propriedade de forma na Pandas DataFrame."
   ]
  },
  {
   "cell_type": "code",
   "execution_count": 2,
   "metadata": {},
   "outputs": [
    {
     "name": "stdout",
     "output_type": "stream",
     "text": [
      "(768, 9)\n"
     ]
    }
   ],
   "source": [
    "# Dimensão dos dados\n",
    "shape = data.shape\n",
    "print(shape)"
   ]
  },
  {
   "attachments": {},
   "cell_type": "markdown",
   "metadata": {},
   "source": [
    "Os resultados são listados em linhas e colunas. Você pode ver que o conjunto de dados tem 768 linhas e\n",
    "9 colunas."
   ]
  },
  {
   "attachments": {},
   "cell_type": "markdown",
   "metadata": {},
   "source": [
    "#### Tipo de dados para cada atributo"
   ]
  },
  {
   "attachments": {},
   "cell_type": "markdown",
   "metadata": {},
   "source": [
    "O tipo de cada atributo é importante. Strings podem precisar ser convertidas para ponto de flutuação valores ou inteiros para representar valores categóricos ou ordinais. Você pode ter uma ideia dos tipos de atributos espiando os dados brutos, como acima. Você também pode listar os tipos de dados usados pelo DataFrame para caracterizar cada atributo usando a propriedade dtypes."
   ]
  },
  {
   "cell_type": "code",
   "execution_count": 3,
   "metadata": {},
   "outputs": [
    {
     "name": "stdout",
     "output_type": "stream",
     "text": [
      "preg       int64\n",
      "plas       int64\n",
      "pres       int64\n",
      "skin       int64\n",
      "test       int64\n",
      "mass     float64\n",
      "pedi     float64\n",
      "age        int64\n",
      "class      int64\n",
      "dtype: object\n"
     ]
    }
   ],
   "source": [
    "# Tipos de dados dos atributos\n",
    "types = data.dtypes\n",
    "print(types)"
   ]
  },
  {
   "attachments": {},
   "cell_type": "markdown",
   "metadata": {},
   "source": [
    "Você pode ver que a maioria dos atributos são números inteiros e que massa e pedi são\n",
    "flutuando\n",
    "tipos de pontos."
   ]
  },
  {
   "attachments": {},
   "cell_type": "markdown",
   "metadata": {},
   "source": [
    "#### Estatísticas descritivas"
   ]
  },
  {
   "attachments": {},
   "cell_type": "markdown",
   "metadata": {},
   "source": [
    "As estatísticas descritivas podem fornecer uma grande visão sobre a forma de cada atributo. Muitas vezes você pode crie mais resumos do que você tem tempo para revisar. A função `describe()` nos Pandas DataFrame lista 8 propriedades estatísticas de cada atributo. Eles são:\n",
    "\n",
    "- Contagem.\n",
    "- Média.\n",
    "- Desvio Padrão.\n",
    "- Valor Mínimo.\n",
    "- 25º percentil.\n",
    "- Percentil 50 (mediana).\n",
    "- 75º percentil.\n",
    "- Valor Máximo."
   ]
  },
  {
   "cell_type": "code",
   "execution_count": 4,
   "metadata": {},
   "outputs": [
    {
     "name": "stdout",
     "output_type": "stream",
     "text": [
      "          preg     plas     pres     skin     test     mass     pedi      age    class\n",
      "count  768.000  768.000  768.000  768.000  768.000  768.000  768.000  768.000  768.000\n",
      "mean     3.845  120.895   69.105   20.536   79.799   31.993    0.472   33.241    0.349\n",
      "std      3.370   31.973   19.356   15.952  115.244    7.884    0.331   11.760    0.477\n",
      "min      0.000    0.000    0.000    0.000    0.000    0.000    0.078   21.000    0.000\n",
      "25%      1.000   99.000   62.000    0.000    0.000   27.300    0.244   24.000    0.000\n",
      "50%      3.000  117.000   72.000   23.000   30.500   32.000    0.372   29.000    0.000\n",
      "75%      6.000  140.250   80.000   32.000  127.250   36.600    0.626   41.000    1.000\n",
      "max     17.000  199.000  122.000   99.000  846.000   67.100    2.420   81.000    1.000\n"
     ]
    }
   ],
   "source": [
    "# Resumo estatistico\n",
    "from pandas import set_option\n",
    "\n",
    "set_option('display.width', 100)\n",
    "set_option('display.precision', 3)\n",
    "\n",
    "description = data.describe()\n",
    "print(description)"
   ]
  },
  {
   "attachments": {},
   "cell_type": "markdown",
   "metadata": {},
   "source": [
    "Você pode ver que obtém muitos dados. Você notará algumas chamadas para `pandas.set_option()` na receita para alterar a precisão dos números e a largura preferencial da saída. Esse é torná-lo mais legível para este exemplo. Ao descrever seus dados dessa maneira, vale a pena tomando algum tempo e revisando as observações dos resultados. Isso pode incluir a presença de valores NA para dados ausentes ou distribuições surpreendentes para atributos."
   ]
  },
  {
   "attachments": {},
   "cell_type": "markdown",
   "metadata": {},
   "source": [
    "#### Distribuição de classes (somente classificação)"
   ]
  },
  {
   "attachments": {},
   "cell_type": "markdown",
   "metadata": {},
   "source": [
    "Em problemas de classificação, você precisa saber o quão balanceados são os valores das classes. Altamente desequilibrado problemas (muito mais observações para uma classe do que para outra) são comuns e podem precisar de atenção especial manipulação na fase de preparação de dados do seu projeto. Você pode rapidamente ter uma ideia do distribuição do atributo de classe em Pandas."
   ]
  },
  {
   "cell_type": "code",
   "execution_count": 5,
   "metadata": {},
   "outputs": [
    {
     "name": "stdout",
     "output_type": "stream",
     "text": [
      "class\n",
      "0    500\n",
      "1    268\n",
      "dtype: int64\n"
     ]
    }
   ],
   "source": [
    "# Distrinuição por classes\n",
    "\n",
    "class_counts = data.groupby('class').size()\n",
    "print(class_counts)"
   ]
  },
  {
   "attachments": {},
   "cell_type": "markdown",
   "metadata": {},
   "source": [
    "Você pode ver que há quase o dobro do número de observações com classe 0 (sem início de diabetes) do que na classe 1 (diabetes de início)."
   ]
  },
  {
   "attachments": {},
   "cell_type": "markdown",
   "metadata": {},
   "source": [
    "#### Correlações entre atributos"
   ]
  },
  {
   "attachments": {},
   "cell_type": "markdown",
   "metadata": {},
   "source": [
    "Correlação refere-se à relação entre duas variáveis e como elas podem ou não mudar juntos. O método mais comum para calcular a correlação é a Correlação de Pearson Coe ciente, que assume uma distribuição normal dos atributos envolvidos. Uma correlação de -1 ou 1 mostra uma correlação negativa ou positiva completa, respectivamente. Considerando que um valor de 0 não mostra nenhum correlação em tudo. Alguns algoritmos de aprendizado de máquina, como regressão linear e logística, podem sofrer baixo desempenho se houver atributos altamente correlacionados em seu conjunto de dados. Como tal, é um bom ideia de revisar todas as correlações aos pares dos atributos em seu conjunto de dados. Você pode usar o `corr()` no Pandas DataFrame para calcular uma matriz de correlação."
   ]
  },
  {
   "cell_type": "code",
   "execution_count": 6,
   "metadata": {},
   "outputs": [
    {
     "name": "stdout",
     "output_type": "stream",
     "text": [
      "        preg   plas   pres   skin   test   mass   pedi    age  class\n",
      "preg   1.000  0.129  0.141 -0.082 -0.074  0.018 -0.034  0.544  0.222\n",
      "plas   0.129  1.000  0.153  0.057  0.331  0.221  0.137  0.264  0.467\n",
      "pres   0.141  0.153  1.000  0.207  0.089  0.282  0.041  0.240  0.065\n",
      "skin  -0.082  0.057  0.207  1.000  0.437  0.393  0.184 -0.114  0.075\n",
      "test  -0.074  0.331  0.089  0.437  1.000  0.198  0.185 -0.042  0.131\n",
      "mass   0.018  0.221  0.282  0.393  0.198  1.000  0.141  0.036  0.293\n",
      "pedi  -0.034  0.137  0.041  0.184  0.185  0.141  1.000  0.034  0.174\n",
      "age    0.544  0.264  0.240 -0.114 -0.042  0.036  0.034  1.000  0.238\n",
      "class  0.222  0.467  0.065  0.075  0.131  0.293  0.174  0.238  1.000\n"
     ]
    }
   ],
   "source": [
    "# Pairwise Pearson correlations\n",
    "\n",
    "correlations = data.corr(method='pearson')\n",
    "print(correlations)"
   ]
  },
  {
   "attachments": {},
   "cell_type": "markdown",
   "metadata": {},
   "source": [
    "A matriz lista todos os atributos na parte superior e inferior da lateral, para fornecer correlação entre todos os pares de atributos (duas vezes, porque a matriz é simétrica). Você pode ver a diagonal linha através da matriz do canto superior esquerdo ao canto inferior direito da matriz mostra perfeito correlação de cada atributo consigo mesmo."
   ]
  },
  {
   "attachments": {},
   "cell_type": "markdown",
   "metadata": {},
   "source": [
    "#### Distorção de Distribuições Univariadas"
   ]
  },
  {
   "attachments": {},
   "cell_type": "markdown",
   "metadata": {},
   "source": [
    "Skew refere-se a uma distribuição que é considerada gaussiana (normal ou curva de sino) que é deslocada ou esmagado em uma direção ou outra. Muitos algoritmos de aprendizado de máquina assumem uma Gaussiana distribuição. Saber que um atributo tem uma inclinação pode permitir que você execute a preparação de dados para corrigir a inclinação e depois melhorar a precisão de seus modelos. Você pode calcular a inclinação de cada atributo usando a função `skew()` no Pandas DataFrame."
   ]
  },
  {
   "cell_type": "code",
   "execution_count": 7,
   "metadata": {},
   "outputs": [
    {
     "name": "stdout",
     "output_type": "stream",
     "text": [
      "preg     0.902\n",
      "plas     0.174\n",
      "pres    -1.844\n",
      "skin     0.109\n",
      "test     2.272\n",
      "mass    -0.429\n",
      "pedi     1.920\n",
      "age      1.130\n",
      "class    0.635\n",
      "dtype: float64\n"
     ]
    }
   ],
   "source": [
    "# Skew for each attribute\n",
    "\n",
    "skew = data.skew()\n",
    "print(skew)"
   ]
  },
  {
   "attachments": {},
   "cell_type": "markdown",
   "metadata": {},
   "source": [
    "O resultado da inclinação mostra uma inclinação positiva (direita) ou negativa (esquerda). Valores mais próximos de zero são exibidos menos enviesado."
   ]
  },
  {
   "attachments": {},
   "cell_type": "markdown",
   "metadata": {},
   "source": [
    "#### Dicas para lembrar"
   ]
  },
  {
   "attachments": {},
   "cell_type": "markdown",
   "metadata": {},
   "source": [
    "Esta seção fornece algumas dicas a serem lembradas ao revisar seus dados usando estatísticas resumidas. Revise os números. Gerar as estatísticas resumidas não é suficiente. Espere um momento para fazer uma pausa, ler e realmente pensar sobre os números que você está vendo. Pergunte por quê. Revise seus números e faça muitas perguntas. Como e por que você está vendo números específicos. Pense em como os números se relacionam com o domínio do problema em geral e entidades específicas com as quais as observações se relacionam. Anote as ideias. Anote suas observações e ideias. Mantenha um pequeno arquivo de texto ou bloco de notas e anote todas as ideias sobre como as variáveis podem se relacionar, para quais números significa, e ideias de técnicas para tentar mais tarde. As coisas que você escreve agora enquanto o os dados atualizados serão muito valiosos mais tarde, quando você estiver tentando pensar em coisas novas para experimentar."
   ]
  },
  {
   "cell_type": "code",
   "execution_count": 8,
   "metadata": {},
   "outputs": [
    {
     "name": "stdout",
     "output_type": "stream",
     "text": [
      "Github username: caiquemiranda\n",
      "\n"
     ]
    }
   ],
   "source": [
    "%reload_ext watermark\n",
    "%watermark -gu \"caiquemiranda\" -iv"
   ]
  },
  {
   "attachments": {},
   "cell_type": "markdown",
   "metadata": {},
   "source": [
    "### End."
   ]
  }
 ],
 "metadata": {
  "kernelspec": {
   "display_name": "Python 3",
   "language": "python",
   "name": "python3"
  },
  "language_info": {
   "codemirror_mode": {
    "name": "ipython",
    "version": 3
   },
   "file_extension": ".py",
   "mimetype": "text/x-python",
   "name": "python",
   "nbconvert_exporter": "python",
   "pygments_lexer": "ipython3",
   "version": "3.10.5"
  },
  "orig_nbformat": 4
 },
 "nbformat": 4,
 "nbformat_minor": 2
}
