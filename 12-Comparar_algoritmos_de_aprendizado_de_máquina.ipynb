{
 "cells": [
  {
   "attachments": {},
   "cell_type": "markdown",
   "metadata": {},
   "source": [
    "### Comparar algoritmos de aprendizado de máquina"
   ]
  },
  {
   "attachments": {},
   "cell_type": "markdown",
   "metadata": {},
   "source": [
    "É importante comparar o desempenho de vários algoritmos de aprendizado de máquina diferentes\n",
    "consistentemente. Neste capítulo, você descobrirá como criar um equipamento de teste para comparar\n",
    "vários algoritmos diferentes de aprendizado de máquina em Python com scikit-learn. você pode usar isso\n",
    "teste o arnês como um modelo em seus próprios problemas de aprendizado de máquina e adicione mais e diferentes\n",
    "algoritmos para comparar. Depois de concluir esta lição, você saberá:\n",
    "1. Como formular um experimento para comparar diretamente algoritmos de aprendizado de máquina.\n",
    "2. Um modelo reutilizável para avaliar o desempenho de vários algoritmos em um conjunto de dados.\n",
    "3. Como relatar e visualizar os resultados ao comparar o desempenho do algoritmo.\n",
    "Vamos começar."
   ]
  },
  {
   "attachments": {},
   "cell_type": "markdown",
   "metadata": {},
   "source": [
    "#### Escolha o melhor modelo de aprendizado de máquina"
   ]
  },
  {
   "attachments": {},
   "cell_type": "markdown",
   "metadata": {},
   "source": [
    "Quando você trabalha em um projeto de aprendizado de máquina, geralmente acaba com vários modelos bons\n",
    "escolher a partir de. Cada modelo terá características de desempenho diferentes. Usando reamostragem\n",
    "métodos como validação cruzada, você pode obter uma estimativa da precisão de cada modelo\n",
    "dados não vistos. Você precisa ser capaz de usar essas estimativas para escolher um ou dois melhores modelos de\n",
    "o conjunto de modelos que você criou."
   ]
  },
  {
   "attachments": {},
   "cell_type": "markdown",
   "metadata": {},
   "source": [
    "Quando você tem um novo conjunto de dados, é uma boa ideia visualizar os dados usando técnicas diferentes\n",
    "a fim de olhar para os dados de diferentes perspectivas. A mesma ideia se aplica à seleção do modelo.\n",
    "Você deve usar várias maneiras diferentes de observar a precisão estimada de sua máquina\n",
    "algoritmos de aprendizado para escolher um ou dois algoritmos para nalizar. Uma maneira de fazer isso é\n",
    "usar métodos de visualização para mostrar a precisão média, variância e outras propriedades do\n",
    "distribuição das precisões do modelo. Na próxima seção, você descobrirá exatamente como fazer\n",
    "isso em Python com scikit-learn."
   ]
  },
  {
   "attachments": {},
   "cell_type": "markdown",
   "metadata": {},
   "source": [
    "#### Comparar algoritmos de aprendizado de máquina consistentemente"
   ]
  },
  {
   "attachments": {},
   "cell_type": "markdown",
   "metadata": {},
   "source": [
    "A chave para uma comparação justa de algoritmos de aprendizado de máquina é garantir que cada algoritmo seja\n",
    "avaliados da mesma forma com os mesmos dados. Você pode conseguir isso forçando cada algoritmo a ser avaliado em um equipamento de teste consistente. No exemplo abaixo, seis classificações diferentes\n",
    "algoritmos são comparados em um único conjunto de dados:\n",
    "Regressão Logística.\n",
    "Análise Discriminante Linear.\n",
    "k-vizinhos mais próximos.\n",
    "Árvores de classificação e regressão.\n",
    "Naive Bayes.\n",
    "Máquinas de vetores de suporte."
   ]
  },
  {
   "attachments": {},
   "cell_type": "markdown",
   "metadata": {},
   "source": [
    "O conjunto de dados é o início do problema de diabetes dos índios Pima. O problema tem duas classes e\n",
    "oito variáveis de entrada numérica de escalas variadas. O procedimento de validação cruzada de 10 vezes é usado para\n",
    "avalie cada algoritmo, importantemente configurado com a mesma semente aleatória para garantir que o\n",
    "mesmas divisões para os dados de treinamento são realizadas e que cada algoritmo é avaliado com precisão\n",
    "o mesmo caminho. Cada algoritmo recebe um nome curto, útil para resumir os resultados posteriormente."
   ]
  },
  {
   "cell_type": "code",
   "execution_count": 1,
   "metadata": {},
   "outputs": [
    {
     "name": "stdout",
     "output_type": "stream",
     "text": [
      "LR: 0.772129 (0.054933)\n",
      "LDA: 0.773462 (0.051592)\n",
      "KNN: 0.726555 (0.061821)\n",
      "CART: 0.682177 (0.064559)\n",
      "NB: 0.755178 (0.042766)\n",
      "SVM: 0.760424 (0.052931)\n"
     ]
    },
    {
     "data": {
      "image/png": "[encoded data removed]",
      "text/plain": [
       "<Figure size 432x288 with 1 Axes>"
      ]
     },
     "metadata": {
      "needs_background": "light"
     },
     "output_type": "display_data"
    }
   ],
   "source": [
    "# Compare Algorithms\n",
    "from pandas import read_csv\n",
    "from matplotlib import pyplot\n",
    "from sklearn.model_selection import KFold\n",
    "from sklearn.model_selection import cross_val_score\n",
    "from sklearn.linear_model import LogisticRegression\n",
    "from sklearn.tree import DecisionTreeClassifier\n",
    "from sklearn.neighbors import KNeighborsClassifier\n",
    "from sklearn.discriminant_analysis import LinearDiscriminantAnalysis\n",
    "from sklearn.naive_bayes import GaussianNB\n",
    "from sklearn.svm import SVC\n",
    "\n",
    "import warnings\n",
    "warnings.filterwarnings('ignore')\n",
    "\n",
    "# load dataset\n",
    "filename = 'datasets/diabetes.csv'\n",
    "names = ['preg', 'plas', 'pres',\n",
    "         'skin', 'test', 'mass', \n",
    "         'pedi', 'age', 'class']\n",
    "\n",
    "dataframe = read_csv(filename, names=names)\n",
    "array = dataframe.values\n",
    "X = array[:,0:8]\n",
    "Y = array[:,8]\n",
    "# prepare models\n",
    "models = []\n",
    "models.append(('LR', LogisticRegression()))\n",
    "models.append(('LDA', LinearDiscriminantAnalysis()))\n",
    "models.append(('KNN', KNeighborsClassifier()))\n",
    "models.append(('CART', DecisionTreeClassifier()))\n",
    "models.append(('NB', GaussianNB()))\n",
    "models.append(('SVM', SVC()))\n",
    "\n",
    "# evaluate each model in turn\n",
    "results = []\n",
    "names = []\n",
    "scoring = 'accuracy'\n",
    "for name, model in models:\n",
    "    kfold = KFold(n_splits=10)\n",
    "    cv_results = cross_val_score(model, X, Y, cv=kfold, scoring=scoring)\n",
    "    results.append(cv_results)\n",
    "    names.append(name)\n",
    "    msg = \"%s: %f (%f)\" % (name, cv_results.mean(), cv_results.std())\n",
    "    print(msg)\n",
    "\n",
    "# boxplot algorithm comparison\n",
    "fig = pyplot.figure()\n",
    "fig.suptitle('Algorithm Comparison')\n",
    "ax = fig.add_subplot(111)\n",
    "pyplot.boxplot(results)\n",
    "ax.set_xticklabels(names)\n",
    "pyplot.show()"
   ]
  },
  {
   "attachments": {},
   "cell_type": "markdown",
   "metadata": {},
   "source": [
    "A execução do exemplo fornece uma lista de cada nome abreviado do algoritmo, a precisão média e\n",
    "a precisão do desvio padrão."
   ]
  },
  {
   "cell_type": "code",
   "execution_count": 2,
   "metadata": {},
   "outputs": [],
   "source": [
    "pyplot.show()"
   ]
  },
  {
   "attachments": {},
   "cell_type": "markdown",
   "metadata": {},
   "source": [
    "O exemplo também fornece um gráfico de caixa e bigode mostrando a distribuição das pontuações de precisão\n",
    "em cada dobra de validação cruzada para cada algoritmo."
   ]
  },
  {
   "attachments": {},
   "cell_type": "markdown",
   "metadata": {},
   "source": [
    "A partir desses resultados, sugere-se que tanto a regressão logística quanto o discriminante linear\n",
    "talvez mereçam um estudo mais aprofundado sobre este problema."
   ]
  },
  {
   "cell_type": "code",
   "execution_count": 3,
   "metadata": {},
   "outputs": [
    {
     "name": "stdout",
     "output_type": "stream",
     "text": [
      "Author: Caique Miranda\n",
      "\n",
      "Github username: caiquemiranda\n",
      "\n",
      "matplotlib: 3.5.2\n",
      "\n"
     ]
    }
   ],
   "source": [
    "%reload_ext watermark\n",
    "%watermark -a \"Caique Miranda\" -gu \"caiquemiranda\" -iv"
   ]
  },
  {
   "attachments": {},
   "cell_type": "markdown",
   "metadata": {},
   "source": [
    "### End."
   ]
  }
 ],
 "metadata": {
  "kernelspec": {
   "display_name": "Python 3",
   "language": "python",
   "name": "python3"
  },
  "language_info": {
   "codemirror_mode": {
    "name": "ipython",
    "version": 3
   },
   "file_extension": ".py",
   "mimetype": "text/x-python",
   "name": "python",
   "nbconvert_exporter": "python",
   "pygments_lexer": "ipython3",
   "version": "3.10.5"
  },
  "orig_nbformat": 4
 },
 "nbformat": 4,
 "nbformat_minor": 2
}
