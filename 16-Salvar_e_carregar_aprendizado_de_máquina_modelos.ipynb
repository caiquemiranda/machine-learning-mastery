{
 "cells": [
  {
   "attachments": {},
   "cell_type": "markdown",
   "metadata": {},
   "source": [
    "### Salvar e carregar aprendizado de máquina modelos"
   ]
  },
  {
   "attachments": {},
   "cell_type": "markdown",
   "metadata": {},
   "source": [
    "Encontrar um modelo preciso de aprendizado de máquina não é o fim do projeto. Neste capítulo você\n",
    "descobrirá como salvar e carregar seu modelo de aprendizado de máquina em Python usando o scikit-learn.\n",
    "Isso permite que você salve seu modelo em um arquivo e carregue-o mais tarde para fazer previsões. Depois\n",
    "concluindo esta lição você saberá:\n",
    "\n",
    "1. A importância de serializar modelos para reutilização.\n",
    "2. Como usar pickle para serializar e desserializar modelos de aprendizado de máquina.\n",
    "3. Como usar Joblib para serializar e desserializar modelos de aprendizado de máquina."
   ]
  },
  {
   "attachments": {},
   "cell_type": "markdown",
   "metadata": {},
   "source": [
    "#### Finalize seu modelo com pickle"
   ]
  },
  {
   "attachments": {},
   "cell_type": "markdown",
   "metadata": {},
   "source": [
    "Pickle é a maneira padrão de serializar objetos em Python. Você pode usar a operação pickle1\n",
    "para serializar seus algoritmos de aprendizado de máquina e salvar o formato serializado em um arquivo. Mais tarde você\n",
    "pode carregar este arquivo para desserializar seu modelo e usá-lo para fazer novas previsões. O exemplo\n",
    "abaixo demonstra como você pode treinar um modelo de regressão logística no início dos índios Pima\n",
    "conjunto de dados de diabetes, salve o modelo em arquivo e carregue-o para fazer previsões no conjunto de teste não visto."
   ]
  },
  {
   "cell_type": "code",
   "execution_count": 1,
   "metadata": {},
   "outputs": [
    {
     "name": "stdout",
     "output_type": "stream",
     "text": [
      "0.7874015748031497\n"
     ]
    }
   ],
   "source": [
    "# Save Model Using Pickle\n",
    "from pandas import read_csv\n",
    "from sklearn.model_selection import train_test_split\n",
    "from sklearn.linear_model import LogisticRegression\n",
    "from pickle import dump\n",
    "from pickle import load\n",
    "\n",
    "import warnings\n",
    "warnings.filterwarnings('ignore')\n",
    "\n",
    "filename = 'datasets/pima-indians-diabetes.csv'\n",
    "names = ['preg', 'plas', 'pres',\n",
    "         'skin', 'test', 'mass',\n",
    "         'pedi', 'age', 'class']\n",
    "\n",
    "dataframe = read_csv(filename, names=names)\n",
    "array = dataframe.values\n",
    "X = array[:,0:8]\n",
    "Y = array[:,8]\n",
    "X_train, X_test, Y_train, Y_test = train_test_split(X, Y, test_size=0.33, random_state=7)\n",
    "\n",
    "# Fit the model on 33%\n",
    "model = LogisticRegression()\n",
    "model.fit(X_train, Y_train)\n",
    "\n",
    "# save the model to disk\n",
    "filename = 'model/finalized_model.sav'\n",
    "dump(model, open(filename, 'wb'))\n",
    "\n",
    "# load the model from disk\n",
    "loaded_model = load(open(filename, 'rb'))\n",
    "result = loaded_model.score(X_test, Y_test)\n",
    "print(result)"
   ]
  },
  {
   "attachments": {},
   "cell_type": "markdown",
   "metadata": {},
   "source": [
    "A execução do exemplo salva o modelo no model.sav finalizado em seu local de trabalho\n",
    "diretório. Carregar o modelo salvo e avaliá-lo fornece uma estimativa de precisão do modelo\n",
    "em dados não vistos."
   ]
  },
  {
   "attachments": {},
   "cell_type": "markdown",
   "metadata": {},
   "source": [
    "#### Finalize seu modelo com Joblib"
   ]
  },
  {
   "attachments": {},
   "cell_type": "markdown",
   "metadata": {},
   "source": [
    "A biblioteca Joblib2 faz parte do ecossistema SciPy e fornece utilitários para pipelining Python\n",
    "empregos. Ele fornece utilitários para salvar e carregar objetos Python que usam dados NumPy\n",
    "estruturas, com eficiência3. Isso pode ser útil para alguns algoritmos de aprendizado de máquina que exigem um\n",
    "muitos parâmetros ou armazenar todo o conjunto de dados (por exemplo, k-vizinhos mais próximos). O exemplo abaixo\n",
    "demonstra como você pode treinar um modelo de regressão logística no início do diabetes dos índios Pima\n",
    "conjunto de dados, salve o modelo em arquivo usando Joblib e carregue-o para fazer previsões no teste invisível\n",
    "definir."
   ]
  },
  {
   "cell_type": "code",
   "execution_count": 4,
   "metadata": {},
   "outputs": [
    {
     "name": "stdout",
     "output_type": "stream",
     "text": [
      "0.7874015748031497\n"
     ]
    }
   ],
   "source": [
    "# Save Model Using joblib\n",
    "from pandas import read_csv\n",
    "from sklearn.model_selection import train_test_split\n",
    "from sklearn.linear_model import LogisticRegression\n",
    "import joblib \n",
    "\n",
    "\n",
    "import warnings\n",
    "warnings.filterwarnings('ignore')\n",
    "\n",
    "filename = 'datasets/pima-indians-diabetes.csv'\n",
    "names = ['preg', 'plas', 'pres',\n",
    "         'skin', 'test', 'mass',\n",
    "         'pedi', 'age', 'class']\n",
    "\n",
    "dataframe = read_csv(filename, names=names)\n",
    "array = dataframe.values\n",
    "X = array[:,0:8]\n",
    "Y = array[:,8]\n",
    "X_train, X_test, Y_train, Y_test = train_test_split(X, Y, test_size=0.33, random_state=7)\n",
    "# Fit the model on 33%\n",
    "model = LogisticRegression()\n",
    "model.fit(X_train, Y_train) \n",
    "\n",
    "# save the model to disk\n",
    "filename = 'model/finalized_model-2.sav'\n",
    "joblib.dump(model, filename)\n",
    "\n",
    "# some time later...\n",
    "# load the model from disk\n",
    "loaded_model = joblib.load(filename)\n",
    "result = loaded_model.score(X_test, Y_test)\n",
    "print(result)"
   ]
  },
  {
   "attachments": {},
   "cell_type": "markdown",
   "metadata": {},
   "source": [
    "A execução do exemplo salva o modelo no arquivo como model.sav finalizado e também cria um\n",
    "arquivo para cada matriz NumPy no modelo (quatro arquivos adicionais). Depois que o modelo é carregado, um\n",
    "estimativa da precisão do modelo em dados não vistos é relatada."
   ]
  },
  {
   "attachments": {},
   "cell_type": "markdown",
   "metadata": {},
   "source": [
    "#### Dicas para finalizar seu modelo"
   ]
  },
  {
   "attachments": {},
   "cell_type": "markdown",
   "metadata": {},
   "source": [
    "Esta seção lista algumas considerações importantes ao nalizar seus modelos de aprendizado de máquina.\n",
    "\n",
    ". Versão Python. Tome nota da versão do Python. Você quase certamente precisa do\n",
    "mesma versão principal (e talvez secundária) do Python usada para serializar o modelo quando você\n",
    "depois carregue-o e desserialize-o.\n",
    "\n",
    ". Versões da biblioteca. A versão de todas as principais bibliotecas usadas em seu aprendizado de máquina\n",
    "quase certamente precisa ser o mesmo ao desserializar um modelo salvo. Isso é\n",
    "não limitado à versão do NumPy e à versão do scikit-learn.\n",
    "\n",
    ". Serialização Manual. Você pode querer enviar manualmente os parâmetros do seu\n",
    "modelo aprendido para que você possa usá-los diretamente no scikit-learn ou em outra plataforma\n",
    "o futuro. Muitas vezes, as técnicas usadas internamente pelos algoritmos de aprendizado de máquina para fazer\n",
    "as previsões são muito mais simples do que aquelas usadas para aprender os parâmetros podem ser fáceis de\n",
    "implemente no código personalizado sobre o qual você tem controle.\n",
    "\n",
    "Anote a versão para que você possa recriar o ambiente se por algum motivo você\n",
    "não pode recarregar seu modelo em outra máquina ou outra plataforma posteriormente."
   ]
  },
  {
   "cell_type": "code",
   "execution_count": 5,
   "metadata": {},
   "outputs": [
    {
     "name": "stdout",
     "output_type": "stream",
     "text": [
      "Github username: caiquemiranda\n",
      "\n",
      "joblib: 1.1.0\n",
      "\n"
     ]
    }
   ],
   "source": [
    "%reload_ext watermark\n",
    "%watermark -gu \"caiquemiranda\" -iv"
   ]
  },
  {
   "attachments": {},
   "cell_type": "markdown",
   "metadata": {},
   "source": [
    "### End."
   ]
  }
 ],
 "metadata": {
  "kernelspec": {
   "display_name": "Python 3",
   "language": "python",
   "name": "python3"
  },
  "language_info": {
   "codemirror_mode": {
    "name": "ipython",
    "version": 3
   },
   "file_extension": ".py",
   "mimetype": "text/x-python",
   "name": "python",
   "nbconvert_exporter": "python",
   "pygments_lexer": "ipython3",
   "version": "3.10.5"
  },
  "orig_nbformat": 4
 },
 "nbformat": 4,
 "nbformat_minor": 2
}
