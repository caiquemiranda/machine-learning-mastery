{
 "cells": [
  {
   "attachments": {},
   "cell_type": "markdown",
   "metadata": {},
   "source": [
    "### Aprendizado de máquina de classificação binária Projeto de estudo de caso"
   ]
  },
  {
   "attachments": {},
   "cell_type": "markdown",
   "metadata": {},
   "source": [
    "Como você trabalha com um problema de aprendizado de máquina de modelagem preditiva de ponta a ponta? Nisso\n",
    "lição você trabalhará com um problema de modelagem preditiva de classificação de estudo de caso em Python\n",
    "incluindo cada etapa do processo de aprendizado de máquina aplicado. Depois de concluir este projeto, você\n",
    "saberá:\n",
    "\n",
    ". Como trabalhar com um problema de modelagem preditiva de classificação de ponta a ponta.\n",
    ". Como usar transformações de dados para melhorar o desempenho do modelo.\n",
    ". Como usar o ajuste de algoritmo para melhorar o desempenho do modelo.\n",
    ". Como usar métodos de conjunto e ajuste de métodos de conjunto para melhorar o desempenho do modelo\n",
    "mance."
   ]
  },
  {
   "attachments": {},
   "cell_type": "markdown",
   "metadata": {},
   "source": [
    "#### Definição do Problema"
   ]
  },
  {
   "attachments": {},
   "cell_type": "markdown",
   "metadata": {},
   "source": [
    "O foco deste projeto será o conjunto de dados Sonar Mines vs Rocks1. O problema é prever\n",
    "objetos de metal ou rocha dos dados de retorno do sonar. Cada padrão é um conjunto de 60 números no intervalo\n",
    "0,0 a 1,0. Cada número representa a energia dentro de uma determinada banda de frequência, integrada\n",
    "durante um determinado período de tempo. O rótulo associado a cada registro contém a letra R se\n",
    "o objeto é uma rocha e M se for uma mina (cilindro de metal). Os números nas etiquetas estão em\n",
    "ordem crescente do ângulo de aspecto, mas eles não codificam o ângulo diretamente."
   ]
  },
  {
   "attachments": {},
   "cell_type": "markdown",
   "metadata": {},
   "source": [
    "#### Carregar o conjunto de dados"
   ]
  },
  {
   "attachments": {},
   "cell_type": "markdown",
   "metadata": {},
   "source": [
    "Vamos começar carregando as bibliotecas necessárias para este projeto."
   ]
  },
  {
   "cell_type": "code",
   "execution_count": 1,
   "metadata": {},
   "outputs": [],
   "source": [
    "# Load libraries\n",
    "import numpy\n",
    "from matplotlib import pyplot\n",
    "from pandas import read_csv\n",
    "from pandas import set_option\n",
    "from pandas.plotting import scatter_matrix\n",
    "from sklearn.preprocessing import StandardScaler\n",
    "from sklearn.model_selection import train_test_split\n",
    "from sklearn.model_selection import KFold\n",
    "from sklearn.model_selection import cross_val_score\n",
    "from sklearn.model_selection import GridSearchCV\n",
    "from sklearn.metrics import classification_report\n",
    "from sklearn.metrics import confusion_matrix\n",
    "from sklearn.metrics import accuracy_score\n",
    "from sklearn.pipeline import Pipeline\n",
    "from sklearn.linear_model import LogisticRegression\n",
    "from sklearn.tree import DecisionTreeClassifier\n",
    "from sklearn.neighbors import KNeighborsClassifier\n",
    "from sklearn.discriminant_analysis import LinearDiscriminantAnalysis\n",
    "from sklearn.naive_bayes import GaussianNB\n",
    "from sklearn.svm import SVC\n",
    "from sklearn.ensemble import AdaBoostClassifier\n",
    "from sklearn.ensemble import GradientBoostingClassifier\n",
    "from sklearn.ensemble import RandomForestClassifier\n",
    "from sklearn.ensemble import ExtraTreesClassifier"
   ]
  },
  {
   "attachments": {},
   "cell_type": "markdown",
   "metadata": {},
   "source": [
    "Você pode baixar o conjunto de dados do site do repositório UCI Machine Learning2 e salvar\n",
    "no diretório de trabalho local com o nome de arquivo sonar.all-data.csv."
   ]
  },
  {
   "cell_type": "code",
   "execution_count": 2,
   "metadata": {},
   "outputs": [],
   "source": [
    "# Load dataset\n",
    "url = 'datasets/sonar.all-data.csv'\n",
    "dataset = read_csv(url, header=None)"
   ]
  },
  {
   "attachments": {},
   "cell_type": "markdown",
   "metadata": {},
   "source": [
    "Você pode ver que não estamos especificando os nomes dos atributos desta vez. Isto é porque\n",
    "além do atributo de classe (a última coluna), as variáveis não possuem nomes significativos.\n",
    "Também indicamos que não há informações de cabeçalho, isso é para evitar que o código de carregamento do arquivo leve o\n",
    "primeiro registro como os nomes das colunas. Agora que carregamos o conjunto de dados, podemos dar uma olhada nele."
   ]
  },
  {
   "attachments": {},
   "cell_type": "markdown",
   "metadata": {},
   "source": [
    "#### Analisar dados"
   ]
  },
  {
   "attachments": {},
   "cell_type": "markdown",
   "metadata": {},
   "source": [
    "Vamos dar uma olhada em nossos dados carregados."
   ]
  },
  {
   "attachments": {},
   "cell_type": "markdown",
   "metadata": {},
   "source": [
    "#### Estatísticas descritivas"
   ]
  },
  {
   "attachments": {},
   "cell_type": "markdown",
   "metadata": {},
   "source": [
    "Começaremos confirmando as dimensões do conjunto de dados, por ex. o número de linhas e\n",
    "colunas."
   ]
  },
  {
   "cell_type": "code",
   "execution_count": 3,
   "metadata": {},
   "outputs": [
    {
     "name": "stdout",
     "output_type": "stream",
     "text": [
      "(208, 61)\n"
     ]
    }
   ],
   "source": [
    "# shape\n",
    "print(dataset.shape)"
   ]
  },
  {
   "attachments": {},
   "cell_type": "markdown",
   "metadata": {},
   "source": [
    "Temos 208 instâncias para trabalhar e podemos confirmar que os dados têm 61 atributos, incluindo\n",
    "o atributo de classe."
   ]
  },
  {
   "attachments": {},
   "cell_type": "markdown",
   "metadata": {},
   "source": [
    "Vejamos também os tipos de dados de cada atributo."
   ]
  },
  {
   "cell_type": "code",
   "execution_count": 4,
   "metadata": {},
   "outputs": [
    {
     "name": "stdout",
     "output_type": "stream",
     "text": [
      "0     float64\n",
      "1     float64\n",
      "2     float64\n",
      "3     float64\n",
      "4     float64\n",
      "5     float64\n",
      "6     float64\n",
      "7     float64\n",
      "8     float64\n",
      "9     float64\n",
      "10    float64\n",
      "11    float64\n",
      "12    float64\n",
      "13    float64\n",
      "14    float64\n",
      "15    float64\n",
      "16    float64\n",
      "17    float64\n",
      "18    float64\n",
      "19    float64\n",
      "20    float64\n",
      "21    float64\n",
      "22    float64\n",
      "23    float64\n",
      "24    float64\n",
      "25    float64\n",
      "26    float64\n",
      "27    float64\n",
      "28    float64\n",
      "29    float64\n",
      "30    float64\n",
      "31    float64\n",
      "32    float64\n",
      "33    float64\n",
      "34    float64\n",
      "35    float64\n",
      "36    float64\n",
      "37    float64\n",
      "38    float64\n",
      "39    float64\n",
      "40    float64\n",
      "41    float64\n",
      "42    float64\n",
      "43    float64\n",
      "44    float64\n",
      "45    float64\n",
      "46    float64\n",
      "47    float64\n",
      "48    float64\n",
      "49    float64\n",
      "50    float64\n",
      "51    float64\n",
      "52    float64\n",
      "53    float64\n",
      "54    float64\n",
      "55    float64\n",
      "56    float64\n",
      "57    float64\n",
      "58    float64\n",
      "59    float64\n",
      "60     object\n",
      "dtype: object\n"
     ]
    }
   ],
   "source": [
    "# types\n",
    "set_option('display.max_rows', 500)\n",
    "print(dataset.dtypes)"
   ]
  },
  {
   "attachments": {},
   "cell_type": "markdown",
   "metadata": {},
   "source": [
    "Podemos ver que todos os atributos são numéricos (aveia) e que o valor da classe foi\n",
    "lido como um objeto."
   ]
  },
  {
   "attachments": {},
   "cell_type": "markdown",
   "metadata": {},
   "source": [
    "Vamos agora dar uma olhada nas primeiras 20 linhas dos dados."
   ]
  },
  {
   "cell_type": "code",
   "execution_count": 5,
   "metadata": {},
   "outputs": [
    {
     "name": "stdout",
     "output_type": "stream",
     "text": [
      "        0       1       2       3       4       5       6       7       8       9   ...      51  \\\n",
      "0   0.0200  0.0371  0.0428  0.0207  0.0954  0.0986  0.1539  0.1601  0.3109  0.2111  ...  0.0027   \n",
      "1   0.0453  0.0523  0.0843  0.0689  0.1183  0.2583  0.2156  0.3481  0.3337  0.2872  ...  0.0084   \n",
      "2   0.0262  0.0582  0.1099  0.1083  0.0974  0.2280  0.2431  0.3771  0.5598  0.6194  ...  0.0232   \n",
      "3   0.0100  0.0171  0.0623  0.0205  0.0205  0.0368  0.1098  0.1276  0.0598  0.1264  ...  0.0121   \n",
      "4   0.0762  0.0666  0.0481  0.0394  0.0590  0.0649  0.1209  0.2467  0.3564  0.4459  ...  0.0031   \n",
      "5   0.0286  0.0453  0.0277  0.0174  0.0384  0.0990  0.1201  0.1833  0.2105  0.3039  ...  0.0045   \n",
      "6   0.0317  0.0956  0.1321  0.1408  0.1674  0.1710  0.0731  0.1401  0.2083  0.3513  ...  0.0201   \n",
      "7   0.0519  0.0548  0.0842  0.0319  0.1158  0.0922  0.1027  0.0613  0.1465  0.2838  ...  0.0081   \n",
      "8   0.0223  0.0375  0.0484  0.0475  0.0647  0.0591  0.0753  0.0098  0.0684  0.1487  ...  0.0145   \n",
      "9   0.0164  0.0173  0.0347  0.0070  0.0187  0.0671  0.1056  0.0697  0.0962  0.0251  ...  0.0090   \n",
      "10  0.0039  0.0063  0.0152  0.0336  0.0310  0.0284  0.0396  0.0272  0.0323  0.0452  ...  0.0062   \n",
      "11  0.0123  0.0309  0.0169  0.0313  0.0358  0.0102  0.0182  0.0579  0.1122  0.0835  ...  0.0133   \n",
      "12  0.0079  0.0086  0.0055  0.0250  0.0344  0.0546  0.0528  0.0958  0.1009  0.1240  ...  0.0176   \n",
      "13  0.0090  0.0062  0.0253  0.0489  0.1197  0.1589  0.1392  0.0987  0.0955  0.1895  ...  0.0059   \n",
      "14  0.0124  0.0433  0.0604  0.0449  0.0597  0.0355  0.0531  0.0343  0.1052  0.2120  ...  0.0083   \n",
      "15  0.0298  0.0615  0.0650  0.0921  0.1615  0.2294  0.2176  0.2033  0.1459  0.0852  ...  0.0031   \n",
      "16  0.0352  0.0116  0.0191  0.0469  0.0737  0.1185  0.1683  0.1541  0.1466  0.2912  ...  0.0346   \n",
      "17  0.0192  0.0607  0.0378  0.0774  0.1388  0.0809  0.0568  0.0219  0.1037  0.1186  ...  0.0331   \n",
      "18  0.0270  0.0092  0.0145  0.0278  0.0412  0.0757  0.1026  0.1138  0.0794  0.1520  ...  0.0084   \n",
      "19  0.0126  0.0149  0.0641  0.1732  0.2565  0.2559  0.2947  0.4110  0.4983  0.5920  ...  0.0092   \n",
      "\n",
      "        52      53      54      55      56      57      58      59  60  \n",
      "0   0.0065  0.0159  0.0072  0.0167  0.0180  0.0084  0.0090  0.0032   R  \n",
      "1   0.0089  0.0048  0.0094  0.0191  0.0140  0.0049  0.0052  0.0044   R  \n",
      "2   0.0166  0.0095  0.0180  0.0244  0.0316  0.0164  0.0095  0.0078   R  \n",
      "3   0.0036  0.0150  0.0085  0.0073  0.0050  0.0044  0.0040  0.0117   R  \n",
      "4   0.0054  0.0105  0.0110  0.0015  0.0072  0.0048  0.0107  0.0094   R  \n",
      "5   0.0014  0.0038  0.0013  0.0089  0.0057  0.0027  0.0051  0.0062   R  \n",
      "6   0.0248  0.0131  0.0070  0.0138  0.0092  0.0143  0.0036  0.0103   R  \n",
      "7   0.0120  0.0045  0.0121  0.0097  0.0085  0.0047  0.0048  0.0053   R  \n",
      "8   0.0128  0.0145  0.0058  0.0049  0.0065  0.0093  0.0059  0.0022   R  \n",
      "9   0.0223  0.0179  0.0084  0.0068  0.0032  0.0035  0.0056  0.0040   R  \n",
      "10  0.0120  0.0052  0.0056  0.0093  0.0042  0.0003  0.0053  0.0036   R  \n",
      "11  0.0265  0.0224  0.0074  0.0118  0.0026  0.0092  0.0009  0.0044   R  \n",
      "12  0.0127  0.0088  0.0098  0.0019  0.0059  0.0058  0.0059  0.0032   R  \n",
      "13  0.0095  0.0194  0.0080  0.0152  0.0158  0.0053  0.0189  0.0102   R  \n",
      "14  0.0057  0.0174  0.0188  0.0054  0.0114  0.0196  0.0147  0.0062   R  \n",
      "15  0.0153  0.0071  0.0212  0.0076  0.0152  0.0049  0.0200  0.0073   R  \n",
      "16  0.0158  0.0154  0.0109  0.0048  0.0095  0.0015  0.0073  0.0067   R  \n",
      "17  0.0131  0.0120  0.0108  0.0024  0.0045  0.0037  0.0112  0.0075   R  \n",
      "18  0.0010  0.0018  0.0068  0.0039  0.0120  0.0132  0.0070  0.0088   R  \n",
      "19  0.0035  0.0098  0.0121  0.0006  0.0181  0.0094  0.0116  0.0063   R  \n",
      "\n",
      "[20 rows x 61 columns]\n"
     ]
    }
   ],
   "source": [
    "# head\n",
    "set_option('display.width', 100)\n",
    "print(dataset.head(20))"
   ]
  },
  {
   "attachments": {},
   "cell_type": "markdown",
   "metadata": {},
   "source": [
    "Isso não mostra todas as colunas, mas podemos ver que todos os dados têm a mesma escala. Nós\n",
    "também pode ver que o atributo de classe (60) tem valores de string."
   ]
  },
  {
   "attachments": {},
   "cell_type": "markdown",
   "metadata": {},
   "source": [
    "Vamos resumir a distribuição de cada atributo."
   ]
  },
  {
   "cell_type": "code",
   "execution_count": 8,
   "metadata": {},
   "outputs": [
    {
     "name": "stdout",
     "output_type": "stream",
     "text": [
      "            0          1        2        3        4        5        6        7        8        9   \\\n",
      "count  208.000  2.080e+02  208.000  208.000  208.000  208.000  208.000  208.000  208.000  208.000   \n",
      "mean     0.029  3.844e-02    0.044    0.054    0.075    0.105    0.122    0.135    0.178    0.208   \n",
      "std      0.023  3.296e-02    0.038    0.047    0.056    0.059    0.062    0.085    0.118    0.134   \n",
      "min      0.002  6.000e-04    0.002    0.006    0.007    0.010    0.003    0.005    0.007    0.011   \n",
      "25%      0.013  1.645e-02    0.019    0.024    0.038    0.067    0.081    0.080    0.097    0.111   \n",
      "50%      0.023  3.080e-02    0.034    0.044    0.062    0.092    0.107    0.112    0.152    0.182   \n",
      "75%      0.036  4.795e-02    0.058    0.065    0.100    0.134    0.154    0.170    0.233    0.269   \n",
      "max      0.137  2.339e-01    0.306    0.426    0.401    0.382    0.373    0.459    0.683    0.711   \n",
      "\n",
      "       ...       50         51         52       53         54         55         56         57  \\\n",
      "count  ...  208.000  2.080e+02  2.080e+02  208.000  2.080e+02  2.080e+02  2.080e+02  2.080e+02   \n",
      "mean   ...    0.016  1.342e-02  1.071e-02    0.011  9.290e-03  8.222e-03  7.820e-03  7.949e-03   \n",
      "std    ...    0.012  9.634e-03  7.060e-03    0.007  7.088e-03  5.736e-03  5.785e-03  6.470e-03   \n",
      "min    ...    0.000  8.000e-04  5.000e-04    0.001  6.000e-04  4.000e-04  3.000e-04  3.000e-04   \n",
      "25%    ...    0.008  7.275e-03  5.075e-03    0.005  4.150e-03  4.400e-03  3.700e-03  3.600e-03   \n",
      "50%    ...    0.014  1.140e-02  9.550e-03    0.009  7.500e-03  6.850e-03  5.950e-03  5.800e-03   \n",
      "75%    ...    0.021  1.673e-02  1.490e-02    0.015  1.210e-02  1.058e-02  1.043e-02  1.035e-02   \n",
      "max    ...    0.100  7.090e-02  3.900e-02    0.035  4.470e-02  3.940e-02  3.550e-02  4.400e-02   \n",
      "\n",
      "              58         59  \n",
      "count  2.080e+02  2.080e+02  \n",
      "mean   7.941e-03  6.507e-03  \n",
      "std    6.181e-03  5.031e-03  \n",
      "min    1.000e-04  6.000e-04  \n",
      "25%    3.675e-03  3.100e-03  \n",
      "50%    6.400e-03  5.300e-03  \n",
      "75%    1.033e-02  8.525e-03  \n",
      "max    3.640e-02  4.390e-02  \n",
      "\n",
      "[8 rows x 60 columns]\n"
     ]
    }
   ],
   "source": [
    "# descriptions, change precision to 3 places\n",
    "set_option('display.precision', 3)\n",
    "print(dataset.describe())"
   ]
  },
  {
   "attachments": {},
   "cell_type": "markdown",
   "metadata": {},
   "source": [
    "Novamente, como esperamos, os dados têm o mesmo intervalo, mas valores médios curiosamente diferentes.\n",
    "Pode haver algum benefício em padronizar os dados."
   ]
  },
  {
   "attachments": {},
   "cell_type": "markdown",
   "metadata": {},
   "source": [
    "Vamos dar uma olhada rápida na divisão dos valores de classe."
   ]
  },
  {
   "cell_type": "code",
   "execution_count": 9,
   "metadata": {},
   "outputs": [
    {
     "name": "stdout",
     "output_type": "stream",
     "text": [
      "60\n",
      "M    111\n",
      "R     97\n",
      "dtype: int64\n"
     ]
    }
   ],
   "source": [
    "# class distribution\n",
    "print(dataset.groupby(60).size())"
   ]
  },
  {
   "attachments": {},
   "cell_type": "markdown",
   "metadata": {},
   "source": [
    "Podemos ver que as classes estão razoavelmente equilibradas entre M (minas) e R (rochas)."
   ]
  },
  {
   "attachments": {},
   "cell_type": "markdown",
   "metadata": {},
   "source": [
    "##### Visualizações de dados unimodais"
   ]
  },
  {
   "attachments": {},
   "cell_type": "markdown",
   "metadata": {},
   "source": [
    "Vejamos as visualizações de atributos individuais. Muitas vezes é útil olhar para os seus dados\n",
    "usando várias visualizações diferentes para gerar ideias. Vejamos os histogramas de cada\n",
    "atributo para obter uma noção das distribuições de dados."
   ]
  },
  {
   "cell_type": "code",
   "execution_count": 10,
   "metadata": {},
   "outputs": [
    {
     "data": {
      "image/png": "[encoded data removed]",
      "text/plain": [
       "<Figure size 432x288 with 64 Axes>"
      ]
     },
     "metadata": {
      "needs_background": "light"
     },
     "output_type": "display_data"
    }
   ],
   "source": [
    "# histograms\n",
    "dataset.hist(sharex=False, sharey=False, xlabelsize=1, ylabelsize=1)\n",
    "pyplot.show()"
   ]
  },
  {
   "attachments": {},
   "cell_type": "markdown",
   "metadata": {},
   "source": [
    "Podemos ver que há muitas distribuições gaussianas e talvez algumas exponenciais.\n",
    "como distribuições para outros atributos."
   ]
  },
  {
   "attachments": {},
   "cell_type": "markdown",
   "metadata": {},
   "source": [
    "Vamos dar uma olhada na mesma perspectiva dos dados usando gráficos de densidade."
   ]
  },
  {
   "cell_type": "code",
   "execution_count": 11,
   "metadata": {},
   "outputs": [
    {
     "data": {
      "image/png": "[encoded data removed]",
      "text/plain": [
       "<Figure size 432x288 with 64 Axes>"
      ]
     },
     "metadata": {
      "needs_background": "light"
     },
     "output_type": "display_data"
    }
   ],
   "source": [
    "# density\n",
    "dataset.plot(kind='density', subplots=True, layout=(8,8), sharex=False, legend=False,\n",
    "fontsize=1)\n",
    "pyplot.show()"
   ]
  },
  {
   "attachments": {},
   "cell_type": "markdown",
   "metadata": {},
   "source": [
    "Isso é útil, você pode ver que muitos dos atributos têm uma distribuição distorcida. Um poder\n",
    "transformar como uma transformação Box-Cox que pode corrigir a distorção nas distribuições pode ser\n",
    "útil."
   ]
  },
  {
   "attachments": {},
   "cell_type": "markdown",
   "metadata": {},
   "source": [
    "É sempre bom olhar para gráficos de caixa e bigodes de atributos numéricos para ter uma ideia de\n",
    "a propagação de valores."
   ]
  },
  {
   "cell_type": "code",
   "execution_count": 18,
   "metadata": {},
   "outputs": [
    {
     "data": {
      "image/png": "[encoded data removed]",
      "text/plain": [
       "<Figure size 432x288 with 1 Axes>"
      ]
     },
     "metadata": {
      "needs_background": "light"
     },
     "output_type": "display_data"
    }
   ],
   "source": [
    "# box and whisker plots\n",
    "dataset.plot.box()\n",
    "\n",
    "pyplot.show()"
   ]
  },
  {
   "attachments": {},
   "cell_type": "markdown",
   "metadata": {},
   "source": [
    "Podemos ver que os atributos têm spreads bastante diferentes. Como as escalas são iguais,\n",
    "pode sugerir algum benefício em padronizar os dados para modelagem para obter todas as médias alinhadas\n",
    "acima"
   ]
  },
  {
   "attachments": {},
   "cell_type": "markdown",
   "metadata": {},
   "source": [
    "##### Visualizações de dados multimodais"
   ]
  },
  {
   "attachments": {},
   "cell_type": "markdown",
   "metadata": {},
   "source": [
    "Vamos visualizar as correlações entre os atributos."
   ]
  },
  {
   "cell_type": "code",
   "execution_count": 19,
   "metadata": {},
   "outputs": [
    {
     "data": {
      "image/png": "[encoded data removed]",
      "text/plain": [
       "<Figure size 432x288 with 2 Axes>"
      ]
     },
     "metadata": {
      "needs_background": "light"
     },
     "output_type": "display_data"
    }
   ],
   "source": [
    "# correlation matrix\n",
    "fig = pyplot.figure()\n",
    "ax = fig.add_subplot(111)\n",
    "cax = ax.matshow(dataset.corr(), vmin=-1, vmax=1, interpolation='none')\n",
    "fig.colorbar(cax)\n",
    "pyplot.show()"
   ]
  },
  {
   "attachments": {},
   "cell_type": "markdown",
   "metadata": {},
   "source": [
    "Parece que também há alguma estrutura na ordem dos atributos. O vermelho ao redor\n",
    "a diagonal sugere que os atributos que estão próximos uns dos outros são geralmente mais correlacionados\n",
    "um com o outro. As manchas azuis também sugerem alguma correlação negativa moderada quanto mais\n",
    "os atributos estão distantes um do outro na ordenação. Isso faz sentido se a ordem do\n",
    "Os atributos referem-se ao ângulo dos sensores para o chirp do sonar."
   ]
  },
  {
   "attachments": {},
   "cell_type": "markdown",
   "metadata": {},
   "source": [
    "#### Conjunto de dados de validação"
   ]
  },
  {
   "attachments": {},
   "cell_type": "markdown",
   "metadata": {},
   "source": [
    "É uma boa ideia usar um conjunto de validação. Esta é uma amostra dos dados que mantemos\n",
    "de volta de nossa análise e modelagem. Nós o usamos logo no final do nosso projeto para con rmar o\n",
    "precisão do nosso modelo nal. É um teste de fumaça que podemos usar para ver se erramos e\n",
    "nos dê confiança em nossas estimativas de precisão em dados não vistos. Usaremos 80% do conjunto de dados\n",
    "para modelagem e reter 20% para validação."
   ]
  },
  {
   "cell_type": "code",
   "execution_count": 20,
   "metadata": {},
   "outputs": [],
   "source": [
    "# Split-out validation dataset\n",
    "array = dataset.values\n",
    "X = array[:,0:60].astype(float)\n",
    "Y = array[:,60]\n",
    "validation_size = 0.20\n",
    "seed = 7\n",
    "X_train, X_validation, Y_train, Y_validation = train_test_split(X, Y,\n",
    "test_size=validation_size, random_state=seed)"
   ]
  },
  {
   "attachments": {},
   "cell_type": "markdown",
   "metadata": {},
   "source": [
    "#### Avaliar algoritmos: linha de base"
   ]
  },
  {
   "attachments": {},
   "cell_type": "markdown",
   "metadata": {},
   "source": [
    "Não sabemos quais algoritmos se sairão bem neste conjunto de dados. A intuição sugere com base na distância\n",
    "algoritmos como k-Nearest Neighbors e Support Vector Machines podem funcionar bem. vamos projetar\n",
    "nosso arnês de teste. Usaremos validação cruzada de 10 vezes. O conjunto de dados não é muito pequeno e isso é\n",
    "uma boa configuração de chicote de teste padrão. Avaliaremos algoritmos usando a precisão\n",
    "métrica. Esta é uma métrica bruta que dará uma ideia rápida de quão correto é um determinado modelo. Mais\n",
    "útil em problemas de classificação binária como este."
   ]
  },
  {
   "cell_type": "code",
   "execution_count": 21,
   "metadata": {},
   "outputs": [],
   "source": [
    "# Test options and evaluation metric\n",
    "num_folds = 10\n",
    "seed = 7\n",
    "scoring = 'accuracy'"
   ]
  },
  {
   "attachments": {},
   "cell_type": "markdown",
   "metadata": {},
   "source": [
    "Vamos criar uma linha de base de desempenho neste problema e verificar no local uma série de diferentes\n",
    "algoritmos. Vamos selecionar um conjunto de diferentes algoritmos capazes de trabalhar nesta classificação\n",
    "problema. Os seis algoritmos selecionados incluem:\n",
    "\n",
    ". Algoritmos Lineares: Regressão Logística (LR) e Análise Discriminante Linear (LDA).\n",
    ". Algoritmos Não Lineares: Árvores de Classificação e Regressão (CART), Vetor de Suporte\n",
    "Machines (SVM), Gaussian Naive Bayes (NB) e k-Nearest Neighbors (KNN)."
   ]
  },
  {
   "cell_type": "code",
   "execution_count": 22,
   "metadata": {},
   "outputs": [],
   "source": [
    "# Spot-Check Algorithms\n",
    "models = []\n",
    "models.append(('LR', LogisticRegression()))\n",
    "models.append(('LDA', LinearDiscriminantAnalysis()))\n",
    "models.append(('KNN', KNeighborsClassifier()))\n",
    "models.append(('CART', DecisionTreeClassifier()))\n",
    "models.append(('NB', GaussianNB()))\n",
    "models.append(('SVM', SVC()))"
   ]
  },
  {
   "attachments": {},
   "cell_type": "markdown",
   "metadata": {},
   "source": [
    "Todos os algoritmos usam parâmetros de ajuste padrão. Vamos comparar os algoritmos. Vamos\n",
    "exibir a média e o desvio padrão de precisão para cada algoritmo à medida que o calculamos e\n",
    "coletar os resultados para uso posterior."
   ]
  },
  {
   "cell_type": "code",
   "execution_count": 24,
   "metadata": {},
   "outputs": [
    {
     "name": "stdout",
     "output_type": "stream",
     "text": [
      "LR: 0.777574 (0.088423)\n",
      "LDA: 0.778676 (0.093570)\n",
      "KNN: 0.758824 (0.106417)\n",
      "CART: 0.751471 (0.083517)\n",
      "NB: 0.682721 (0.136040)\n",
      "SVM: 0.765074 (0.087519)\n"
     ]
    }
   ],
   "source": [
    "results = []\n",
    "names = []\n",
    "for name, model in models:\n",
    "    kfold = KFold(n_splits=num_folds, random_state=seed, shuffle=True)\n",
    "    cv_results = cross_val_score(model, X_train, Y_train, cv=kfold, scoring=scoring)\n",
    "    results.append(cv_results)\n",
    "    names.append(name)\n",
    "    msg = \"%s: %f (%f)\" % (name, cv_results.mean(), cv_results.std())\n",
    "    print(msg)"
   ]
  },
  {
   "attachments": {},
   "cell_type": "markdown",
   "metadata": {},
   "source": [
    "A execução do exemplo fornece a saída abaixo. Os resultados sugerem que tanto a Logística\n",
    "A regressão e os k-vizinhos mais próximos podem valer a pena um estudo mais aprofundado."
   ]
  },
  {
   "attachments": {},
   "cell_type": "markdown",
   "metadata": {},
   "source": [
    "Estes são apenas valores médios de precisão. É sempre bom olhar para a distribuição de precisão\n",
    "valores calculados em dobras de validação cruzada. Podemos fazer isso graficamente usando caixa e bigode\n",
    "parcelas"
   ]
  },
  {
   "cell_type": "code",
   "execution_count": 25,
   "metadata": {},
   "outputs": [
    {
     "data": {
      "image/png": "[encoded data removed]",
      "text/plain": [
       "<Figure size 432x288 with 1 Axes>"
      ]
     },
     "metadata": {
      "needs_background": "light"
     },
     "output_type": "display_data"
    }
   ],
   "source": [
    "# Compare Algorithms\n",
    "fig = pyplot.figure()\n",
    "fig.suptitle('Algorithm Comparison')\n",
    "ax = fig.add_subplot(111)\n",
    "pyplot.boxplot(results)\n",
    "ax.set_xticklabels(names)\n",
    "pyplot.show()"
   ]
  },
  {
   "attachments": {},
   "cell_type": "markdown",
   "metadata": {},
   "source": [
    "Os resultados mostram uma distribuição apertada para KNN que é encorajadora, sugerindo baixa variância.\n",
    "Os maus resultados para SVM são surpreendentes."
   ]
  },
  {
   "attachments": {},
   "cell_type": "markdown",
   "metadata": {},
   "source": [
    "É possível que a distribuição variada dos atributos esteja afetando a precisão\n",
    "de algoritmos como o SVM. Na próxima seção, repetiremos essa verificação aleatória com um\n",
    "cópia do conjunto de dados de treinamento."
   ]
  },
  {
   "attachments": {},
   "cell_type": "markdown",
   "metadata": {},
   "source": [
    "#### Avaliar algoritmos: padronizar dados"
   ]
  },
  {
   "attachments": {},
   "cell_type": "markdown",
   "metadata": {},
   "source": [
    "Suspeitamos que as diferentes distribuições dos dados brutos possam estar afetando negativamente a habilidade\n",
    "de alguns dos algoritmos. Vamos avaliar os mesmos algoritmos com uma cópia padronizada do\n",
    "conjunto de dados. É aqui que os dados são transformados de forma que cada atributo tenha um valor médio de zero\n",
    "e um desvio padrão de um. Também precisamos evitar vazamento de dados quando transformamos o\n",
    "dados. Uma boa forma de evitar vazamentos é usar pipelines que padronizam os dados e constroem o\n",
    "modelo para cada dobra no chicote de teste de validação cruzada. Dessa forma, podemos obter uma estimativa justa\n",
    "de como cada modelo com dados padronizados pode funcionar em dados não vistos."
   ]
  },
  {
   "cell_type": "code",
   "execution_count": 27,
   "metadata": {},
   "outputs": [
    {
     "name": "stdout",
     "output_type": "stream",
     "text": [
      "ScaledLR: 0.754412 (0.067926)\n",
      "ScaledLDA: 0.778676 (0.093570)\n",
      "ScaledKNN: 0.808456 (0.107996)\n",
      "ScaledCART: 0.733456 (0.116240)\n",
      "ScaledNB: 0.682721 (0.136040)\n",
      "ScaledSVM: 0.826103 (0.081814)\n"
     ]
    }
   ],
   "source": [
    "# Standardize the dataset\n",
    "pipelines = []\n",
    "pipelines.append(('ScaledLR', Pipeline([('Scaler', StandardScaler()),('LR',\n",
    "LogisticRegression())])))\n",
    "pipelines.append(('ScaledLDA', Pipeline([('Scaler', StandardScaler()),('LDA',\n",
    "LinearDiscriminantAnalysis())])))\n",
    "pipelines.append(('ScaledKNN', Pipeline([('Scaler', StandardScaler()),('KNN',\n",
    "KNeighborsClassifier())])))\n",
    "pipelines.append(('ScaledCART', Pipeline([('Scaler', StandardScaler()),('CART',\n",
    "DecisionTreeClassifier())])))\n",
    "pipelines.append(('ScaledNB', Pipeline([('Scaler', StandardScaler()),('NB',\n",
    "GaussianNB())])))\n",
    "pipelines.append(('ScaledSVM', Pipeline([('Scaler', StandardScaler()),('SVM', SVC())])))\n",
    "results = []\n",
    "names = []\n",
    "for name, model in pipelines:\n",
    "    kfold = KFold(n_splits=num_folds, random_state=seed, shuffle=True)\n",
    "    cv_results = cross_val_score(model, X_train, Y_train, cv=kfold, scoring=scoring)\n",
    "    results.append(cv_results)\n",
    "    names.append(name)\n",
    "    msg = \"%s: %f (%f)\" % (name, cv_results.mean(), cv_results.std())\n",
    "    print(msg)"
   ]
  },
  {
   "attachments": {},
   "cell_type": "markdown",
   "metadata": {},
   "source": [
    "A execução do exemplo fornece os resultados listados abaixo. Podemos ver que KNN ainda está fazendo\n",
    "bem, ainda melhor do que antes. Também podemos ver que a padronização dos dados elevou\n",
    "a habilidade de SVM para ser o algoritmo mais preciso testado até agora."
   ]
  },
  {
   "attachments": {},
   "cell_type": "markdown",
   "metadata": {},
   "source": [
    "Novamente, devemos traçar a distribuição das pontuações de precisão usando gráficos de caixa e bigode."
   ]
  },
  {
   "cell_type": "code",
   "execution_count": 28,
   "metadata": {},
   "outputs": [
    {
     "data": {
      "image/png": "[encoded data removed]",
      "text/plain": [
       "<Figure size 432x288 with 1 Axes>"
      ]
     },
     "metadata": {
      "needs_background": "light"
     },
     "output_type": "display_data"
    }
   ],
   "source": [
    "# Compare Algorithms\n",
    "fig = pyplot.figure()\n",
    "fig.suptitle('Scaled Algorithm Comparison')\n",
    "ax = fig.add_subplot(111)\n",
    "pyplot.boxplot(results)\n",
    "ax.set_xticklabels(names)\n",
    "pyplot.show()"
   ]
  },
  {
   "attachments": {},
   "cell_type": "markdown",
   "metadata": {},
   "source": [
    "Os resultados sugerem aprofundar os algoritmos SVM e KNN. É muito provável que\n",
    "a configuração além do padrão pode render modelos ainda mais precisos."
   ]
  },
  {
   "attachments": {},
   "cell_type": "markdown",
   "metadata": {},
   "source": [
    "#### Ajuste de Algoritmo"
   ]
  },
  {
   "attachments": {},
   "cell_type": "markdown",
   "metadata": {},
   "source": [
    "Nesta seção, investigamos o ajuste dos parâmetros para dois algoritmos que se mostram promissores de\n",
    "a verificação pontual na seção anterior: KNN e SVM."
   ]
  },
  {
   "attachments": {},
   "cell_type": "markdown",
   "metadata": {},
   "source": [
    "##### Ajuste KNN"
   ]
  },
  {
   "attachments": {},
   "cell_type": "markdown",
   "metadata": {},
   "source": [
    "Podemos começar ajustando o número de vizinhos para KNN. O número padrão de vizinhos\n",
    "é 7. Abaixo, tentamos todos os valores ímpares de k de 1 a 21, cobrindo o valor padrão de 7. Cada valor de k\n",
    "é avaliado usando validação cruzada de 10 vezes no conjunto de dados padronizado de treinamento."
   ]
  },
  {
   "cell_type": "code",
   "execution_count": 30,
   "metadata": {},
   "outputs": [
    {
     "name": "stdout",
     "output_type": "stream",
     "text": [
      "Best: 0.836029 using {'n_neighbors': 1}\n",
      "0.836029 (0.079487) with: {'n_neighbors': 1}\n",
      "0.813603 (0.088021) with: {'n_neighbors': 3}\n",
      "0.814338 (0.096870) with: {'n_neighbors': 5}\n",
      "0.777574 (0.120387) with: {'n_neighbors': 7}\n",
      "0.730147 (0.099376) with: {'n_neighbors': 9}\n",
      "0.741544 (0.073970) with: {'n_neighbors': 11}\n",
      "0.710662 (0.105829) with: {'n_neighbors': 13}\n",
      "0.723162 (0.080983) with: {'n_neighbors': 15}\n",
      "0.698897 (0.072669) with: {'n_neighbors': 17}\n",
      "0.710662 (0.091337) with: {'n_neighbors': 19}\n",
      "0.698897 (0.091195) with: {'n_neighbors': 21}\n"
     ]
    }
   ],
   "source": [
    "# Tune scaled KNN\n",
    "scaler = StandardScaler().fit(X_train)\n",
    "rescaledX = scaler.transform(X_train)\n",
    "neighbors = [1,3,5,7,9,11,13,15,17,19,21]\n",
    "param_grid = dict(n_neighbors=neighbors)\n",
    "model = KNeighborsClassifier()\n",
    "kfold = KFold(n_splits=num_folds, random_state=seed,shuffle=True)\n",
    "grid = GridSearchCV(estimator=model, param_grid=param_grid, scoring=scoring, cv=kfold)\n",
    "grid_result = grid.fit(rescaledX, Y_train)\n",
    "print(\"Best: %f using %s\" % (grid_result.best_score_, grid_result.best_params_))\n",
    "means = grid_result.cv_results_['mean_test_score']\n",
    "stds = grid_result.cv_results_['std_test_score']\n",
    "params = grid_result.cv_results_['params']\n",
    "for mean, stdev, param in zip(means, stds, params):\n",
    "    print(\"%f (%f) with: %r\" % (mean, stdev, param))"
   ]
  },
  {
   "attachments": {},
   "cell_type": "markdown",
   "metadata": {},
   "source": [
    "Podemos imprimir a configuração que resultou na maior precisão, bem como a precisão\n",
    "de todos os valores experimentados. Executando o exemplo, vemos os resultados abaixo."
   ]
  },
  {
   "attachments": {},
   "cell_type": "markdown",
   "metadata": {},
   "source": [
    "Podemos ver que a configuração ótima é K=1. Isso é interessante, pois o algoritmo\n",
    "faça previsões usando a instância mais semelhante apenas no conjunto de dados de treinamento."
   ]
  },
  {
   "attachments": {},
   "cell_type": "markdown",
   "metadata": {},
   "source": [
    "##### Ajuste SVM"
   ]
  },
  {
   "attachments": {},
   "cell_type": "markdown",
   "metadata": {},
   "source": [
    "Podemos ajustar dois parâmetros-chave do algoritmo SVM, o valor de C (quanto relaxar o\n",
    "margin) e o tipo de kernel. O padrão para SVM (a classe SVC) é usar o Radial\n",
    "Kernel de função de base (RBF) com um valor C definido como 1,0. Como com KNN, vamos realizar uma grade\n",
    "pesquisa usando validação cruzada de 10 vezes com uma cópia padronizada do conjunto de dados de treinamento. Vamos\n",
    "tente vários tipos de kernel mais simples e valores C com menos viés e mais viés (menor que e\n",
    "mais de 1,0 respectivamente)."
   ]
  },
  {
   "cell_type": "code",
   "execution_count": 31,
   "metadata": {},
   "outputs": [
    {
     "name": "stdout",
     "output_type": "stream",
     "text": [
      "Best: 0.850000 using {'C': 1.7, 'kernel': 'rbf'}\n",
      "0.748529 (0.069953) with: {'C': 0.1, 'kernel': 'linear'}\n",
      "0.582721 (0.127062) with: {'C': 0.1, 'kernel': 'poly'}\n",
      "0.601103 (0.184435) with: {'C': 0.1, 'kernel': 'rbf'}\n",
      "0.712868 (0.116579) with: {'C': 0.1, 'kernel': 'sigmoid'}\n",
      "0.754412 (0.082337) with: {'C': 0.3, 'kernel': 'linear'}\n",
      "0.644118 (0.099873) with: {'C': 0.3, 'kernel': 'poly'}\n",
      "0.742279 (0.081853) with: {'C': 0.3, 'kernel': 'rbf'}\n",
      "0.748529 (0.069953) with: {'C': 0.3, 'kernel': 'sigmoid'}\n",
      "0.765809 (0.070336) with: {'C': 0.5, 'kernel': 'linear'}\n",
      "0.704779 (0.098225) with: {'C': 0.5, 'kernel': 'poly'}\n",
      "0.784559 (0.068922) with: {'C': 0.5, 'kernel': 'rbf'}\n",
      "0.760662 (0.065632) with: {'C': 0.5, 'kernel': 'sigmoid'}\n",
      "0.759926 (0.083206) with: {'C': 0.7, 'kernel': 'linear'}\n",
      "0.759559 (0.093807) with: {'C': 0.7, 'kernel': 'poly'}\n",
      "0.814338 (0.059832) with: {'C': 0.7, 'kernel': 'rbf'}\n",
      "0.761029 (0.079602) with: {'C': 0.7, 'kernel': 'sigmoid'}\n",
      "0.765441 (0.066964) with: {'C': 0.9, 'kernel': 'linear'}\n",
      "0.789706 (0.094189) with: {'C': 0.9, 'kernel': 'poly'}\n",
      "0.808088 (0.062884) with: {'C': 0.9, 'kernel': 'rbf'}\n",
      "0.760662 (0.079898) with: {'C': 0.9, 'kernel': 'sigmoid'}\n",
      "0.771691 (0.062141) with: {'C': 1.0, 'kernel': 'linear'}\n",
      "0.814338 (0.093230) with: {'C': 1.0, 'kernel': 'poly'}\n",
      "0.825735 (0.072291) with: {'C': 1.0, 'kernel': 'rbf'}\n",
      "0.754779 (0.085671) with: {'C': 1.0, 'kernel': 'sigmoid'}\n",
      "0.772059 (0.076696) with: {'C': 1.3, 'kernel': 'linear'}\n",
      "0.826103 (0.075722) with: {'C': 1.3, 'kernel': 'poly'}\n",
      "0.838235 (0.092498) with: {'C': 1.3, 'kernel': 'rbf'}\n",
      "0.761029 (0.075130) with: {'C': 1.3, 'kernel': 'sigmoid'}\n",
      "0.772426 (0.085441) with: {'C': 1.5, 'kernel': 'linear'}\n",
      "0.832353 (0.076911) with: {'C': 1.5, 'kernel': 'poly'}\n",
      "0.844118 (0.089455) with: {'C': 1.5, 'kernel': 'rbf'}\n",
      "0.730882 (0.080208) with: {'C': 1.5, 'kernel': 'sigmoid'}\n",
      "0.778676 (0.085856) with: {'C': 1.7, 'kernel': 'linear'}\n",
      "0.838971 (0.081826) with: {'C': 1.7, 'kernel': 'poly'}\n",
      "0.850000 (0.089841) with: {'C': 1.7, 'kernel': 'rbf'}\n",
      "0.718750 (0.087640) with: {'C': 1.7, 'kernel': 'sigmoid'}\n",
      "0.778676 (0.085856) with: {'C': 2.0, 'kernel': 'linear'}\n",
      "0.838971 (0.072879) with: {'C': 2.0, 'kernel': 'poly'}\n",
      "0.850000 (0.081776) with: {'C': 2.0, 'kernel': 'rbf'}\n",
      "0.730147 (0.056579) with: {'C': 2.0, 'kernel': 'sigmoid'}\n"
     ]
    }
   ],
   "source": [
    "# Tune scaled SVM\n",
    "scaler = StandardScaler().fit(X_train)\n",
    "rescaledX = scaler.transform(X_train)\n",
    "c_values = [0.1, 0.3, 0.5, 0.7, 0.9, 1.0, 1.3, 1.5, 1.7, 2.0]\n",
    "kernel_values = ['linear', 'poly', 'rbf', 'sigmoid']\n",
    "param_grid = dict(C=c_values, kernel=kernel_values)\n",
    "model = SVC()\n",
    "kfold = KFold(n_splits=num_folds, random_state=seed, shuffle=True)\n",
    "grid = GridSearchCV(estimator=model, param_grid=param_grid, scoring=scoring, cv=kfold)\n",
    "grid_result = grid.fit(rescaledX, Y_train)\n",
    "print(\"Best: %f using %s\" % (grid_result.best_score_, grid_result.best_params_))\n",
    "means = grid_result.cv_results_['mean_test_score']\n",
    "stds = grid_result.cv_results_['std_test_score']\n",
    "params = grid_result.cv_results_['params']\n",
    "for mean, stdev, param in zip(means, stds, params):\n",
    "    print(\"%f (%f) with: %r\" % (mean, stdev, param))"
   ]
  },
  {
   "attachments": {},
   "cell_type": "markdown",
   "metadata": {},
   "source": [
    "A execução do exemplo imprime a melhor configuração, a precisão, bem como as precisões\n",
    "para todas as combinações de configuração."
   ]
  },
  {
   "attachments": {},
   "cell_type": "markdown",
   "metadata": {},
   "source": [
    "Podemos ver que a configuração mais precisa foi SVM com um kernel RBF e um valor C\n",
    "de 1,5. A precisão de 86,7470% é aparentemente melhor do que a KNN poderia alcançar."
   ]
  },
  {
   "attachments": {},
   "cell_type": "markdown",
   "metadata": {},
   "source": [
    "#### Métodos de conjunto( Ensemble )"
   ]
  },
  {
   "attachments": {},
   "cell_type": "markdown",
   "metadata": {},
   "source": [
    "Outra maneira de melhorar o desempenho dos algoritmos nesse problema é usando\n",
    "métodos de conjunto. Nesta seção, avaliaremos quatro métodos diferentes de aprendizado de máquina ensemble\n",
    "algoritmos, dois métodos boosting e dois bagging:\n",
    "\n",
    ". Métodos de Boosting: AdaBoost (AB) e Gradient Boosting (GBM).\n",
    ". Métodos de ensacamento: Random Forests (RF) e Extra Trees (ET).\n",
    "\n",
    "Usaremos o mesmo equipamento de teste de antes, validação cruzada de 10 vezes. Sem padronização de dados\n",
    "é usado neste caso porque todos os quatro algoritmos de conjunto são baseados em árvores de decisão que são\n",
    "menos sensível a distribuições de dados."
   ]
  },
  {
   "cell_type": "code",
   "execution_count": 33,
   "metadata": {},
   "outputs": [
    {
     "name": "stdout",
     "output_type": "stream",
     "text": [
      "AB: 0.782721 (0.072445)\n",
      "GBM: 0.808456 (0.130806)\n",
      "RF: 0.826103 (0.066625)\n",
      "ET: 0.819853 (0.052870)\n"
     ]
    }
   ],
   "source": [
    "# ensembles\n",
    "ensembles = []\n",
    "ensembles.append(('AB', AdaBoostClassifier()))\n",
    "ensembles.append(('GBM', GradientBoostingClassifier()))\n",
    "ensembles.append(('RF', RandomForestClassifier()))\n",
    "ensembles.append(('ET', ExtraTreesClassifier()))\n",
    "results = []\n",
    "names = []\n",
    "for name, model in ensembles:\n",
    "    kfold = KFold(n_splits=num_folds, random_state=seed, shuffle=True)\n",
    "    cv_results = cross_val_score(model, X_train, Y_train, cv=kfold, scoring=scoring)\n",
    "    results.append(cv_results)\n",
    "    names.append(name)\n",
    "    msg = \"%s: %f (%f)\" % (name, cv_results.mean(), cv_results.std())\n",
    "    print(msg)"
   ]
  },
  {
   "attachments": {},
   "cell_type": "markdown",
   "metadata": {},
   "source": [
    "Podemos ver que ambas as técnicas de aumento fornecem fortes pontuações de precisão na casa dos 80 (%)\n",
    "com configurações padrão. Podemos plotar a distribuição de pontuações de precisão na cruz\n",
    "dobras de validação."
   ]
  },
  {
   "cell_type": "code",
   "execution_count": 34,
   "metadata": {},
   "outputs": [
    {
     "data": {
      "image/png": "[encoded data removed]",
      "text/plain": [
       "<Figure size 432x288 with 1 Axes>"
      ]
     },
     "metadata": {
      "needs_background": "light"
     },
     "output_type": "display_data"
    }
   ],
   "source": [
    "# Compare Algorithms\n",
    "fig = pyplot.figure()\n",
    "fig.suptitle('Ensemble Algorithm Comparison')\n",
    "ax = fig.add_subplot(111)\n",
    "pyplot.boxplot(results)\n",
    "ax.set_xticklabels(names)\n",
    "pyplot.show()"
   ]
  },
  {
   "attachments": {},
   "cell_type": "markdown",
   "metadata": {},
   "source": [
    "Os resultados sugerem que o GBM pode ser digno de um estudo mais aprofundado, com uma média forte e um spread\n",
    "que se inclina para altos 90s (%) em precisão."
   ]
  },
  {
   "attachments": {},
   "cell_type": "markdown",
   "metadata": {},
   "source": [
    "#### Finalizar modelo"
   ]
  },
  {
   "attachments": {},
   "cell_type": "markdown",
   "metadata": {},
   "source": [
    "O SVM se mostrou mais promissor como um modelo estável e de baixa complexidade para este problema. Em\n",
    "Nesta seção, vamos finalizar o modelo treinando-o em todo o conjunto de dados de treinamento e fazer\n",
    "previsões para o conjunto de dados de validação de espera para confirmar nossas conclusões. Uma parte dos resultados foi\n",
    "que o SVM tem melhor desempenho quando o conjunto de dados é padronizado para que todos os atributos tenham uma média\n",
    "valor de zero e um desvio padrão de um. Podemos calcular isso a partir de todo o treinamento\n",
    "conjunto de dados e aplique a mesma transformação aos atributos de entrada do conjunto de dados de validação."
   ]
  },
  {
   "cell_type": "code",
   "execution_count": 35,
   "metadata": {},
   "outputs": [
    {
     "name": "stdout",
     "output_type": "stream",
     "text": [
      "0.8571428571428571\n",
      "[[23  4]\n",
      " [ 2 13]]\n",
      "              precision    recall  f1-score   support\n",
      "\n",
      "           M       0.92      0.85      0.88        27\n",
      "           R       0.76      0.87      0.81        15\n",
      "\n",
      "    accuracy                           0.86        42\n",
      "   macro avg       0.84      0.86      0.85        42\n",
      "weighted avg       0.86      0.86      0.86        42\n",
      "\n"
     ]
    }
   ],
   "source": [
    "# prepare the model\n",
    "scaler = StandardScaler().fit(X_train)\n",
    "rescaledX = scaler.transform(X_train)\n",
    "model = SVC(C=1.5)\n",
    "model.fit(rescaledX, Y_train)\n",
    "# estimate accuracy on validation dataset\n",
    "rescaledValidationX = scaler.transform(X_validation)\n",
    "predictions = model.predict(rescaledValidationX)\n",
    "print(accuracy_score(Y_validation, predictions))\n",
    "print(confusion_matrix(Y_validation, predictions))\n",
    "print(classification_report(Y_validation, predictions))"
   ]
  },
  {
   "attachments": {},
   "cell_type": "markdown",
   "metadata": {},
   "source": [
    "Podemos ver que alcançamos uma precisão de quase 86% no conjunto de dados de validação retido. A\n",
    "pontuação que se aproxima de nossas expectativas estimadas acima durante o ajuste do SVM."
   ]
  },
  {
   "cell_type": "code",
   "execution_count": 36,
   "metadata": {},
   "outputs": [
    {
     "name": "stdout",
     "output_type": "stream",
     "text": [
      "Github username: caiquemiranda\n",
      "\n",
      "matplotlib: 3.5.2\n",
      "numpy     : 1.23.0\n",
      "\n"
     ]
    }
   ],
   "source": [
    "%reload_ext watermark\n",
    "%watermark -gu \"caiquemiranda\" -iv"
   ]
  },
  {
   "attachments": {},
   "cell_type": "markdown",
   "metadata": {},
   "source": [
    "### End."
   ]
  }
 ],
 "metadata": {
  "kernelspec": {
   "display_name": "Python 3",
   "language": "python",
   "name": "python3"
  },
  "language_info": {
   "codemirror_mode": {
    "name": "ipython",
    "version": 3
   },
   "file_extension": ".py",
   "mimetype": "text/x-python",
   "name": "python",
   "nbconvert_exporter": "python",
   "pygments_lexer": "ipython3",
   "version": "3.10.5"
  },
  "orig_nbformat": 4
 },
 "nbformat": 4,
 "nbformat_minor": 2
}
