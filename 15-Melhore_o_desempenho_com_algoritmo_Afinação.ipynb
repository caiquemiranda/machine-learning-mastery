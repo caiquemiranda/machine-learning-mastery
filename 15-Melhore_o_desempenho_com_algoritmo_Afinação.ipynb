{
 "cells": [
  {
   "attachments": {},
   "cell_type": "markdown",
   "metadata": {},
   "source": [
    "### Melhore o desempenho com algoritmo Afinação"
   ]
  },
  {
   "attachments": {},
   "cell_type": "markdown",
   "metadata": {},
   "source": [
    "Os modelos de aprendizado de máquina são parametrizados para que seu comportamento possa ser ajustado para um determinado\n",
    "problema. Os modelos podem ter muitos parâmetros e encontrar a melhor combinação de parâmetros pode\n",
    "ser tratado como um problema de pesquisa. Neste capítulo, você descobrirá como ajustar os parâmetros de\n",
    "algoritmos de aprendizado de máquina em Python usando o scikit-learn. Depois de concluir esta lição, você\n",
    "saberá:\n",
    "\n",
    "1. A importância do ajuste dos parâmetros do algoritmo para melhorar o desempenho do algoritmo.\n",
    "2. Como usar uma estratégia de ajuste do algoritmo de busca em grade.\n",
    "3. Como usar uma estratégia de ajuste de algoritmo de busca aleatória."
   ]
  },
  {
   "attachments": {},
   "cell_type": "markdown",
   "metadata": {},
   "source": [
    "#### Parâmetros do algoritmo de aprendizado de máquina"
   ]
  },
  {
   "attachments": {},
   "cell_type": "markdown",
   "metadata": {},
   "source": [
    "O ajuste de algoritmo é uma etapa final no processo de aprendizado de máquina aplicado antes de nalizar seu\n",
    "modelo. Às vezes é chamado de otimização de hiperparâmetros, onde os parâmetros do algoritmo\n",
    "são referidos como hiperparâmetros, enquanto os coeficientes encontrados pelo aprendizado de máquina\n",
    "algoritmo em si são referidos como parâmetros. A otimização sugere a natureza de busca do\n",
    "problema. Formulado como um problema de busca, você pode usar diferentes estratégias de busca para encontrar um bom e\n",
    "parâmetro robusto ou conjunto de parâmetros para um algoritmo em um determinado problema. Python scikit-learn\n",
    "fornece dois métodos simples para ajuste de parâmetros de algoritmo:\n",
    ".Ajuste dos Parâmetros de Busca da Grade.\n",
    ".Ajuste de Parâmetros de Busca Aleatória."
   ]
  },
  {
   "attachments": {},
   "cell_type": "markdown",
   "metadata": {},
   "source": [
    "#### Ajuste de Parâmetros de Pesquisa de Grade"
   ]
  },
  {
   "attachments": {},
   "cell_type": "markdown",
   "metadata": {},
   "source": [
    "A pesquisa em grade é uma abordagem para o ajuste de parâmetros que irá construir e avaliar metodicamente um\n",
    "modelo para cada combinação de parâmetros de algoritmo especificados em uma grade. Você pode executar uma grade pesquisa usando o GridSearchCV class1. O exemplo abaixo avalia diferentes valores alfa para\n",
    "o algoritmo Ridge Regression no conjunto de dados padrão de diabetes. Isso é unidimensional\n",
    "pesquisa em grade."
   ]
  },
  {
   "cell_type": "code",
   "execution_count": 1,
   "metadata": {},
   "outputs": [
    {
     "name": "stdout",
     "output_type": "stream",
     "text": [
      "0.2761084412929244\n",
      "1.0\n"
     ]
    }
   ],
   "source": [
    "# Grid Search for Algorithm Tuning\n",
    "import numpy\n",
    "from pandas import read_csv\n",
    "from sklearn.linear_model import Ridge\n",
    "from sklearn.model_selection import GridSearchCV\n",
    "\n",
    "import warnings\n",
    "warnings.filterwarnings('ignore')\n",
    "\n",
    "filename = 'datasets/pima-indians-diabetes.csv'\n",
    "names = ['preg', 'plas', 'pres',\n",
    "         'skin', 'test', 'mass',\n",
    "         'pedi', 'age', 'class']\n",
    "\n",
    "dataframe = read_csv(filename, names=names)\n",
    "array = dataframe.values\n",
    "X = array[:,0:8]\n",
    "Y = array[:,8]\n",
    "alphas = numpy.array([1,0.1,0.01,0.001,0.0001,0])\n",
    "param_grid = dict(alpha=alphas)\n",
    "model = Ridge()\n",
    "grid = GridSearchCV(estimator=model, param_grid=param_grid)\n",
    "grid.fit(X, Y)\n",
    "print(grid.best_score_)\n",
    "print(grid.best_estimator_.alpha)"
   ]
  },
  {
   "attachments": {},
   "cell_type": "markdown",
   "metadata": {},
   "source": [
    "A execução do exemplo lista a pontuação ideal alcançada e o conjunto de parâmetros no\n",
    "grade que alcançou essa pontuação. Neste caso, o valor alfa de 1,0."
   ]
  },
  {
   "attachments": {},
   "cell_type": "markdown",
   "metadata": {},
   "source": [
    "#### Ajuste de Parâmetro de Pesquisa Aleatória"
   ]
  },
  {
   "attachments": {},
   "cell_type": "markdown",
   "metadata": {},
   "source": [
    "A busca aleatória é uma abordagem para ajuste de parâmetros que irá amostrar parâmetros de algoritmo de\n",
    "uma distribuição aleatória (ou seja, uniforme) para um número fixo de iterações. Um modelo é construído\n",
    "e avaliados para cada combinação de parâmetros escolhida. Você pode realizar uma pesquisa aleatória\n",
    "para parâmetros de algoritmo usando RandomizedSearchCV class2. O exemplo abaixo avalia\n",
    "diferentes valores alfa aleatórios entre 0 e 1 para o algoritmo Ridge Regression no\n",
    "conjunto de dados padrão de diabetes. Um total de 100 iterações são realizadas com alfa uniformemente aleatório\n",
    "valores selecionados no intervalo entre 0 e 1 (o intervalo que os valores alfa podem assumir)."
   ]
  },
  {
   "cell_type": "code",
   "execution_count": 2,
   "metadata": {},
   "outputs": [
    {
     "name": "stdout",
     "output_type": "stream",
     "text": [
      "0.27610755734028547\n",
      "0.9779895119966027\n"
     ]
    }
   ],
   "source": [
    "# Randomized for Algorithm Tuning\n",
    "import numpy\n",
    "from pandas import read_csv\n",
    "from scipy.stats import uniform\n",
    "from sklearn.linear_model import Ridge\n",
    "from sklearn.model_selection import RandomizedSearchCV\n",
    "import warnings\n",
    "warnings.filterwarnings('ignore')\n",
    "\n",
    "filename = 'datasets/pima-indians-diabetes.csv'\n",
    "names = ['preg', 'plas', 'pres',\n",
    "         'skin', 'test', 'mass',\n",
    "         'pedi', 'age', 'class']\n",
    "\n",
    "dataframe = read_csv(filename, names=names)\n",
    "array = dataframe.values\n",
    "X = array[:,0:8]\n",
    "Y = array[:,8]\n",
    "param_grid = {'alpha': uniform()}\n",
    "model = Ridge()\n",
    "rsearch = RandomizedSearchCV(estimator=model, \n",
    "                             param_distributions=param_grid, \n",
    "                             n_iter=100,\n",
    "                             random_state=7)\n",
    "rsearch.fit(X, Y)\n",
    "print(rsearch.best_score_)\n",
    "print(rsearch.best_estimator_.alpha)"
   ]
  },
  {
   "attachments": {},
   "cell_type": "markdown",
   "metadata": {},
   "source": [
    "A execução do exemplo produz resultados muito parecidos com os do exemplo de pesquisa em grade acima. Um\n",
    "o valor alfa ideal próximo a 1,0 é descoberto."
   ]
  },
  {
   "cell_type": "code",
   "execution_count": 3,
   "metadata": {},
   "outputs": [
    {
     "name": "stdout",
     "output_type": "stream",
     "text": [
      "Github username: caiquemiranda\n",
      "\n",
      "numpy: 1.23.0\n",
      "\n"
     ]
    }
   ],
   "source": [
    "%reload_ext watermark\n",
    "%watermark -gu \"caiquemiranda\" -iv"
   ]
  },
  {
   "attachments": {},
   "cell_type": "markdown",
   "metadata": {},
   "source": [
    "### End."
   ]
  }
 ],
 "metadata": {
  "kernelspec": {
   "display_name": "Python 3",
   "language": "python",
   "name": "python3"
  },
  "language_info": {
   "codemirror_mode": {
    "name": "ipython",
    "version": 3
   },
   "file_extension": ".py",
   "mimetype": "text/x-python",
   "name": "python",
   "nbconvert_exporter": "python",
   "pygments_lexer": "ipython3",
   "version": "3.10.5"
  },
  "orig_nbformat": 4
 },
 "nbformat": 4,
 "nbformat_minor": 2
}
