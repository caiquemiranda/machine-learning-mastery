{
 "cells": [
  {
   "attachments": {},
   "cell_type": "markdown",
   "metadata": {},
   "source": [
    "### Caso de aprendizado de máquina de regressão Projeto de estudo"
   ]
  },
  {
   "attachments": {},
   "cell_type": "markdown",
   "metadata": {},
   "source": [
    "Como você trabalha com um problema de aprendizado de máquina de modelagem preditiva de ponta a ponta? Nisso\n",
    "lição você trabalhará através de um problema de modelagem preditiva de regressão de estudo de caso em Python\n",
    "incluindo cada etapa do processo de aprendizado de máquina aplicado. Depois de concluir este projeto, você\n",
    "saberá:\n",
    "\n",
    ". Como trabalhar com um problema de modelagem preditiva de regressão de ponta a ponta.\n",
    "\n",
    ". Como usar transformações de dados para melhorar o desempenho do modelo.\n",
    "\n",
    ". Como usar o ajuste de algoritmo para melhorar o desempenho do modelo.\n",
    "\n",
    ". Como usar métodos de conjunto e ajuste de métodos de conjunto para melhorar o desempenho do modelo\n",
    "mance."
   ]
  },
  {
   "attachments": {},
   "cell_type": "markdown",
   "metadata": {},
   "source": [
    "#### Definição do Problema"
   ]
  },
  {
   "attachments": {},
   "cell_type": "markdown",
   "metadata": {},
   "source": [
    "Para este projeto, investigaremos o conjunto de dados Boston House Price. Cada registro no banco de dados\n",
    "descreve um subúrbio ou cidade de Boston. Os dados foram extraídos do Boston Standard Metropolitan\n",
    "Área Estatística (SMSA) em 1970. Os atributos são de nidos da seguinte forma (retirados do UCI\n",
    "Repositório de aprendizado de máquina1):\n",
    "\n",
    "1. CRIM: taxa de criminalidade per capita por cidade\n",
    "2. ZN: proporção de terreno residencial zoneada para lotes acima de 25.000 m2.\n",
    "3. INDUS: proporção de hectares de negócios não varejistas por cidade\n",
    "4. CHAS: Variável fictícia Charles River (= 1 se o trecho limita o rio; 0 caso contrário)\n",
    "5. NOX: concentração de óxidos nítricos (partes por 10 milhões)\n",
    "6. RM: número médio de divisões por habitação\n",
    "7. IDADE: proporção de unidades próprias construídas antes de 1940\n",
    "8. DIS: distâncias ponderadas para cinco centros de emprego de Boston\n",
    "9. RAD: índice de acessibilidade às rodovias radiais\n",
    "10. IMPOSTO: valor total do imposto predial por US$ 10.000\n",
    "11. PTRATIO: proporção aluno-professor por município\n",
    "12. B: 1000(Bk 0:63)2 onde Bk é a proporção de negros por cidade\n",
    "13. LSTAT: % de status inferior da população\n",
    "14. MEDV: Valor médio de residências ocupadas pelos proprietários em US$ 1.000\n",
    "\n",
    "Podemos ver que os atributos de entrada possuem uma mistura de unidades."
   ]
  },
  {
   "attachments": {},
   "cell_type": "markdown",
   "metadata": {},
   "source": [
    "#### Load the Dataset"
   ]
  },
  {
   "attachments": {},
   "cell_type": "markdown",
   "metadata": {},
   "source": [
    "Vamos começar carregando as bibliotecas necessárias para este projeto."
   ]
  },
  {
   "cell_type": "code",
   "execution_count": 2,
   "metadata": {},
   "outputs": [],
   "source": [
    "# Load libraries\n",
    "import numpy\n",
    "from numpy import arange\n",
    "from matplotlib import pyplot\n",
    "from pandas import read_csv\n",
    "from pandas import set_option\n",
    "from pandas.plotting import scatter_matrix\n",
    "from sklearn.preprocessing import StandardScaler\n",
    "from sklearn.model_selection import train_test_split\n",
    "from sklearn.model_selection import KFold\n",
    "from sklearn.model_selection import cross_val_score\n",
    "from sklearn.model_selection import GridSearchCV\n",
    "from sklearn.linear_model import LinearRegression\n",
    "from sklearn.linear_model import Lasso\n",
    "from sklearn.linear_model import ElasticNet\n",
    "from sklearn.tree import DecisionTreeRegressor\n",
    "from sklearn.neighbors import KNeighborsRegressor\n",
    "from sklearn.svm import SVR\n",
    "from sklearn.pipeline import Pipeline\n",
    "from sklearn.ensemble import RandomForestRegressor\n",
    "from sklearn.ensemble import GradientBoostingRegressor\n",
    "from sklearn.ensemble import ExtraTreesRegressor\n",
    "from sklearn.ensemble import AdaBoostRegressor\n",
    "from sklearn.metrics import mean_squared_error"
   ]
  },
  {
   "attachments": {},
   "cell_type": "markdown",
   "metadata": {},
   "source": [
    "Agora podemos carregar o conjunto de dados que você pode baixar do UCI Machine Learning\n",
    "site do repositório."
   ]
  },
  {
   "cell_type": "code",
   "execution_count": 3,
   "metadata": {},
   "outputs": [],
   "source": [
    "# Load dataset\n",
    "filename = 'datasets/housing.csv'\n",
    "names = ['CRIM', 'ZN', 'INDUS', \n",
    "         'CHAS', 'NOX', 'RM',\n",
    "         'AGE', 'DIS', 'RAD', \n",
    "         'TAX', 'PTRATIO','B', \n",
    "         'LSTAT', 'MEDV']\n",
    "\n",
    "dataset = read_csv(filename,header=0, names=names)"
   ]
  },
  {
   "attachments": {},
   "cell_type": "markdown",
   "metadata": {},
   "source": [
    "Você pode ver que estamos especificando os nomes curtos para cada atributo para que possamos fazer referência\n",
    "eles claramente mais tarde. Você também pode ver que os atributos são delimitados por espaços em branco em vez de\n",
    "vírgulas neste arquivo e indicamos isso para ler a função csv () por meio do espaço em branco delim\n",
    "argumento. Agora temos nossos dados carregados."
   ]
  },
  {
   "attachments": {},
   "cell_type": "markdown",
   "metadata": {},
   "source": [
    "#### Analisar dados"
   ]
  },
  {
   "attachments": {},
   "cell_type": "markdown",
   "metadata": {},
   "source": [
    "Agora podemos dar uma olhada mais de perto em nossos dados carregados."
   ]
  },
  {
   "attachments": {},
   "cell_type": "markdown",
   "metadata": {},
   "source": [
    "##### Estatísticas descritivas"
   ]
  },
  {
   "attachments": {},
   "cell_type": "markdown",
   "metadata": {},
   "source": [
    "Vamos começar confirmando as dimensões do conjunto de dados, por exemplo o número de linhas e colunas."
   ]
  },
  {
   "cell_type": "code",
   "execution_count": 4,
   "metadata": {},
   "outputs": [
    {
     "name": "stdout",
     "output_type": "stream",
     "text": [
      "(506, 14)\n"
     ]
    }
   ],
   "source": [
    "# shape\n",
    "print(dataset.shape)"
   ]
  },
  {
   "attachments": {},
   "cell_type": "markdown",
   "metadata": {},
   "source": [
    "Temos 506 instâncias para trabalhar e podemos confirmar que os dados têm 14 atributos, incluindo\n",
    "o atributo de saída MEDV."
   ]
  },
  {
   "attachments": {},
   "cell_type": "markdown",
   "metadata": {},
   "source": [
    "Vejamos também os tipos de dados de cada atributo."
   ]
  },
  {
   "cell_type": "code",
   "execution_count": 5,
   "metadata": {},
   "outputs": [
    {
     "name": "stdout",
     "output_type": "stream",
     "text": [
      "CRIM       float64\n",
      "ZN         float64\n",
      "INDUS      float64\n",
      "CHAS         int64\n",
      "NOX        float64\n",
      "RM         float64\n",
      "AGE        float64\n",
      "DIS        float64\n",
      "RAD          int64\n",
      "TAX        float64\n",
      "PTRATIO    float64\n",
      "B          float64\n",
      "LSTAT      float64\n",
      "MEDV       float64\n",
      "dtype: object\n"
     ]
    }
   ],
   "source": [
    "# types\n",
    "print(dataset.dtypes)"
   ]
  },
  {
   "attachments": {},
   "cell_type": "markdown",
   "metadata": {},
   "source": [
    "Podemos ver que todos os atributos são numéricos, principalmente valores reais (\n",
    "aveia) e alguns têm\n",
    "interpretado como inteiros (int)."
   ]
  },
  {
   "attachments": {},
   "cell_type": "markdown",
   "metadata": {},
   "source": [
    "Vamos agora dar uma olhada nas primeiras 20 linhas dos dados."
   ]
  },
  {
   "cell_type": "code",
   "execution_count": 6,
   "metadata": {},
   "outputs": [
    {
     "name": "stdout",
     "output_type": "stream",
     "text": [
      "       CRIM    ZN  INDUS  CHAS    NOX     RM    AGE     DIS  RAD    TAX  \\\n",
      "0   0.00632  18.0   2.31     0  0.538  6.575   65.2  4.0900    1  296.0   \n",
      "1   0.02731   0.0   7.07     0  0.469  6.421   78.9  4.9671    2  242.0   \n",
      "2   0.02729   0.0   7.07     0  0.469  7.185   61.1  4.9671    2  242.0   \n",
      "3   0.03237   0.0   2.18     0  0.458  6.998   45.8  6.0622    3  222.0   \n",
      "4   0.06905   0.0   2.18     0  0.458  7.147   54.2  6.0622    3  222.0   \n",
      "5   0.02985   0.0   2.18     0  0.458  6.430   58.7  6.0622    3  222.0   \n",
      "6   0.08829  12.5   7.87     0  0.524  6.012   66.6  5.5605    5  311.0   \n",
      "7   0.14455  12.5   7.87     0  0.524  6.172   96.1  5.9505    5  311.0   \n",
      "8   0.21124  12.5   7.87     0  0.524  5.631  100.0  6.0821    5  311.0   \n",
      "9   0.17004  12.5   7.87     0  0.524  6.004   85.9  6.5921    5  311.0   \n",
      "10  0.22489  12.5   7.87     0  0.524  6.377   94.3  6.3467    5  311.0   \n",
      "11  0.11747  12.5   7.87     0  0.524  6.009   82.9  6.2267    5  311.0   \n",
      "12  0.09378  12.5   7.87     0  0.524  5.889   39.0  5.4509    5  311.0   \n",
      "13  0.62976   0.0   8.14     0  0.538  5.949   61.8  4.7075    4  307.0   \n",
      "14  0.63796   0.0   8.14     0  0.538  6.096   84.5  4.4619    4  307.0   \n",
      "15  0.62739   0.0   8.14     0  0.538  5.834   56.5  4.4986    4  307.0   \n",
      "16  1.05393   0.0   8.14     0  0.538  5.935   29.3  4.4986    4  307.0   \n",
      "17  0.78420   0.0   8.14     0  0.538  5.990   81.7  4.2579    4  307.0   \n",
      "18  0.80271   0.0   8.14     0  0.538  5.456   36.6  3.7965    4  307.0   \n",
      "19  0.72580   0.0   8.14     0  0.538  5.727   69.5  3.7965    4  307.0   \n",
      "\n",
      "    PTRATIO       B  LSTAT  MEDV  \n",
      "0      15.3  396.90   4.98  24.0  \n",
      "1      17.8  396.90   9.14  21.6  \n",
      "2      17.8  392.83   4.03  34.7  \n",
      "3      18.7  394.63   2.94  33.4  \n",
      "4      18.7  396.90   5.33  36.2  \n",
      "5      18.7  394.12   5.21  28.7  \n",
      "6      15.2  395.60  12.43  22.9  \n",
      "7      15.2  396.90  19.15  27.1  \n",
      "8      15.2  386.63  29.93  16.5  \n",
      "9      15.2  386.71  17.10  18.9  \n",
      "10     15.2  392.52  20.45  15.0  \n",
      "11     15.2  396.90  13.27  18.9  \n",
      "12     15.2  390.50  15.71  21.7  \n",
      "13     21.0  396.90   8.26  20.4  \n",
      "14     21.0  380.02  10.26  18.2  \n",
      "15     21.0  395.62   8.47  19.9  \n",
      "16     21.0  386.85   6.58  23.1  \n",
      "17     21.0  386.75  14.67  17.5  \n",
      "18     21.0  288.99  11.69  20.2  \n",
      "19     21.0  390.95  11.28  18.2  \n"
     ]
    }
   ],
   "source": [
    "# head\n",
    "print(dataset.head(20))"
   ]
  },
  {
   "attachments": {},
   "cell_type": "markdown",
   "metadata": {},
   "source": [
    "Podemos confirmar que as escalas para os atributos estão em todo lugar por causa da diferença\n",
    "unidades. Podemos nos beneficiar de algumas transformações mais tarde."
   ]
  },
  {
   "attachments": {},
   "cell_type": "markdown",
   "metadata": {},
   "source": [
    "Vamos resumir a distribuição de cada atributo."
   ]
  },
  {
   "cell_type": "code",
   "execution_count": 17,
   "metadata": {},
   "outputs": [
    {
     "name": "stdout",
     "output_type": "stream",
     "text": [
      "        CRIM     ZN  INDUS     CHAS    NOX     RM    AGE    DIS    RAD    TAX  \\\n",
      "count  506.0  506.0  506.0  5.1e+02  506.0  506.0  506.0  506.0  506.0  506.0   \n",
      "mean     3.6   11.4   11.1  6.9e-02    0.6    6.3   68.6    3.8    9.5  408.2   \n",
      "...      ...    ...    ...      ...    ...    ...    ...    ...    ...    ...   \n",
      "75%      3.7   12.5   18.1  0.0e+00    0.6    6.6   94.1    5.2   24.0  666.0   \n",
      "max     89.0  100.0   27.7  1.0e+00    0.9    8.8  100.0   12.1   24.0  711.0   \n",
      "\n",
      "       PTRATIO      B  LSTAT   MEDV  \n",
      "count    506.0  506.0  506.0  506.0  \n",
      "mean      18.5  356.7   12.7   22.5  \n",
      "...        ...    ...    ...    ...  \n",
      "75%       20.2  396.2   17.0   25.0  \n",
      "max       22.0  396.9   38.0   50.0  \n",
      "\n",
      "[8 rows x 14 columns]\n"
     ]
    }
   ],
   "source": [
    "# descriptions\n",
    "set_option('display.precision', 1)\n",
    "print(dataset.describe())"
   ]
  },
  {
   "attachments": {},
   "cell_type": "markdown",
   "metadata": {},
   "source": [
    "Agora temos uma ideia melhor de quão diferentes são os atributos. Os valores mínimo e máximo\n",
    "também são os meios variam muito. Provavelmente obteremos melhores resultados redimensionando os dados\n",
    "de algum modo."
   ]
  },
  {
   "attachments": {},
   "cell_type": "markdown",
   "metadata": {},
   "source": [
    "Agora, vamos dar uma olhada na correlação entre todos os atributos numéricos."
   ]
  },
  {
   "cell_type": "code",
   "execution_count": 18,
   "metadata": {},
   "outputs": [
    {
     "name": "stdout",
     "output_type": "stream",
     "text": [
      "       CRIM   ZN  INDUS     CHAS  NOX   RM  AGE  DIS  RAD  TAX  PTRATIO    B  \\\n",
      "CRIM    1.0 -0.2    0.4 -5.6e-02  0.4 -0.2  0.4 -0.4  0.6  0.6      0.3 -0.4   \n",
      "ZN     -0.2  1.0   -0.5 -4.3e-02 -0.5  0.3 -0.6  0.7 -0.3 -0.3     -0.4  0.2   \n",
      "...     ...  ...    ...      ...  ...  ...  ...  ...  ...  ...      ...  ...   \n",
      "LSTAT   0.5 -0.4    0.6 -5.4e-02  0.6 -0.6  0.6 -0.5  0.5  0.5      0.4 -0.4   \n",
      "MEDV   -0.4  0.4   -0.5  1.8e-01 -0.4  0.7 -0.4  0.2 -0.4 -0.5     -0.5  0.3   \n",
      "\n",
      "       LSTAT  MEDV  \n",
      "CRIM     0.5  -0.4  \n",
      "ZN      -0.4   0.4  \n",
      "...      ...   ...  \n",
      "LSTAT    1.0  -0.7  \n",
      "MEDV    -0.7   1.0  \n",
      "\n",
      "[14 rows x 14 columns]\n"
     ]
    }
   ],
   "source": [
    "# correlation\n",
    "set_option('display.precision', 1)\n",
    "print(dataset.corr(method='pearson'))"
   ]
  },
  {
   "attachments": {},
   "cell_type": "markdown",
   "metadata": {},
   "source": [
    "Isto é interessante. Podemos ver que muitos dos atributos têm uma forte correlação (por exemplo, > 0,70 ou < -0,70). Por exemplo:\n",
    "\n",
    ". NOX e INDUS com 0,77.\n",
    "\n",
    ". DIS e INDUS com -0,71.\n",
    "\n",
    ". IMPOSTO e INDUS com 0,72.\n",
    ". IDADE e NOX com 0,73.\n",
    "\n",
    ". DIS e NOX com -0,78.\n",
    "\n",
    "Também parece que LSTAT tem uma boa correlação negativa com a variável de saída MEDV com\n",
    "um valor de -0,74."
   ]
  },
  {
   "attachments": {},
   "cell_type": "markdown",
   "metadata": {},
   "source": [
    "#### Visualizações de dados"
   ]
  },
  {
   "attachments": {},
   "cell_type": "markdown",
   "metadata": {},
   "source": [
    "##### Visualizações de dados unimodais"
   ]
  },
  {
   "attachments": {},
   "cell_type": "markdown",
   "metadata": {},
   "source": [
    "Vejamos as visualizações de atributos individuais. Muitas vezes é útil olhar para os seus dados\n",
    "usando várias visualizações diferentes para gerar ideias. Vejamos os histogramas de cada\n",
    "atributo para obter uma noção das distribuições de dados."
   ]
  },
  {
   "cell_type": "code",
   "execution_count": 19,
   "metadata": {},
   "outputs": [
    {
     "data": {
      "image/png": "[encoded data removed]",
      "text/plain": [
       "<Figure size 432x288 with 16 Axes>"
      ]
     },
     "metadata": {
      "needs_background": "light"
     },
     "output_type": "display_data"
    }
   ],
   "source": [
    "# histograms\n",
    "dataset.hist(sharex=False, sharey=False, xlabelsize=1, ylabelsize=1)\n",
    "pyplot.show()"
   ]
  },
  {
   "attachments": {},
   "cell_type": "markdown",
   "metadata": {},
   "source": [
    "Podemos ver que alguns atributos podem ter uma distribuição exponencial, como CRIM, ZN,\n",
    "AGE e B. Podemos ver que outros podem ter uma distribuição bimodal como RAD e TAX."
   ]
  },
  {
   "attachments": {},
   "cell_type": "markdown",
   "metadata": {},
   "source": [
    "Vejamos as mesmas distribuições usando gráficos de densidade que as suavizam um pouco."
   ]
  },
  {
   "cell_type": "code",
   "execution_count": 20,
   "metadata": {},
   "outputs": [
    {
     "data": {
      "image/png": "[encoded data removed]",
      "text/plain": [
       "<Figure size 432x288 with 16 Axes>"
      ]
     },
     "metadata": {
      "needs_background": "light"
     },
     "output_type": "display_data"
    }
   ],
   "source": [
    "# density\n",
    "dataset.plot(kind='density', subplots=True, layout=(4,4), sharex=False, legend=False,\n",
    "fontsize=1)\n",
    "pyplot.show()"
   ]
  },
  {
   "attachments": {},
   "cell_type": "markdown",
   "metadata": {},
   "source": [
    "Isso talvez acrescente mais evidências à nossa suspeita sobre possível exponencial e bimodal\n",
    "distribuições. Também parece que NOX, RM e LSTAT podem ser distribuições gaussianas distorcidas, que\n",
    "pode ser útil mais tarde com transformações."
   ]
  },
  {
   "attachments": {},
   "cell_type": "markdown",
   "metadata": {},
   "source": [
    "Vejamos os dados com gráficos de caixa e bigodes de cada atributo."
   ]
  },
  {
   "cell_type": "code",
   "execution_count": 21,
   "metadata": {},
   "outputs": [
    {
     "data": {
      "image/png": "[encoded data removed]",
      "text/plain": [
       "<Figure size 432x288 with 16 Axes>"
      ]
     },
     "metadata": {
      "needs_background": "light"
     },
     "output_type": "display_data"
    }
   ],
   "source": [
    "# box and whisker plots\n",
    "dataset.plot(kind='box', subplots=True, layout=(4,4), sharex=False, sharey=False,\n",
    "fontsize=8)\n",
    "pyplot.show()"
   ]
  },
  {
   "attachments": {},
   "cell_type": "markdown",
   "metadata": {},
   "source": [
    "Isso ajuda a apontar a distorção em muitas distribuições tanto que os dados parecem discrepantes\n",
    "(por exemplo, além do bigode das parcelas)."
   ]
  },
  {
   "attachments": {},
   "cell_type": "markdown",
   "metadata": {},
   "source": [
    "##### Visualizações de dados multimodais"
   ]
  },
  {
   "attachments": {},
   "cell_type": "markdown",
   "metadata": {},
   "source": [
    "Vejamos algumas visualizações das interações entre variáveis. O melhor lugar para começar\n",
    "é uma matriz de gráfico de dispersão."
   ]
  },
  {
   "cell_type": "code",
   "execution_count": 22,
   "metadata": {},
   "outputs": [
    {
     "data": {
      "image/png": "[encoded data removed]",
      "text/plain": [
       "<Figure size 432x288 with 196 Axes>"
      ]
     },
     "metadata": {
      "needs_background": "light"
     },
     "output_type": "display_data"
    }
   ],
   "source": [
    "# scatter plot matrix\n",
    "scatter_matrix(dataset)\n",
    "pyplot.show()"
   ]
  },
  {
   "attachments": {},
   "cell_type": "markdown",
   "metadata": {},
   "source": [
    "Podemos ver que alguns dos atributos correlacionados mais altos mostram uma boa estrutura em seus\n",
    "relação. Não linear, mas boas relações curvas previsíveis."
   ]
  },
  {
   "attachments": {},
   "cell_type": "markdown",
   "metadata": {},
   "source": [
    "Vamos também visualizar as correlações entre os atributos."
   ]
  },
  {
   "cell_type": "code",
   "execution_count": 23,
   "metadata": {},
   "outputs": [
    {
     "data": {
      "image/png": "[encoded data removed]",
      "text/plain": [
       "<Figure size 432x288 with 2 Axes>"
      ]
     },
     "metadata": {
      "needs_background": "light"
     },
     "output_type": "display_data"
    }
   ],
   "source": [
    "# correlation matrix\n",
    "fig = pyplot.figure()\n",
    "ax = fig.add_subplot(111)\n",
    "cax = ax.matshow(dataset.corr(), vmin=-1, vmax=1, interpolation='none')\n",
    "fig.colorbar(cax)\n",
    "ticks = numpy.arange(0,14,1)\n",
    "ax.set_xticks(ticks)\n",
    "ax.set_yticks(ticks)\n",
    "ax.set_xticklabels(names)\n",
    "ax.set_yticklabels(names)\n",
    "pyplot.show()"
   ]
  },
  {
   "attachments": {},
   "cell_type": "markdown",
   "metadata": {},
   "source": [
    "A cor vermelha escura mostra correlação positiva, enquanto a cor azul escura mostra correlação negativa\n",
    "correlação. Também podemos ver alguns vermelhos escuros e azuis escuros que sugerem candidatos para remoção\n",
    "para melhorar a precisão dos modelos posteriormente."
   ]
  },
  {
   "attachments": {},
   "cell_type": "markdown",
   "metadata": {},
   "source": [
    "#### Resumo das Ideias"
   ]
  },
  {
   "attachments": {},
   "cell_type": "markdown",
   "metadata": {},
   "source": [
    "Há muita estrutura neste conjunto de dados. Precisamos pensar em transformações que poderíamos usar\n",
    "posteriormente para expor melhor a estrutura que, por sua vez, pode melhorar a precisão da modelagem. até agora\n",
    "valeria a pena tentar:\n",
    "\n",
    ". Seleção de recursos e remoção dos atributos mais correlacionados.\n",
    ". Normalizando o conjunto de dados para reduzir o efeito de escalas diferentes.\n",
    ". Padronizar o conjunto de dados para reduzir os efeitos de diferentes distribuições.\n",
    "\n",
    "Com muito tempo adicional, eu também exploraria a possibilidade de binning (discretização)\n",
    "dos dados. Isso geralmente pode melhorar a precisão dos algoritmos de árvore de decisão."
   ]
  },
  {
   "attachments": {},
   "cell_type": "markdown",
   "metadata": {},
   "source": [
    "#### Conjunto de dados de validação"
   ]
  },
  {
   "attachments": {},
   "cell_type": "markdown",
   "metadata": {},
   "source": [
    "É uma boa ideia usar um conjunto de validação. Esta é uma amostra dos dados que mantemos\n",
    "de volta de nossa análise e modelagem. Nós o usamos logo no final do nosso projeto para con rmar o\n",
    "precisão do nosso modelo nal. É um teste de fumaça que podemos usar para ver se erramos e nos dê confiança em nossas estimativas de precisão em dados não vistos. Usaremos 80% do conjunto de dados\n",
    "para modelagem e reter 20% para validação."
   ]
  },
  {
   "cell_type": "code",
   "execution_count": 24,
   "metadata": {},
   "outputs": [],
   "source": [
    "# Split-out validation dataset\n",
    "array = dataset.values\n",
    "X = array[:,0:13]\n",
    "Y = array[:,13]\n",
    "validation_size = 0.20\n",
    "seed = 7\n",
    "X_train, X_validation, Y_train, Y_validation = train_test_split(X, Y,\n",
    "                                                                test_size=validation_size, \n",
    "                                                                random_state=seed)"
   ]
  },
  {
   "attachments": {},
   "cell_type": "markdown",
   "metadata": {},
   "source": [
    "#### Avaliar algoritmos: linha de base"
   ]
  },
  {
   "attachments": {},
   "cell_type": "markdown",
   "metadata": {},
   "source": [
    "Não temos ideia de quais algoritmos se sairão bem nesse problema. Intuição sugere regressão\n",
    "algoritmos como Linear Regression e ElasticNet podem funcionar bem. Também é possível que a decisão\n",
    "árvores e até SVM podem funcionar bem. Eu não faço ideia. Vamos projetar nosso equipamento de teste. Nós vamos usar\n",
    "Validação cruzada de 10 vezes. O conjunto de dados não é muito pequeno e este é um bom equipamento de teste padrão\n",
    "configuração. Avaliaremos algoritmos usando a métrica Mean Squared Error (MSE). MSE\n",
    "dará uma ideia grosseira de quão erradas estão todas as previsões (0 é perfeito)."
   ]
  },
  {
   "cell_type": "code",
   "execution_count": 25,
   "metadata": {},
   "outputs": [],
   "source": [
    "# Test options and evaluation metric\n",
    "num_folds = 10\n",
    "seed = 7\n",
    "scoring = 'neg_mean_squared_error'"
   ]
  },
  {
   "attachments": {},
   "cell_type": "markdown",
   "metadata": {},
   "source": [
    "Vamos criar uma linha de base de desempenho neste problema e verificar no local uma série de diferentes\n",
    "algoritmos. Vamos selecionar um conjunto de diferentes algoritmos capazes de trabalhar nesta regressão\n",
    "problema. Os seis algoritmos selecionados incluem:\n",
    "\n",
    ". Algoritmos Lineares: Regressão Linear (LR), Regressão Lasso (LASSO) e ElasticNet\n",
    "(PT).\n",
    "\n",
    ". Algoritmos Não Lineares: Árvores de Classificação e Regressão (CART), Vetor de Suporte\n",
    "Regressão (SVR) e k-vizinhos mais próximos (KNN)."
   ]
  },
  {
   "cell_type": "code",
   "execution_count": 26,
   "metadata": {},
   "outputs": [],
   "source": [
    "# Spot-Check Algorithms\n",
    "models = []\n",
    "models.append(('LR', LinearRegression()))\n",
    "models.append(('LASSO', Lasso()))\n",
    "models.append(('EN', ElasticNet()))\n",
    "models.append(('KNN', KNeighborsRegressor()))\n",
    "models.append(('CART', DecisionTreeRegressor()))\n",
    "models.append(('SVR', SVR()))"
   ]
  },
  {
   "attachments": {},
   "cell_type": "markdown",
   "metadata": {},
   "source": [
    "Todos os algoritmos usam parâmetros de ajuste padrão. Vamos comparar os algoritmos. Vamos\n",
    "exibir a média e o desvio padrão do MSE para cada algoritmo à medida que o calculamos e\n",
    "coletar os resultados para uso posterior."
   ]
  },
  {
   "cell_type": "code",
   "execution_count": 29,
   "metadata": {},
   "outputs": [
    {
     "name": "stdout",
     "output_type": "stream",
     "text": [
      "LR: -22.006009 (12.188886)\n",
      "LASSO: -27.105803 (13.165915)\n",
      "EN: -27.923014 (13.156405)\n",
      "KNN: -39.808936 (16.507968)\n",
      "CART: -28.895875 (21.218791)\n",
      "SVR: -67.824705 (32.801530)\n"
     ]
    }
   ],
   "source": [
    "# evaluate each model in turn\n",
    "results = []\n",
    "names = []\n",
    "for name, model in models:\n",
    "    kfold = KFold(n_splits=num_folds, random_state=seed, shuffle=True)\n",
    "    cv_results = cross_val_score(model, X_train, Y_train, cv=kfold, scoring=scoring)\n",
    "    results.append(cv_results)\n",
    "    names.append(name)\n",
    "    msg = \"%s: %f (%f)\" % (name, cv_results.mean(), cv_results.std())\n",
    "    print(msg)"
   ]
  },
  {
   "attachments": {},
   "cell_type": "markdown",
   "metadata": {},
   "source": [
    "Parece que LR tem o MSE mais baixo, seguido de perto por CART."
   ]
  },
  {
   "attachments": {},
   "cell_type": "markdown",
   "metadata": {},
   "source": [
    "Vamos dar uma olhada na distribuição de pontuações em todas as dobras de validação cruzada por algoritmo."
   ]
  },
  {
   "cell_type": "code",
   "execution_count": 30,
   "metadata": {},
   "outputs": [
    {
     "data": {
      "image/png": "[encoded data removed]",
      "text/plain": [
       "<Figure size 432x288 with 1 Axes>"
      ]
     },
     "metadata": {
      "needs_background": "light"
     },
     "output_type": "display_data"
    }
   ],
   "source": [
    "# Compare Algorithms\n",
    "fig = pyplot.figure()\n",
    "fig.suptitle('Algorithm Comparison')\n",
    "ax = fig.add_subplot(111)\n",
    "pyplot.boxplot(results)\n",
    "ax.set_xticklabels(names)\n",
    "pyplot.show()"
   ]
  },
  {
   "attachments": {},
   "cell_type": "markdown",
   "metadata": {},
   "source": [
    "Podemos ver distribuições semelhantes para os algoritmos de regressão e talvez uma distribuição mais restrita de pontuações para CART."
   ]
  },
  {
   "attachments": {},
   "cell_type": "markdown",
   "metadata": {},
   "source": [
    "As diferentes escalas dos dados provavelmente estão prejudicando a habilidade de todos os algoritmos e\n",
    "talvez mais ainda para SVR e KNN. Na próxima seção, veremos como executar o mesmo\n",
    "algoritmos usando uma cópia padronizada dos dados."
   ]
  },
  {
   "attachments": {},
   "cell_type": "markdown",
   "metadata": {},
   "source": [
    "#### Avaliar algoritmos: padronização"
   ]
  },
  {
   "attachments": {},
   "cell_type": "markdown",
   "metadata": {},
   "source": [
    "Suspeitamos que as diferentes escalas dos dados brutos possam estar afetando negativamente a habilidade de\n",
    "alguns dos algoritmos. Vamos avaliar os mesmos algoritmos com uma cópia padronizada do\n",
    "conjunto de dados. É aqui que os dados são transformados de forma que cada atributo tenha um valor médio de\n",
    "zero e um desvio padrão de 1. Também precisamos evitar vazamento de dados quando transformamos o\n",
    "dados. Uma boa forma de evitar vazamentos é usar pipelines que padronizam os dados e constroem o\n",
    "modelo para cada dobra no chicote de teste de validação cruzada. Dessa forma, podemos obter uma estimativa justa\n",
    "de como cada modelo com dados padronizados pode funcionar em dados não vistos."
   ]
  },
  {
   "cell_type": "code",
   "execution_count": 32,
   "metadata": {},
   "outputs": [
    {
     "name": "stdout",
     "output_type": "stream",
     "text": [
      "ScaledLR: -22.006009 (12.188886)\n",
      "ScaledLASSO: -27.205896 (12.124418)\n",
      "ScaledEN: -28.301160 (13.609110)\n",
      "ScaledKNN: -21.456867 (15.016218)\n",
      "ScaledCART: -25.216676 (18.391091)\n",
      "ScaledSVR: -29.570433 (18.052964)\n"
     ]
    }
   ],
   "source": [
    "# Standardize the dataset\n",
    "pipelines = []\n",
    "pipelines.append(('ScaledLR', Pipeline([('Scaler', StandardScaler()),('LR',\n",
    "LinearRegression())])))\n",
    "pipelines.append(('ScaledLASSO', Pipeline([('Scaler', StandardScaler()),('LASSO',\n",
    "Lasso())])))\n",
    "pipelines.append(('ScaledEN', Pipeline([('Scaler', StandardScaler()),('EN',\n",
    "ElasticNet())])))\n",
    "pipelines.append(('ScaledKNN', Pipeline([('Scaler', StandardScaler()),('KNN',\n",
    "KNeighborsRegressor())])))\n",
    "pipelines.append(('ScaledCART', Pipeline([('Scaler', StandardScaler()),('CART',\n",
    "DecisionTreeRegressor())])))\n",
    "pipelines.append(('ScaledSVR', Pipeline([('Scaler', StandardScaler()),('SVR', SVR())])))\n",
    "results = []\n",
    "names = []\n",
    "for name, model in pipelines:\n",
    "    kfold = KFold(n_splits=num_folds, random_state=seed, shuffle=True)\n",
    "    cv_results = cross_val_score(model, X_train, Y_train, cv=kfold, scoring=scoring)\n",
    "    results.append(cv_results)\n",
    "    names.append(name)\n",
    "    msg = \"%s: %f (%f)\" % (name, cv_results.mean(), cv_results.std())\n",
    "    print(msg)"
   ]
  },
  {
   "attachments": {},
   "cell_type": "markdown",
   "metadata": {},
   "source": [
    "A execução do exemplo fornece uma lista de erros quadráticos médios. Podemos ver que o escalonamento fez\n",
    "têm um efeito sobre o KNN, gerando um erro menor do que os outros modelos."
   ]
  },
  {
   "attachments": {},
   "cell_type": "markdown",
   "metadata": {},
   "source": [
    "Vamos dar uma olhada na distribuição das pontuações nas dobras de validação cruzada."
   ]
  },
  {
   "cell_type": "code",
   "execution_count": 33,
   "metadata": {},
   "outputs": [
    {
     "data": {
      "image/png": "[encoded data removed]",
      "text/plain": [
       "<Figure size 432x288 with 1 Axes>"
      ]
     },
     "metadata": {
      "needs_background": "light"
     },
     "output_type": "display_data"
    }
   ],
   "source": [
    "# Compare Algorithms\n",
    "fig = pyplot.figure()\n",
    "fig.suptitle('Scaled Algorithm Comparison')\n",
    "ax = fig.add_subplot(111)\n",
    "pyplot.boxplot(results)\n",
    "ax.set_xticklabels(names)\n",
    "pyplot.show()"
   ]
  },
  {
   "attachments": {},
   "cell_type": "markdown",
   "metadata": {},
   "source": [
    "Podemos ver que KNN tem uma distribuição restrita de erros e tem a pontuação mais baixa."
   ]
  },
  {
   "attachments": {},
   "cell_type": "markdown",
   "metadata": {},
   "source": [
    "#### Melhore os resultados com o ajuste"
   ]
  },
  {
   "attachments": {},
   "cell_type": "markdown",
   "metadata": {},
   "source": [
    "Sabemos pelos resultados da seção anterior que KNN alcança bons resultados em escala\n",
    "versão do conjunto de dados. Mas pode fazer melhor. O valor padrão para o número de vizinhos em\n",
    "KNN é 7. Podemos usar uma pesquisa em grade para tentar um conjunto de diferentes números de vizinhos e ver se\n",
    "pode melhorar a pontuação. O exemplo abaixo tenta valores k ímpares de 1 a 21, um intervalo arbitrário\n",
    "cobrindo um bom valor conhecido de 7. Cada valor k (n vizinhos) é avaliado usando um cruzamento de 10 vezes\n",
    "validação em uma cópia padronizada do conjunto de dados de treinamento."
   ]
  },
  {
   "cell_type": "code",
   "execution_count": 34,
   "metadata": {},
   "outputs": [],
   "source": [
    "# KNN Algorithm tuning\n",
    "scaler = StandardScaler().fit(X_train)\n",
    "rescaledX = scaler.transform(X_train)\n",
    "k_values = numpy.array([1,3,5,7,9,11,13,15,17,19,21])\n",
    "param_grid = dict(n_neighbors=k_values)\n",
    "model = KNeighborsRegressor()\n",
    "kfold = KFold(n_splits=num_folds, random_state=seed, shuffle=True)\n",
    "grid = GridSearchCV(estimator=model, param_grid=param_grid, scoring=scoring, cv=kfold)\n",
    "grid_result = grid.fit(rescaledX, Y_train)"
   ]
  },
  {
   "attachments": {},
   "cell_type": "markdown",
   "metadata": {},
   "source": [
    "Podemos exibir as pontuações de média e desvio padrão, bem como o valor de melhor desempenho\n",
    "para k abaixo."
   ]
  },
  {
   "cell_type": "code",
   "execution_count": 35,
   "metadata": {},
   "outputs": [
    {
     "name": "stdout",
     "output_type": "stream",
     "text": [
      "Best: -19.497829 using {'n_neighbors': 1}\n",
      "-19.497829 (15.769847) with: {'n_neighbors': 1}\n",
      "-19.977984 (13.803973) with: {'n_neighbors': 3}\n",
      "-21.270967 (14.833544) with: {'n_neighbors': 5}\n",
      "-21.577292 (14.952592) with: {'n_neighbors': 7}\n",
      "-21.001075 (14.701297) with: {'n_neighbors': 9}\n",
      "-21.490306 (14.866957) with: {'n_neighbors': 11}\n",
      "-21.268533 (14.454969) with: {'n_neighbors': 13}\n",
      "-21.968092 (14.209894) with: {'n_neighbors': 15}\n",
      "-22.739880 (14.492752) with: {'n_neighbors': 17}\n",
      "-23.506901 (14.903224) with: {'n_neighbors': 19}\n",
      "-24.240303 (15.156565) with: {'n_neighbors': 21}\n"
     ]
    }
   ],
   "source": [
    "print(\"Best: %f using %s\" % (grid_result.best_score_, grid_result.best_params_))\n",
    "means = grid_result.cv_results_['mean_test_score']\n",
    "stds = grid_result.cv_results_['std_test_score']\n",
    "params = grid_result.cv_results_['params']\n",
    "for mean, stdev, param in zip(means, stds, params):\n",
    "    print(\"%f (%f) with: %r\" % (mean, stdev, param))"
   ]
  },
  {
   "attachments": {},
   "cell_type": "markdown",
   "metadata": {},
   "source": [
    "Você pode ver que o melhor para k (n vizinhos) é 3, fornecendo um erro médio quadrado de\n",
    "-18.172137, o melhor até agora."
   ]
  },
  {
   "attachments": {},
   "cell_type": "markdown",
   "metadata": {},
   "source": [
    "#### Métodos de conjunto( Ensemble )"
   ]
  },
  {
   "attachments": {},
   "cell_type": "markdown",
   "metadata": {},
   "source": [
    "Outra maneira de melhorar o desempenho dos algoritmos nesse problema é usando\n",
    "métodos de conjunto. Nesta seção, avaliaremos quatro métodos diferentes de aprendizado de máquina ensemble\n",
    "algoritmos, dois métodos boosting e dois bagging:\n",
    "\n",
    ". Métodos de Boosting: AdaBoost (AB) e Gradient Boosting (GBM).\n",
    ". Métodos de ensacamento: Random Forests (RF) e Extra Trees (ET).\n",
    "\n",
    "Usaremos o mesmo equipamento de teste de antes, validação cruzada de 10 vezes e pipelines que\n",
    "padronizar os dados de treinamento para cada dobra."
   ]
  },
  {
   "cell_type": "code",
   "execution_count": 37,
   "metadata": {},
   "outputs": [
    {
     "name": "stdout",
     "output_type": "stream",
     "text": [
      "ScaledAB: -15.499475 (8.150637)\n",
      "ScaledGBM: -10.930720 (8.694677)\n",
      "ScaledRF: -12.302654 (9.550338)\n",
      "ScaledET: -8.961362 (6.672542)\n"
     ]
    }
   ],
   "source": [
    "# ensembles\n",
    "ensembles = []\n",
    "ensembles.append(('ScaledAB', Pipeline([('Scaler', StandardScaler()),('AB',\n",
    "AdaBoostRegressor())])))\n",
    "ensembles.append(('ScaledGBM', Pipeline([('Scaler', StandardScaler()),('GBM',\n",
    "GradientBoostingRegressor())])))\n",
    "ensembles.append(('ScaledRF', Pipeline([('Scaler', StandardScaler()),('RF',\n",
    "RandomForestRegressor())])))\n",
    "ensembles.append(('ScaledET', Pipeline([('Scaler', StandardScaler()),('ET',\n",
    "ExtraTreesRegressor())])))\n",
    "results = []\n",
    "names = []\n",
    "for name, model in ensembles:\n",
    "    kfold = KFold(n_splits=num_folds, random_state=seed, shuffle=True)\n",
    "    cv_results = cross_val_score(model, X_train, Y_train, cv=kfold, scoring=scoring)\n",
    "    results.append(cv_results)\n",
    "    names.append(name)\n",
    "    msg = \"%s: %f (%f)\" % (name, cv_results.mean(), cv_results.std())\n",
    "    print(msg)"
   ]
  },
  {
   "attachments": {},
   "cell_type": "markdown",
   "metadata": {},
   "source": [
    "A execução do exemplo calcula o erro quadrático médio para cada método usando o padrão\n",
    "parâmetros. Podemos ver que geralmente estamos obtendo melhores pontuações do que nossos métodos lineares e não lineares\n",
    "algoritmos nas seções anteriores."
   ]
  },
  {
   "attachments": {},
   "cell_type": "markdown",
   "metadata": {},
   "source": [
    "Também podemos plotar a distribuição de pontuações nas dobras de validação cruzada."
   ]
  },
  {
   "cell_type": "code",
   "execution_count": 38,
   "metadata": {},
   "outputs": [
    {
     "data": {
      "image/png": "[encoded data removed]",
      "text/plain": [
       "<Figure size 432x288 with 1 Axes>"
      ]
     },
     "metadata": {
      "needs_background": "light"
     },
     "output_type": "display_data"
    }
   ],
   "source": [
    "# Compare Algorithms\n",
    "fig = pyplot.figure()\n",
    "fig.suptitle('Scaled Ensemble Algorithm Comparison')\n",
    "ax = fig.add_subplot(111)\n",
    "pyplot.boxplot(results)\n",
    "ax.set_xticklabels(names)\n",
    "pyplot.show()"
   ]
  },
  {
   "attachments": {},
   "cell_type": "markdown",
   "metadata": {},
   "source": [
    "Parece que o Gradient Boosting tem uma pontuação média melhor, também parece que Extra Trees tem uma\n",
    "distribuição semelhante e talvez uma pontuação mediana melhor."
   ]
  },
  {
   "attachments": {},
   "cell_type": "markdown",
   "metadata": {},
   "source": [
    "Provavelmente podemos fazer melhor, visto que as técnicas de ensemble usaram os parâmetros padrão.\n",
    "Na próxima seção, veremos como ajustar o Gradient Boosting para aumentar ainda mais o desempenho."
   ]
  },
  {
   "attachments": {},
   "cell_type": "markdown",
   "metadata": {},
   "source": [
    "O número padrão de estágios de reforço a serem executados (n estimadores) é 100. Essa é uma boa\n",
    "parâmetro candidato de Gradient Boosting para ajustar. Frequentemente, quanto maior o número de reforços\n",
    "estágios, melhor o desempenho, mas maior o tempo de treinamento. Nesta seção iremos\n",
    "veja como ajustar o número de estágios para aumentar o gradiente. Abaixo de nimos uma grade de parâmetros\n",
    "n valores de estimadores de 50 a 400 em incrementos de 50. Cada configuração é avaliada usando 10 vezes\n",
    "validação cruzada."
   ]
  },
  {
   "cell_type": "code",
   "execution_count": 39,
   "metadata": {},
   "outputs": [],
   "source": [
    "# Tune scaled GBM\n",
    "scaler = StandardScaler().fit(X_train)\n",
    "rescaledX = scaler.transform(X_train)\n",
    "param_grid = dict(n_estimators=numpy.array([50,100,150,200,250,300,350,400]))\n",
    "model = GradientBoostingRegressor(random_state=seed)\n",
    "kfold = KFold(n_splits=num_folds, random_state=seed, shuffle=True)\n",
    "grid = GridSearchCV(estimator=model, param_grid=param_grid, scoring=scoring, cv=kfold)\n",
    "grid_result = grid.fit(rescaledX, Y_train)"
   ]
  },
  {
   "attachments": {},
   "cell_type": "markdown",
   "metadata": {},
   "source": [
    "Como antes, podemos resumir a melhor configuração e ter uma ideia de como o desempenho\n",
    "alterado a cada configuração diferente."
   ]
  },
  {
   "cell_type": "code",
   "execution_count": 40,
   "metadata": {},
   "outputs": [
    {
     "name": "stdout",
     "output_type": "stream",
     "text": [
      "Best: -10.560638 using {'n_estimators': 400}\n",
      "-11.629999 (8.833221) with: {'n_estimators': 50}\n",
      "-11.073455 (8.772155) with: {'n_estimators': 100}\n",
      "-10.838924 (8.734377) with: {'n_estimators': 150}\n",
      "-10.785568 (8.657244) with: {'n_estimators': 200}\n",
      "-10.654778 (8.540552) with: {'n_estimators': 250}\n",
      "-10.649385 (8.497232) with: {'n_estimators': 300}\n",
      "-10.589337 (8.413596) with: {'n_estimators': 350}\n",
      "-10.560638 (8.353747) with: {'n_estimators': 400}\n"
     ]
    }
   ],
   "source": [
    "print(\"Best: %f using %s\" % (grid_result.best_score_, grid_result.best_params_))\n",
    "means = grid_result.cv_results_['mean_test_score']\n",
    "stds = grid_result.cv_results_['std_test_score']\n",
    "params = grid_result.cv_results_['params']\n",
    "for mean, stdev, param in zip(means, stds, params):\n",
    "    print(\"%f (%f) with: %r\" % (mean, stdev, param))"
   ]
  },
  {
   "attachments": {},
   "cell_type": "markdown",
   "metadata": {},
   "source": [
    "Podemos ver que a melhor configuração foi n estimadores = 400, resultando em uma média quadrada\n",
    "erro de -9,356471, cerca de 0,65 unidades melhor que o método desafinado."
   ]
  },
  {
   "attachments": {},
   "cell_type": "markdown",
   "metadata": {},
   "source": [
    "Em seguida, podemos nalizar o modelo e prepará-lo para uso geral."
   ]
  },
  {
   "attachments": {},
   "cell_type": "markdown",
   "metadata": {},
   "source": [
    "#### Finalizar modelo"
   ]
  },
  {
   "attachments": {},
   "cell_type": "markdown",
   "metadata": {},
   "source": [
    "Nesta seção, vamos finalizar o modelo de aumento de gradiente e avaliá-lo em nosso teste\n",
    "conjunto de dados de validação. Primeiro, precisamos preparar o modelo e treiná-lo em todo o conjunto de dados de treinamento.\n",
    "Isso inclui padronizar o conjunto de dados de treinamento antes do treinamento."
   ]
  },
  {
   "cell_type": "code",
   "execution_count": 41,
   "metadata": {},
   "outputs": [
    {
     "data": {
      "text/html": [
       "<style>#sk-container-id-1 {color: black;background-color: white;}#sk-container-id-1 pre{padding: 0;}#sk-container-id-1 div.sk-toggleable {background-color: white;}#sk-container-id-1 label.sk-toggleable__label {cursor: pointer;display: block;width: 100%;margin-bottom: 0;padding: 0.3em;box-sizing: border-box;text-align: center;}#sk-container-id-1 label.sk-toggleable__label-arrow:before {content: \"▸\";float: left;margin-right: 0.25em;color: #696969;}#sk-container-id-1 label.sk-toggleable__label-arrow:hover:before {color: black;}#sk-container-id-1 div.sk-estimator:hover label.sk-toggleable__label-arrow:before {color: black;}#sk-container-id-1 div.sk-toggleable__content {max-height: 0;max-width: 0;overflow: hidden;text-align: left;background-color: #f0f8ff;}#sk-container-id-1 div.sk-toggleable__content pre {margin: 0.2em;color: black;border-radius: 0.25em;background-color: #f0f8ff;}#sk-container-id-1 input.sk-toggleable__control:checked~div.sk-toggleable__content {max-height: 200px;max-width: 100%;overflow: auto;}#sk-container-id-1 input.sk-toggleable__control:checked~label.sk-toggleable__label-arrow:before {content: \"▾\";}#sk-container-id-1 div.sk-estimator input.sk-toggleable__control:checked~label.sk-toggleable__label {background-color: #d4ebff;}#sk-container-id-1 div.sk-label input.sk-toggleable__control:checked~label.sk-toggleable__label {background-color: #d4ebff;}#sk-container-id-1 input.sk-hidden--visually {border: 0;clip: rect(1px 1px 1px 1px);clip: rect(1px, 1px, 1px, 1px);height: 1px;margin: -1px;overflow: hidden;padding: 0;position: absolute;width: 1px;}#sk-container-id-1 div.sk-estimator {font-family: monospace;background-color: #f0f8ff;border: 1px dotted black;border-radius: 0.25em;box-sizing: border-box;margin-bottom: 0.5em;}#sk-container-id-1 div.sk-estimator:hover {background-color: #d4ebff;}#sk-container-id-1 div.sk-parallel-item::after {content: \"\";width: 100%;border-bottom: 1px solid gray;flex-grow: 1;}#sk-container-id-1 div.sk-label:hover label.sk-toggleable__label {background-color: #d4ebff;}#sk-container-id-1 div.sk-serial::before {content: \"\";position: absolute;border-left: 1px solid gray;box-sizing: border-box;top: 0;bottom: 0;left: 50%;z-index: 0;}#sk-container-id-1 div.sk-serial {display: flex;flex-direction: column;align-items: center;background-color: white;padding-right: 0.2em;padding-left: 0.2em;position: relative;}#sk-container-id-1 div.sk-item {position: relative;z-index: 1;}#sk-container-id-1 div.sk-parallel {display: flex;align-items: stretch;justify-content: center;background-color: white;position: relative;}#sk-container-id-1 div.sk-item::before, #sk-container-id-1 div.sk-parallel-item::before {content: \"\";position: absolute;border-left: 1px solid gray;box-sizing: border-box;top: 0;bottom: 0;left: 50%;z-index: -1;}#sk-container-id-1 div.sk-parallel-item {display: flex;flex-direction: column;z-index: 1;position: relative;background-color: white;}#sk-container-id-1 div.sk-parallel-item:first-child::after {align-self: flex-end;width: 50%;}#sk-container-id-1 div.sk-parallel-item:last-child::after {align-self: flex-start;width: 50%;}#sk-container-id-1 div.sk-parallel-item:only-child::after {width: 0;}#sk-container-id-1 div.sk-dashed-wrapped {border: 1px dashed gray;margin: 0 0.4em 0.5em 0.4em;box-sizing: border-box;padding-bottom: 0.4em;background-color: white;}#sk-container-id-1 div.sk-label label {font-family: monospace;font-weight: bold;display: inline-block;line-height: 1.2em;}#sk-container-id-1 div.sk-label-container {text-align: center;}#sk-container-id-1 div.sk-container {/* jupyter's `normalize.less` sets `[hidden] { display: none; }` but bootstrap.min.css set `[hidden] { display: none !important; }` so we also need the `!important` here to be able to override the default hidden behavior on the sphinx rendered scikit-learn.org. See: https://github.com/scikit-learn/scikit-learn/issues/21755 */display: inline-block !important;position: relative;}#sk-container-id-1 div.sk-text-repr-fallback {display: none;}</style><div id=\"sk-container-id-1\" class=\"sk-top-container\"><div class=\"sk-text-repr-fallback\"><pre>GradientBoostingRegressor(n_estimators=400, random_state=7)</pre><b>In a Jupyter environment, please rerun this cell to show the HTML representation or trust the notebook. <br />On GitHub, the HTML representation is unable to render, please try loading this page with nbviewer.org.</b></div><div class=\"sk-container\" hidden><div class=\"sk-item\"><div class=\"sk-estimator sk-toggleable\"><input class=\"sk-toggleable__control sk-hidden--visually\" id=\"sk-estimator-id-1\" type=\"checkbox\" checked><label for=\"sk-estimator-id-1\" class=\"sk-toggleable__label sk-toggleable__label-arrow\">GradientBoostingRegressor</label><div class=\"sk-toggleable__content\"><pre>GradientBoostingRegressor(n_estimators=400, random_state=7)</pre></div></div></div></div></div>"
      ],
      "text/plain": [
       "GradientBoostingRegressor(n_estimators=400, random_state=7)"
      ]
     },
     "execution_count": 41,
     "metadata": {},
     "output_type": "execute_result"
    }
   ],
   "source": [
    "# prepare the model\n",
    "scaler = StandardScaler().fit(X_train)\n",
    "rescaledX = scaler.transform(X_train)\n",
    "model = GradientBoostingRegressor(random_state=seed, n_estimators=400)\n",
    "model.fit(rescaledX, Y_train)"
   ]
  },
  {
   "attachments": {},
   "cell_type": "markdown",
   "metadata": {},
   "source": [
    "Podemos então dimensionar as entradas para o conjunto de dados de validação e gerar previsões."
   ]
  },
  {
   "cell_type": "code",
   "execution_count": 42,
   "metadata": {},
   "outputs": [
    {
     "name": "stdout",
     "output_type": "stream",
     "text": [
      "11.902132586880027\n"
     ]
    }
   ],
   "source": [
    "# transform the validation dataset\n",
    "rescaledValidationX = scaler.transform(X_validation)\n",
    "predictions = model.predict(rescaledValidationX)\n",
    "print(mean_squared_error(Y_validation, predictions))"
   ]
  },
  {
   "attachments": {},
   "cell_type": "markdown",
   "metadata": {},
   "source": [
    "Podemos ver que o erro quadrático médio estimado é de 11.9, próximo de nossa estimativa de -9,3."
   ]
  },
  {
   "cell_type": "code",
   "execution_count": 43,
   "metadata": {},
   "outputs": [
    {
     "name": "stdout",
     "output_type": "stream",
     "text": [
      "Github username: caiquemiranda\n",
      "\n",
      "pandas    : 1.4.3\n",
      "matplotlib: 3.5.2\n",
      "numpy     : 1.23.0\n",
      "\n"
     ]
    }
   ],
   "source": [
    "%reload_ext watermark\n",
    "%watermark -gu \"caiquemiranda\" -iv"
   ]
  },
  {
   "attachments": {},
   "cell_type": "markdown",
   "metadata": {},
   "source": [
    "### End."
   ]
  }
 ],
 "metadata": {
  "kernelspec": {
   "display_name": "Python 3",
   "language": "python",
   "name": "python3"
  },
  "language_info": {
   "codemirror_mode": {
    "name": "ipython",
    "version": 3
   },
   "file_extension": ".py",
   "mimetype": "text/x-python",
   "name": "python",
   "nbconvert_exporter": "python",
   "pygments_lexer": "ipython3",
   "version": "3.10.5"
  },
  "orig_nbformat": 4
 },
 "nbformat": 4,
 "nbformat_minor": 2
}
