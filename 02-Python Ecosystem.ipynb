{
 "cells": [
  {
   "attachments": {},
   "cell_type": "markdown",
   "metadata": {},
   "source": [
    "### Python Ecosystem for Machine Learning"
   ]
  },
  {
   "attachments": {},
   "cell_type": "markdown",
   "metadata": {},
   "source": [
    "The Python ecosystem is growing and may become the dominant platform for machine learning.\n",
    "The primary rationale for adopting Python for machine learning is because it is a general\n",
    "purpose programming language that you can use both for R&D and in production. In this\n",
    "chapter you will discover the Python ecosystem for machine learning. After completing this\n",
    "lesson you will know:"
   ]
  },
  {
   "attachments": {},
   "cell_type": "markdown",
   "metadata": {},
   "source": [
    "1. Python and it's rising use for machine learning.\n",
    "2. SciPy and the functionality it provides with NumPy, Matplotlib and Pandas.\n",
    "3. scikit-learn that provides all of the machine learning algorithms.\n",
    "4. How to setup your Python ecosystem for machine learning and what versions to use\n",
    "Let's get started."
   ]
  },
  {
   "attachments": {},
   "cell_type": "markdown",
   "metadata": {},
   "source": [
    "#### Python"
   ]
  },
  {
   "attachments": {},
   "cell_type": "markdown",
   "metadata": {},
   "source": [
    "Python is a general purpose interpreted programming language. It is easy to learn and use\n",
    "primarily because the language focuses on readability. The philosophy of Python is captured in\n",
    "the Zen of Python which includes phrases like:"
   ]
  },
  {
   "cell_type": "code",
   "execution_count": null,
   "metadata": {},
   "outputs": [],
   "source": [
    "python_zen"
   ]
  },
  {
   "attachments": {},
   "cell_type": "markdown",
   "metadata": {},
   "source": [
    "It is a popular language in general, consistently appearing in the top 10 programming\n",
    "languages in surveys on StackOver\n",
    "ow1. It's a dynamic language and very suited to interactive development and quick prototyping with the power to support the development of large applica-\n",
    "tions. It is also widely used for machine learning and data science because of the excellent library\n",
    "support and because it is a general purpose programming language (unlike R or Matlab). For\n",
    "example, see the results of the Kaggle platform survey results in 20112 and the KDD Nuggets\n",
    "2015 tool survey results3."
   ]
  },
  {
   "attachments": {},
   "cell_type": "markdown",
   "metadata": {},
   "source": [
    "This is a simple and very important consideration. It means that you can perform your\n",
    "research and development (\fguring out what models to use) in the same programming language\n",
    "that you use for your production systems. Greatly simplifying the transition from development\n",
    "to production."
   ]
  },
  {
   "attachments": {},
   "cell_type": "markdown",
   "metadata": {},
   "source": [
    "#### SciPy"
   ]
  },
  {
   "attachments": {},
   "cell_type": "markdown",
   "metadata": {},
   "source": [
    "SciPy is an ecosystem of Python libraries for mathematics, science and engineering. It is an\n",
    "add-on to Python that you will need for machine learning. The SciPy ecosystem is comprised of\n",
    "the following core modules relevant to machine learning"
   ]
  },
  {
   "attachments": {},
   "cell_type": "markdown",
   "metadata": {},
   "source": [
    "NumPy: A foundation for SciPy that allows you to e\u000eciently work with data in arrays.\n",
    " Matplotlib: Allows you to create 2D charts and plots from data.\n",
    " Pandas: Tools and data structures to organize and analyze your data.\n",
    "To be e\u000bective at machine learning in Python you must install and become familiar with\n",
    "SciPy. Speci\fcally:\n",
    " You will prepare your data as NumPy arrays for modeling in machine learning algorithms.\n",
    " You will use Matplotlib (and wrappers of Matplotlib in other frameworks) to create plots\n",
    "and charts of your data.\n",
    " You will use Pandas to load explore and better understand your data.\n"
   ]
  },
  {
   "attachments": {},
   "cell_type": "markdown",
   "metadata": {},
   "source": [
    "#### scikit-learn"
   ]
  },
  {
   "attachments": {},
   "cell_type": "markdown",
   "metadata": {},
   "source": [
    "The scikit-learn library is how you can develop and practice machine learning in Python. It is\n",
    "built upon and requires the SciPy ecosystem. The name scikit suggests that it is a SciPy plug-in\n",
    "or toolkit. The focus of the library is machine learning algorithms for classi\fcation, regression,\n",
    "clustering and more. It also provides tools for related tasks such as evaluating models, tuning\n",
    "parameters and pre-processing data."
   ]
  },
  {
   "attachments": {},
   "cell_type": "markdown",
   "metadata": {},
   "source": [
    "Like Python and SciPy, scikit-learn is open source and is usable commercially under the BSD\n",
    "license. This means that you can learn about machine learning, develop models and put them\n",
    "into operations all with the same ecosystem and code. A powerful reason to use scikit-learn."
   ]
  },
  {
   "cell_type": "code",
   "execution_count": null,
   "metadata": {},
   "outputs": [],
   "source": [
    "# scipy\n",
    "import scipy\n",
    "print('scipy: {}'.format(scipy.__version__))\n",
    "# numpy\n",
    "import numpy\n",
    "print('numpy: {}'.format(numpy.__version__))\n",
    "# matplotlib\n",
    "import matplotlib\n",
    "print('matplotlib: {}'.format(matplotlib.__version__))\n",
    "# pandas\n",
    "import pandas\n",
    "print('pandas: {}'.format(pandas.__version__))\n",
    "# scikit-learn\n",
    "import sklearn\n",
    "print('sklearn: {}'.format(sklearn.__version__))\n"
   ]
  },
  {
   "cell_type": "code",
   "execution_count": null,
   "metadata": {},
   "outputs": [],
   "source": [
    "%reload_ext watermark\n",
    "%watermark -a \"Caique Miranda\" -gu \"caiquemiranda\" -iv"
   ]
  },
  {
   "attachments": {},
   "cell_type": "markdown",
   "metadata": {},
   "source": [
    "### End."
   ]
  }
 ],
 "metadata": {
  "language_info": {
   "name": "python"
  },
  "orig_nbformat": 4
 },
 "nbformat": 4,
 "nbformat_minor": 2
}
