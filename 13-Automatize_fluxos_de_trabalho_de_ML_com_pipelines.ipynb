{
 "cells": [
  {
   "attachments": {},
   "cell_type": "markdown",
   "metadata": {},
   "source": [
    "### Automatize fluxos de trabalho de aprendizado de máquina com pipelines"
   ]
  },
  {
   "attachments": {},
   "cell_type": "markdown",
   "metadata": {},
   "source": [
    "Existem trabalhos padrão\n",
    "fluxos em um projeto de aprendizado de máquina que pode ser automatizado. Em Python\n",
    "scikit-learn, Pipelines ajudam a de nir e automatizar claramente esses trabalhos\n",
    "ows. Neste capítulo você\n",
    "descobrirá Pipelines no scikit-learn e como você pode automatizar o aprendizado de máquina comum\n",
    "trabalhar\n",
    "ows. Depois de concluir esta lição, você saberá:\n",
    "1. Como usar pipelines para minimizar o vazamento de dados.\n",
    "2. Como construir um pipeline de modelagem e preparação de dados.\n",
    "3. Como construir um pipeline de modelagem e extração de recursos.\n",
    "Vamos começar."
   ]
  },
  {
   "attachments": {},
   "cell_type": "markdown",
   "metadata": {},
   "source": [
    "#### Como automatizar fluxos de trabalho de aprendizado de máquina"
   ]
  },
  {
   "attachments": {},
   "cell_type": "markdown",
   "metadata": {},
   "source": [
    "Existem trabalhos padrão\n",
    "fluxos em aprendizado de máquina aplicado. Padrão porque superam\n",
    "problemas comuns como vazamento de dados em seu equipamento de teste. Python scikit-learn fornece um pipeline\n",
    "utilitário para ajudar a automatizar o trabalho de aprendizado de máquina\n",
    "ows. Os dutos funcionam permitindo uma linha\n",
    "sequência de transformações de dados a serem encadeadas, culminando em um processo de modelagem que pode\n",
    "ser avaliado."
   ]
  },
  {
   "attachments": {},
   "cell_type": "markdown",
   "metadata": {},
   "source": [
    "O objetivo é garantir que todas as etapas do pipeline sejam restritas aos dados disponíveis\n",
    "para a avaliação, como o conjunto de dados de treinamento ou cada dobra do procedimento de validação cruzada.\n",
    "Você pode aprender mais sobre Pipelines no scikit-learn lendo a seção Pipeline1 do usuário\n",
    "guia. Você também pode revisar a documentação da API para as classes Pipeline e FeatureUnion\n",
    "e o módulo de pipeline."
   ]
  },
  {
   "attachments": {},
   "cell_type": "markdown",
   "metadata": {},
   "source": [
    "#### Preparação de dados e pipeline de modelagem"
   ]
  },
  {
   "attachments": {},
   "cell_type": "markdown",
   "metadata": {},
   "source": [
    "Uma armadilha fácil de cair no aprendizado de máquina aplicado é vazar dados do seu conjunto de dados de treinamento\n",
    "ao seu conjunto de dados de teste. Para evitar essa armadilha, você precisa de um equipamento de teste robusto com forte separação de treinamento e teste. Isso inclui a preparação de dados. A preparação de dados é uma maneira fácil de vazar\n",
    "conhecimento de todo o conjunto de dados de treinamento para o algoritmo. Por exemplo, preparando seus dados\n",
    "usar normalização ou padronização em todo o conjunto de dados de treinamento antes do aprendizado não\n",
    "ser um teste válido porque o conjunto de dados de treinamento estaria em\n",
    "uenciado pela escala dos dados\n",
    "no conjunto de teste."
   ]
  },
  {
   "attachments": {},
   "cell_type": "markdown",
   "metadata": {},
   "source": [
    "Os pipelines ajudam a evitar o vazamento de dados em seu equipamento de teste, garantindo que a preparação de dados\n",
    "como a padronização é restrita a cada dobra do seu procedimento de validação cruzada. O exemplo\n",
    "abaixo demonstra este importante trabalho de preparação de dados e avaliação de modelo\n",
    "olá no\n",
    "Conjunto de dados de início do diabetes dos índios Pima. O pipeline é definido com duas etapas:\n",
    "\n",
    "1. Padronize os dados.\n",
    "2. Aprenda um modelo de Análise Discriminante Linear.\n",
    "   \n",
    "O pipeline é então avaliado usando validação cruzada de 10 vezes."
   ]
  },
  {
   "cell_type": "code",
   "execution_count": 1,
   "metadata": {},
   "outputs": [
    {
     "name": "stdout",
     "output_type": "stream",
     "text": [
      "0.773462064251538\n"
     ]
    }
   ],
   "source": [
    "# Create a pipeline that standardizes the data then creates a model\n",
    "from pandas import read_csv\n",
    "from sklearn.model_selection import KFold\n",
    "from sklearn.model_selection import cross_val_score\n",
    "from sklearn.preprocessing import StandardScaler\n",
    "from sklearn.pipeline import Pipeline\n",
    "from sklearn.discriminant_analysis import LinearDiscriminantAnalysis\n",
    "\n",
    "import warnings\n",
    "warnings.filterwarnings('ignore')\n",
    "\n",
    "# load data\n",
    "filename = 'datasets/diabetes.csv'\n",
    "names = ['preg', 'plas', 'pres',\n",
    "         'skin', 'test', 'mass', \n",
    "         'pedi', 'age', 'class']\n",
    "\n",
    "dataframe = read_csv(filename, names=names)\n",
    "array = dataframe.values\n",
    "X = array[:,0:8]\n",
    "Y = array[:,8]\n",
    "# create pipeline\n",
    "estimators = []\n",
    "estimators.append(('standardize', StandardScaler()))\n",
    "estimators.append(('lda', LinearDiscriminantAnalysis()))\n",
    "model = Pipeline(estimators)\n",
    "# evaluate pipeline\n",
    "kfold = KFold(n_splits=10)\n",
    "results = cross_val_score(model, X, Y, cv=kfold)\n",
    "print(results.mean())"
   ]
  },
  {
   "attachments": {},
   "cell_type": "markdown",
   "metadata": {},
   "source": [
    "Observe como criamos uma lista Python de etapas que são fornecidas ao Pipeline para o processo\n",
    "os dados. Observe também como o próprio Pipeline é tratado como um estimador e é avaliado em seu\n",
    "inteiramente pelo procedimento de validação cruzada k-fold. A execução do exemplo fornece um resumo de\n",
    "precisão da configuração no conjunto de dados."
   ]
  },
  {
   "cell_type": "code",
   "execution_count": 2,
   "metadata": {},
   "outputs": [
    {
     "name": "stdout",
     "output_type": "stream",
     "text": [
      "0.773462064251538\n"
     ]
    }
   ],
   "source": [
    "print(results.mean())"
   ]
  },
  {
   "attachments": {},
   "cell_type": "markdown",
   "metadata": {},
   "source": [
    "#### Extração de recursos e pipeline de modelagem"
   ]
  },
  {
   "attachments": {},
   "cell_type": "markdown",
   "metadata": {},
   "source": [
    "A extração de recursos é outro procedimento suscetível ao vazamento de dados. Como a preparação de dados,\n",
    "os procedimentos de extração de recursos devem ser restritos aos dados em seu conjunto de dados de treinamento. O\n",
    "O pipeline fornece uma ferramenta útil chamada FeatureUnion, que permite os resultados de vários\n",
    "procedimentos de seleção e extração de recursos a serem combinados em um conjunto de dados maior no qual um\n",
    "modelo pode ser treinado. É importante ressaltar que toda a extração de recursos e a união de recursos ocorre\n",
    "dentro de cada dobra do procedimento de validação cruzada. O exemplo abaixo demonstra o pipeline\n",
    "de nido com quatro etapas:\n",
    "1. Extração de Características com Análise de Componentes Principais (3 características).\n",
    "2. Extração de características com seleção estatística (6 características).\n",
    "3. União de recursos.\n",
    "4. Aprenda um modelo de regressão logística.\n",
    "O pipeline é então avaliado usando validação cruzada de 10 vezes."
   ]
  },
  {
   "cell_type": "code",
   "execution_count": 3,
   "metadata": {},
   "outputs": [
    {
     "ename": "ValueError",
     "evalue": "Setting a random_state has no effect since shuffle is False. You should leave random_state to its default (None), or set shuffle=True.",
     "output_type": "error",
     "traceback": [
      "\u001b[1;31m---------------------------------------------------------------------------\u001b[0m",
      "\u001b[1;31mValueError\u001b[0m                                Traceback (most recent call last)",
      "\u001b[1;32md:\\GIT-repository\\github-machine-learning-mastery\\machine-learning-mastery\\13-Automatize_fluxos_de_trabalho_de_ML_com_pipelines.ipynb Cell 14\u001b[0m in \u001b[0;36m<cell line: 32>\u001b[1;34m()\u001b[0m\n\u001b[0;32m     <a href='vscode-notebook-cell:/d%3A/GIT-repository/github-machine-learning-mastery/machine-learning-mastery/13-Automatize_fluxos_de_trabalho_de_ML_com_pipelines.ipynb#X16sZmlsZQ%3D%3D?line=29'>30</a>\u001b[0m model \u001b[39m=\u001b[39m Pipeline(estimators)\n\u001b[0;32m     <a href='vscode-notebook-cell:/d%3A/GIT-repository/github-machine-learning-mastery/machine-learning-mastery/13-Automatize_fluxos_de_trabalho_de_ML_com_pipelines.ipynb#X16sZmlsZQ%3D%3D?line=30'>31</a>\u001b[0m \u001b[39m# evaluate pipeline\u001b[39;00m\n\u001b[1;32m---> <a href='vscode-notebook-cell:/d%3A/GIT-repository/github-machine-learning-mastery/machine-learning-mastery/13-Automatize_fluxos_de_trabalho_de_ML_com_pipelines.ipynb#X16sZmlsZQ%3D%3D?line=31'>32</a>\u001b[0m kfold \u001b[39m=\u001b[39m KFold(n_splits\u001b[39m=\u001b[39;49m\u001b[39m10\u001b[39;49m, random_state\u001b[39m=\u001b[39;49m\u001b[39m7\u001b[39;49m)\n\u001b[0;32m     <a href='vscode-notebook-cell:/d%3A/GIT-repository/github-machine-learning-mastery/machine-learning-mastery/13-Automatize_fluxos_de_trabalho_de_ML_com_pipelines.ipynb#X16sZmlsZQ%3D%3D?line=32'>33</a>\u001b[0m results \u001b[39m=\u001b[39m cross_val_score(model, X, Y, cv\u001b[39m=\u001b[39mkfold)\n\u001b[0;32m     <a href='vscode-notebook-cell:/d%3A/GIT-repository/github-machine-learning-mastery/machine-learning-mastery/13-Automatize_fluxos_de_trabalho_de_ML_com_pipelines.ipynb#X16sZmlsZQ%3D%3D?line=33'>34</a>\u001b[0m \u001b[39mprint\u001b[39m(results\u001b[39m.\u001b[39mmean())\n",
      "File \u001b[1;32mc:\\Users\\Caíque Miranda\\AppData\\Local\\Programs\\Python\\Python310\\lib\\site-packages\\sklearn\\model_selection\\_split.py:435\u001b[0m, in \u001b[0;36mKFold.__init__\u001b[1;34m(self, n_splits, shuffle, random_state)\u001b[0m\n\u001b[0;32m    434\u001b[0m \u001b[39mdef\u001b[39;00m \u001b[39m__init__\u001b[39m(\u001b[39mself\u001b[39m, n_splits\u001b[39m=\u001b[39m\u001b[39m5\u001b[39m, \u001b[39m*\u001b[39m, shuffle\u001b[39m=\u001b[39m\u001b[39mFalse\u001b[39;00m, random_state\u001b[39m=\u001b[39m\u001b[39mNone\u001b[39;00m):\n\u001b[1;32m--> 435\u001b[0m     \u001b[39msuper\u001b[39;49m()\u001b[39m.\u001b[39;49m\u001b[39m__init__\u001b[39;49m(n_splits\u001b[39m=\u001b[39;49mn_splits, shuffle\u001b[39m=\u001b[39;49mshuffle, random_state\u001b[39m=\u001b[39;49mrandom_state)\n",
      "File \u001b[1;32mc:\\Users\\Caíque Miranda\\AppData\\Local\\Programs\\Python\\Python310\\lib\\site-packages\\sklearn\\model_selection\\_split.py:296\u001b[0m, in \u001b[0;36m_BaseKFold.__init__\u001b[1;34m(self, n_splits, shuffle, random_state)\u001b[0m\n\u001b[0;32m    293\u001b[0m     \u001b[39mraise\u001b[39;00m \u001b[39mTypeError\u001b[39;00m(\u001b[39m\"\u001b[39m\u001b[39mshuffle must be True or False; got \u001b[39m\u001b[39m{0}\u001b[39;00m\u001b[39m\"\u001b[39m\u001b[39m.\u001b[39mformat(shuffle))\n\u001b[0;32m    295\u001b[0m \u001b[39mif\u001b[39;00m \u001b[39mnot\u001b[39;00m shuffle \u001b[39mand\u001b[39;00m random_state \u001b[39mis\u001b[39;00m \u001b[39mnot\u001b[39;00m \u001b[39mNone\u001b[39;00m:  \u001b[39m# None is the default\u001b[39;00m\n\u001b[1;32m--> 296\u001b[0m     \u001b[39mraise\u001b[39;00m \u001b[39mValueError\u001b[39;00m(\n\u001b[0;32m    297\u001b[0m         \u001b[39m\"\u001b[39m\u001b[39mSetting a random_state has no effect since shuffle is \u001b[39m\u001b[39m\"\u001b[39m\n\u001b[0;32m    298\u001b[0m         \u001b[39m\"\u001b[39m\u001b[39mFalse. You should leave \u001b[39m\u001b[39m\"\u001b[39m\n\u001b[0;32m    299\u001b[0m         \u001b[39m\"\u001b[39m\u001b[39mrandom_state to its default (None), or set shuffle=True.\u001b[39m\u001b[39m\"\u001b[39m,\n\u001b[0;32m    300\u001b[0m     )\n\u001b[0;32m    302\u001b[0m \u001b[39mself\u001b[39m\u001b[39m.\u001b[39mn_splits \u001b[39m=\u001b[39m n_splits\n\u001b[0;32m    303\u001b[0m \u001b[39mself\u001b[39m\u001b[39m.\u001b[39mshuffle \u001b[39m=\u001b[39m shuffle\n",
      "\u001b[1;31mValueError\u001b[0m: Setting a random_state has no effect since shuffle is False. You should leave random_state to its default (None), or set shuffle=True."
     ]
    }
   ],
   "source": [
    "# Create a pipeline that extracts features from the data then creates a model\n",
    "from pandas import read_csv\n",
    "from sklearn.model_selection import KFold\n",
    "from sklearn.model_selection import cross_val_score\n",
    "from sklearn.pipeline import Pipeline\n",
    "from sklearn.pipeline import FeatureUnion\n",
    "from sklearn.linear_model import LogisticRegression\n",
    "from sklearn.decomposition import PCA\n",
    "from sklearn.feature_selection import SelectKBest\n",
    "\n",
    "# load data\n",
    "filename = 'datasets/diabetes.csv'\n",
    "names = ['preg', 'plas', 'pres',\n",
    "         'skin', 'test', 'mass', \n",
    "         'pedi', 'age', 'class']\n",
    "\n",
    "dataframe = read_csv(filename, names=names)\n",
    "array = dataframe.values\n",
    "X = array[:,0:8]\n",
    "Y = array[:,8]\n",
    "\n",
    "# create feature union\n",
    "features = []\n",
    "features.append(('pca', PCA(n_components=3)))\n",
    "features.append(('select_best', SelectKBest(k=6)))\n",
    "feature_union = FeatureUnion(features)\n",
    "\n",
    "# create pipeline\n",
    "estimators = []\n",
    "estimators.append(('feature_union', feature_union))\n",
    "estimators.append(('logistic', LogisticRegression()))\n",
    "model = Pipeline(estimators)\n",
    "\n",
    "# evaluate pipeline\n",
    "kfold = KFold(n_splits=10, random_state=7)\n",
    "results = cross_val_score(model, X, Y, cv=kfold)\n",
    "print(results.mean())"
   ]
  },
  {
   "attachments": {},
   "cell_type": "markdown",
   "metadata": {},
   "source": [
    "Observe como o FeatureUnion é seu próprio Pipeline que por sua vez é uma única etapa no nal\n",
    "Pipeline utilizado para alimentar a Regressão Logística. Isso pode fazer você pensar em como começar\n",
    "incorporando pipelines dentro de pipelines. A execução do exemplo fornece um resumo da precisão de\n",
    "a configuração no conjunto de dados."
   ]
  },
  {
   "cell_type": "code",
   "execution_count": null,
   "metadata": {},
   "outputs": [],
   "source": [
    "print(results.mean())"
   ]
  },
  {
   "cell_type": "code",
   "execution_count": null,
   "metadata": {},
   "outputs": [],
   "source": [
    "%reload_ext watermark\n",
    "%watermark -a \"Caique Miranda\" -gu \"caiquemiranda\" -iv"
   ]
  },
  {
   "attachments": {},
   "cell_type": "markdown",
   "metadata": {},
   "source": [
    "### End."
   ]
  }
 ],
 "metadata": {
  "kernelspec": {
   "display_name": "Python 3",
   "language": "python",
   "name": "python3"
  },
  "language_info": {
   "codemirror_mode": {
    "name": "ipython",
    "version": 3
   },
   "file_extension": ".py",
   "mimetype": "text/x-python",
   "name": "python",
   "nbconvert_exporter": "python",
   "pygments_lexer": "ipython3",
   "version": "3.10.5"
  },
  "orig_nbformat": 4
 },
 "nbformat": 4,
 "nbformat_minor": 2
}
