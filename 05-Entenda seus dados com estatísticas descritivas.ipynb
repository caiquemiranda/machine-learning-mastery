{
 "cells": [
  {
   "attachments": {},
   "cell_type": "markdown",
   "metadata": {},
   "source": [
    "### Entenda seus dados com estatísticas descritivas"
   ]
  },
  {
   "attachments": {},
   "cell_type": "markdown",
   "metadata": {},
   "source": [
    "Você deve entender seus dados para obter os melhores resultados. Neste capítulo você descobrirá\n",
    "7 receitas que você pode usar em Python para entender melhor seus dados de aprendizado de máquina. Depois\n",
    "lendo esta lição você saberá como:"
   ]
  },
  {
   "attachments": {},
   "cell_type": "markdown",
   "metadata": {},
   "source": [
    "1. Dê uma olhada em seus dados brutos.\n",
    "2. Revise as dimensões do seu conjunto de dados.\n",
    "3. Revise os tipos de dados de atributos em seus dados.\n",
    "4. Resuma a distribuição de instâncias entre classes em seu conjunto de dados.\n",
    "5. Resuma seus dados usando estatísticas descritivas.\n",
    "6. Entenda as relações em seus dados usando correlações.\n",
    "7. Revise a inclinação das distribuições de cada atributo."
   ]
  },
  {
   "attachments": {},
   "cell_type": "markdown",
   "metadata": {},
   "source": [
    "Cada receita é demonstrada carregando o conjunto de dados de classificação de diabetes Pima Indians\n",
    "do repositório UCI Machine Learning. Abra seu ambiente interativo Python e tente\n",
    "cada receita por sua vez. Vamos começar."
   ]
  },
  {
   "attachments": {},
   "cell_type": "markdown",
   "metadata": {},
   "source": [
    "#### Dê uma olhada em seus dados"
   ]
  },
  {
   "attachments": {},
   "cell_type": "markdown",
   "metadata": {},
   "source": [
    "Não há substituto para olhar para os dados brutos. Observar os dados brutos pode revelar insights\n",
    "que você não pode obter de outra maneira. Ele também pode plantar sementes que mais tarde podem se transformar em ideias sobre\n",
    "como pré-processar e manipular melhor os dados para tarefas de aprendizado de máquina. Você pode rever o\n",
    "primeiras 20 linhas de seus dados usando a função head() no Pandas DataFrame."
   ]
  },
  {
   "cell_type": "code",
   "execution_count": null,
   "metadata": {},
   "outputs": [],
   "source": [
    "# View first 20 rows\n",
    "from pandas import read_csv\n",
    "filename = \"pima-indians-diabetes.data.csv\"\n",
    "names = ['preg', 'plas', 'pres', 'skin', 'test', 'mass', 'pedi', 'age', 'class']\n",
    "data = read_csv(filename, names=names)\n",
    "peek = data.head(20)\n",
    "print(peek)"
   ]
  },
  {
   "attachments": {},
   "cell_type": "markdown",
   "metadata": {},
   "source": [
    "Você pode ver que a primeira coluna lista o número da linha, o que é útil para referenciar um\n",
    "observação específica."
   ]
  },
  {
   "cell_type": "code",
   "execution_count": null,
   "metadata": {},
   "outputs": [],
   "source": [
    "print(peek)"
   ]
  },
  {
   "attachments": {},
   "cell_type": "markdown",
   "metadata": {},
   "source": [
    "#### Dimensões dos seus dados"
   ]
  },
  {
   "attachments": {},
   "cell_type": "markdown",
   "metadata": {},
   "source": [
    "Você deve ter um controle muito bom sobre a quantidade de dados que possui, tanto em termos de linhas quanto\n",
    "colunas.\n",
    "Muitas linhas e algoritmos podem levar muito tempo para treinar. Muito poucos e talvez você faça\n",
    "não tem dados suficientes para treinar os algoritmos.\n",
    "Muitos recursos e alguns algoritmos podem ser distraídos ou apresentar baixo desempenho devido\n",
    "para a maldição da dimensionalidade.\n",
    "Você pode revisar a forma e o tamanho do seu conjunto de dados imprimindo a propriedade de forma na\n",
    "Pandas DataFrame."
   ]
  },
  {
   "cell_type": "code",
   "execution_count": null,
   "metadata": {},
   "outputs": [],
   "source": [
    "# Dimensions of your data\n",
    "from pandas import read_csv\n",
    "filename = \"pima-indians-diabetes.data.csv\"\n",
    "names = ['preg', 'plas', 'pres', 'skin', 'test', 'mass', 'pedi', 'age', 'class']\n",
    "data = read_csv(filename, names=names)\n",
    "shape = data.shape\n",
    "print(shape)"
   ]
  },
  {
   "attachments": {},
   "cell_type": "markdown",
   "metadata": {},
   "source": [
    "Os resultados são listados em linhas e colunas. Você pode ver que o conjunto de dados tem 768 linhas e\n",
    "9 colunas."
   ]
  },
  {
   "cell_type": "code",
   "execution_count": null,
   "metadata": {},
   "outputs": [],
   "source": [
    "print(shape)"
   ]
  },
  {
   "attachments": {},
   "cell_type": "markdown",
   "metadata": {},
   "source": [
    "#### Tipo de dados para cada atributo"
   ]
  },
  {
   "attachments": {},
   "cell_type": "markdown",
   "metadata": {},
   "source": [
    "O tipo de cada atributo é importante. Strings podem precisar ser convertidas para\n",
    "ponto de flutuação\n",
    "valores ou inteiros para representar valores categóricos ou ordinais. Você pode ter uma ideia dos tipos de\n",
    "atributos espiando os dados brutos, como acima. Você também pode listar os tipos de dados usados pelo\n",
    "DataFrame para caracterizar cada atributo usando a propriedade dtypes."
   ]
  },
  {
   "cell_type": "code",
   "execution_count": null,
   "metadata": {},
   "outputs": [],
   "source": [
    "# Data Types for Each Attribute\n",
    "from pandas import read_csv\n",
    "filename = \"pima-indians-diabetes.data.csv\"\n",
    "names = ['preg', 'plas', 'pres', 'skin', 'test', 'mass', 'pedi', 'age', 'class']\n",
    "data = read_csv(filename, names=names)\n",
    "types = data.dtypes\n",
    "print(types)"
   ]
  },
  {
   "attachments": {},
   "cell_type": "markdown",
   "metadata": {},
   "source": [
    "Você pode ver que a maioria dos atributos são números inteiros e que massa e pedi são\n",
    "flutuando\n",
    "tipos de pontos."
   ]
  },
  {
   "cell_type": "code",
   "execution_count": null,
   "metadata": {},
   "outputs": [],
   "source": [
    "print(types)"
   ]
  },
  {
   "attachments": {},
   "cell_type": "markdown",
   "metadata": {},
   "source": [
    "#### Estatísticas descritivas"
   ]
  },
  {
   "attachments": {},
   "cell_type": "markdown",
   "metadata": {},
   "source": [
    "As estatísticas descritivas podem fornecer uma grande visão sobre a forma de cada atributo. Muitas vezes você pode\n",
    "crie mais resumos do que você tem tempo para revisar. A função describe() nos Pandas\n",
    "DataFrame lista 8 propriedades estatísticas de cada atributo. Eles são:\n",
    "\n",
    "Contagem.\n",
    "Média.\n",
    "Desvio Padrão.\n",
    "Valor Mínimo.\n",
    "25º percentil.\n",
    "Percentil 50 (mediana).\n",
    "75º percentil.\n",
    "Valor Máximo."
   ]
  },
  {
   "cell_type": "code",
   "execution_count": null,
   "metadata": {},
   "outputs": [],
   "source": [
    "# Statistical Summary\n",
    "from pandas import read_csv\n",
    "from pandas import set_option\n",
    "filename = \"pima-indians-diabetes.data.csv\"\n",
    "names = ['preg', 'plas', 'pres', 'skin', 'test', 'mass', 'pedi', 'age', 'class']\n",
    "data = read_csv(filename, names=names)\n",
    "set_option('display.width', 100)\n",
    "set_option('precision', 3)\n",
    "description = data.describe()\n",
    "print(description)"
   ]
  },
  {
   "attachments": {},
   "cell_type": "markdown",
   "metadata": {},
   "source": [
    "Você pode ver que obtém muitos dados. Você notará algumas chamadas para pandas.set option()\n",
    "na receita para alterar a precisão dos números e a largura preferencial da saída. Esse\n",
    "é torná-lo mais legível para este exemplo. Ao descrever seus dados dessa maneira, vale a pena\n",
    "tomando algum tempo e revisando as observações dos resultados. Isso pode incluir a presença\n",
    "de valores NA para dados ausentes ou distribuições surpreendentes para atributos."
   ]
  },
  {
   "cell_type": "code",
   "execution_count": null,
   "metadata": {},
   "outputs": [],
   "source": [
    "print(description)"
   ]
  },
  {
   "attachments": {},
   "cell_type": "markdown",
   "metadata": {},
   "source": [
    "#### Distribuição de classes (somente classificação)"
   ]
  },
  {
   "attachments": {},
   "cell_type": "markdown",
   "metadata": {},
   "source": [
    "Em problemas de classificação, você precisa saber o quão balanceados são os valores das classes. Altamente desequilibrado\n",
    "problemas (muito mais observações para uma classe do que para outra) são comuns e podem precisar de atenção especial\n",
    "manipulação na fase de preparação de dados do seu projeto. Você pode rapidamente ter uma ideia do\n",
    "distribuição do atributo de classe em Pandas."
   ]
  },
  {
   "cell_type": "code",
   "execution_count": null,
   "metadata": {},
   "outputs": [],
   "source": [
    "# Class Distribution\n",
    "from pandas import read_csv\n",
    "filename = \"pima-indians-diabetes.data.csv\"\n",
    "names = ['preg', 'plas', 'pres', 'skin', 'test', 'mass', 'pedi', 'age', 'class']\n",
    "data = read_csv(filename, names=names)\n",
    "class_counts = data.groupby('class').size()\n",
    "print(class_counts)"
   ]
  },
  {
   "attachments": {},
   "cell_type": "markdown",
   "metadata": {},
   "source": [
    "Você pode ver que há quase o dobro do número de observações com classe 0 (sem início\n",
    "de diabetes) do que na classe 1 (diabetes de início)."
   ]
  },
  {
   "cell_type": "code",
   "execution_count": null,
   "metadata": {},
   "outputs": [],
   "source": [
    "print(class_counts)"
   ]
  },
  {
   "attachments": {},
   "cell_type": "markdown",
   "metadata": {},
   "source": [
    "#### Correlações entre atributos"
   ]
  },
  {
   "attachments": {},
   "cell_type": "markdown",
   "metadata": {},
   "source": [
    "Correlação refere-se à relação entre duas variáveis e como elas podem ou não\n",
    "mudar juntos. O método mais comum para calcular a correlação é a Correlação de Pearson\n",
    "Coe ciente, que assume uma distribuição normal dos atributos envolvidos. Uma correlação de -1\n",
    "ou 1 mostra uma correlação negativa ou positiva completa, respectivamente. Considerando que um valor de 0 não mostra nenhum\n",
    "correlação em tudo. Alguns algoritmos de aprendizado de máquina, como regressão linear e logística, podem sofrer\n",
    "baixo desempenho se houver atributos altamente correlacionados em seu conjunto de dados. Como tal, é um bom\n",
    "ideia de revisar todas as correlações aos pares dos atributos em seu conjunto de dados. Você pode usar o\n",
    "corr() no Pandas DataFrame para calcular uma matriz de correlação."
   ]
  },
  {
   "cell_type": "code",
   "execution_count": null,
   "metadata": {},
   "outputs": [],
   "source": [
    "# Pairwise Pearson correlations\n",
    "from pandas import read_csv\n",
    "from pandas import set_option\n",
    "filename = \"pima-indians-diabetes.data.csv\"\n",
    "names = ['preg', 'plas', 'pres', 'skin', 'test', 'mass', 'pedi', 'age', 'class']\n",
    "data = read_csv(filename, names=names)\n",
    "set_option('display.width', 100)\n",
    "set_option('precision', 3)\n",
    "correlations = data.corr(method='pearson')\n",
    "print(correlations)"
   ]
  },
  {
   "attachments": {},
   "cell_type": "markdown",
   "metadata": {},
   "source": [
    "A matriz lista todos os atributos na parte superior e inferior da lateral, para fornecer correlação entre\n",
    "todos os pares de atributos (duas vezes, porque a matriz é simétrica). Você pode ver a diagonal\n",
    "linha através da matriz do canto superior esquerdo ao canto inferior direito da matriz mostra perfeito\n",
    "correlação de cada atributo consigo mesmo."
   ]
  },
  {
   "cell_type": "code",
   "execution_count": null,
   "metadata": {},
   "outputs": [],
   "source": [
    "print(correlations)"
   ]
  },
  {
   "attachments": {},
   "cell_type": "markdown",
   "metadata": {},
   "source": [
    "#### Distorção de Distribuições Univariadas"
   ]
  },
  {
   "attachments": {},
   "cell_type": "markdown",
   "metadata": {},
   "source": [
    "Skew refere-se a uma distribuição que é considerada gaussiana (normal ou curva de sino) que é deslocada ou\n",
    "esmagado em uma direção ou outra. Muitos algoritmos de aprendizado de máquina assumem uma Gaussiana\n",
    "distribuição. Saber que um atributo tem uma inclinação pode permitir que você execute a preparação de dados\n",
    "para corrigir a inclinação e depois melhorar a precisão de seus modelos. Você pode calcular a inclinação\n",
    "de cada atributo usando a função skew() no Pandas DataFrame."
   ]
  },
  {
   "cell_type": "code",
   "execution_count": null,
   "metadata": {},
   "outputs": [],
   "source": [
    "# Skew for each attribute\n",
    "from pandas import read_csv\n",
    "filename = \"pima-indians-diabetes.data.csv\"\n",
    "names = ['preg', 'plas', 'pres', 'skin', 'test', 'mass', 'pedi', 'age', 'class']\n",
    "data = read_csv(filename, names=names)\n",
    "skew = data.skew()\n",
    "print(skew)"
   ]
  },
  {
   "attachments": {},
   "cell_type": "markdown",
   "metadata": {},
   "source": [
    "O resultado da inclinação mostra uma inclinação positiva (direita) ou negativa (esquerda). Valores mais próximos de zero são exibidos\n",
    "menos enviesado."
   ]
  },
  {
   "cell_type": "code",
   "execution_count": null,
   "metadata": {},
   "outputs": [],
   "source": [
    "print(skew)"
   ]
  },
  {
   "attachments": {},
   "cell_type": "markdown",
   "metadata": {},
   "source": [
    "#### Dicas para lembrar"
   ]
  },
  {
   "attachments": {},
   "cell_type": "markdown",
   "metadata": {},
   "source": [
    "Esta seção fornece algumas dicas a serem lembradas ao revisar seus dados usando estatísticas resumidas.\n",
    "Revise os números. Gerar as estatísticas resumidas não é suficiente. Espere um momento\n",
    "para fazer uma pausa, ler e realmente pensar sobre os números que você está vendo.\n",
    "Pergunte por quê. Revise seus números e faça muitas perguntas. Como e por que você está vendo\n",
    "números específicos. Pense em como os números se relacionam com o domínio do problema em geral\n",
    "e entidades específicas com as quais as observações se relacionam.\n",
    "Anote as ideias. Anote suas observações e ideias. Mantenha um pequeno arquivo de texto ou\n",
    "bloco de notas e anote todas as ideias sobre como as variáveis podem se relacionar, para quais números\n",
    "significa, e ideias de técnicas para tentar mais tarde. As coisas que você escreve agora enquanto o\n",
    "os dados atualizados serão muito valiosos mais tarde, quando você estiver tentando pensar em coisas novas para experimentar."
   ]
  },
  {
   "cell_type": "code",
   "execution_count": null,
   "metadata": {},
   "outputs": [],
   "source": [
    "%reload_ext watermark\n",
    "%watermark -a \"Caique Miranda\" -gu \"caiquemiranda\" -iv"
   ]
  },
  {
   "attachments": {},
   "cell_type": "markdown",
   "metadata": {},
   "source": [
    "### End."
   ]
  }
 ],
 "metadata": {
  "kernelspec": {
   "display_name": "Python 3",
   "language": "python",
   "name": "python3"
  },
  "language_info": {
   "name": "python",
   "version": "3.10.5"
  },
  "orig_nbformat": 4
 },
 "nbformat": 4,
 "nbformat_minor": 2
}
