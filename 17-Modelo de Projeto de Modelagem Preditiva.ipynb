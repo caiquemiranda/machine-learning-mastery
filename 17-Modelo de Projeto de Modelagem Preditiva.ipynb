{
 "cells": [
  {
   "attachments": {},
   "cell_type": "markdown",
   "metadata": {},
   "source": [
    "### Modelo de Projeto de Modelagem Preditiva"
   ]
  },
  {
   "attachments": {},
   "cell_type": "markdown",
   "metadata": {},
   "source": [
    "O aprendizado de máquina aplicado é uma habilidade empírica. Você não pode melhorar lendo livros e\n",
    "artigos. Você tem que praticar. Nesta lição, você descobrirá o aprendizado de máquina simples em seis etapas\n",
    "modelo de projeto que você pode usar para iniciar seu projeto em Python. Depois de concluir isso\n",
    "lição que você vai saber:\n",
    "\n",
    "1. Como estruturar um projeto de modelagem preditiva de ponta a ponta.\n",
    "2. Como mapear as tarefas que você aprendeu na Parte II em um projeto.\n",
    "3. Como usar melhor o modelo de projeto estruturado para garantir um resultado preciso para o seu\n",
    "conjunto de dados."
   ]
  },
  {
   "attachments": {},
   "cell_type": "markdown",
   "metadata": {},
   "source": [
    "#### Pratique aprendizado de máquina com projetos"
   ]
  },
  {
   "attachments": {},
   "cell_type": "markdown",
   "metadata": {},
   "source": [
    "Trabalhar com problemas de aprendizado de máquina de ponta a ponta é extremamente importante. Você pode\n",
    "leia sobre aprendizado de máquina. Você também pode experimentar pequenas receitas individuais. Mas máquina aplicada\n",
    "o aprendizado não ganhará vida para você até que você trabalhe com um conjunto de dados do começo ao fim.\n",
    "Trabalhar em um projeto obriga você a pensar em como o modelo será usado, a desafiar\n",
    "suas suposições e ser bom em todas as partes de um projeto, não apenas em suas partes favoritas. O melhor\n",
    "maneira de praticar projetos de aprendizado de máquina de modelagem preditiva é usar conjuntos de dados padronizados\n",
    "do Repositório de Machine Learning da UCI. Depois de ter um conjunto de dados de prática e um monte de\n",
    "Receitas do Python, como você junta tudo e trabalha com o problema de ponta a ponta?"
   ]
  },
  {
   "attachments": {},
   "cell_type": "markdown",
   "metadata": {},
   "source": [
    "##### Use um processo passo a passo estruturado"
   ]
  },
  {
   "attachments": {},
   "cell_type": "markdown",
   "metadata": {},
   "source": [
    "Qualquer projeto de aprendizado de máquina de modelagem preditiva pode ser dividido em seis tarefas comuns:\n",
    "\n",
    "1. De ne Problema.\n",
    "2. Resumir dados.\n",
    "3. Prepare os dados.\n",
    "4. Avalie Algoritmos.\n",
    "5. Melhore os resultados.\n",
    "6. Apresentar resultados.\n",
    "\n",
    "As tarefas podem ser combinadas ou divididas ainda mais, mas esta é a estrutura geral. Trabalhar\n",
    "por meio de problemas de aprendizado de máquina de modelagem preditiva em Python, você precisa mapear Python\n",
    "neste processo. As tarefas podem precisar ser adaptadas ou renomeadas ligeiramente para se adequar ao Python\n",
    "maneira de fazer as coisas (por exemplo, Pandas para carregamento de dados e scikit-learn para modelagem). Nas próximas\n",
    "seção fornece exatamente esse mapeamento e elabora cada tarefa e os tipos de subtarefas e\n",
    "bibliotecas que você pode usar."
   ]
  },
  {
   "attachments": {},
   "cell_type": "markdown",
   "metadata": {},
   "source": [
    "#### Modelo de projeto de aprendizado de máquina em Python"
   ]
  },
  {
   "attachments": {},
   "cell_type": "markdown",
   "metadata": {},
   "source": [
    "Esta seção apresenta um modelo de projeto que você pode usar para trabalhar com aprendizado de máquina\n",
    "problemas em Python de ponta a ponta."
   ]
  },
  {
   "attachments": {},
   "cell_type": "markdown",
   "metadata": {},
   "source": [
    "##### Resumo do modelo"
   ]
  },
  {
   "attachments": {},
   "cell_type": "markdown",
   "metadata": {},
   "source": [
    "Abaixo está o modelo de projeto que você pode usar em seus projetos de aprendizado de máquina em Python."
   ]
  },
  {
   "cell_type": "code",
   "execution_count": null,
   "metadata": {},
   "outputs": [],
   "source": [
    "# Modelo de Projeto Python\n",
    "# 1. Prepare o problema\n",
    "# a) Carregar bibliotecas\n",
    "# b) Carregar conjunto de dados\n",
    "\n",
    "# 2. Resumir dados\n",
    "# a) Estatística descritiva\n",
    "# b) Visualizações de dados\n",
    "\n",
    "# 3. Preparar dados\n",
    "# a) Limpeza de Dados\n",
    "# b) Seleção de recursos\n",
    "# c) Transformações de Dados\n",
    "\n",
    "# 4. Avalie algoritmos\n",
    "# a) Conjunto de dados de validação dividido\n",
    "# b) Opções de teste e métrica de avaliação\n",
    "# c) Algoritmos de verificação pontual\n",
    "# d) Comparar Algoritmos\n",
    "\n",
    "# 5. Melhore a precisão\n",
    "# a) Ajuste de Algoritmo\n",
    "# b) Conjuntos\n",
    "\n",
    "# 6. Finalizar modelo\n",
    "# a) Previsões no conjunto de dados de validação\n",
    "# b) Crie um modelo autônomo em todo o conjunto de dados de treinamento\n",
    "# c) Salvar modelo para uso posterior"
   ]
  },
  {
   "attachments": {},
   "cell_type": "markdown",
   "metadata": {},
   "source": [
    "##### Como usar o modelo de projeto"
   ]
  },
  {
   "attachments": {},
   "cell_type": "markdown",
   "metadata": {},
   "source": [
    "1. Crie um novo arquivo para seu projeto (por exemplo, nome do projeto.py).\n",
    "2. Copie o modelo de projeto.\n",
    "3. Cole-o em seu arquivo de projeto vazio.\n",
    "4. Comece a enchê-lo, usando as receitas deste livro e de outros."
   ]
  },
  {
   "attachments": {},
   "cell_type": "markdown",
   "metadata": {},
   "source": [
    "#### Etapas do modelo de projeto de aprendizado de máquina"
   ]
  },
  {
   "attachments": {},
   "cell_type": "markdown",
   "metadata": {},
   "source": [
    "Esta seção fornece detalhes adicionais sobre cada uma das etapas do modelo."
   ]
  },
  {
   "attachments": {},
   "cell_type": "markdown",
   "metadata": {},
   "source": [
    "##### Preparar Problema"
   ]
  },
  {
   "attachments": {},
   "cell_type": "markdown",
   "metadata": {},
   "source": [
    "Esta etapa é sobre carregar tudo o que você precisa para começar a trabalhar no seu problema. Isso inclui:\n",
    "\n",
    ". Módulos, classes e funções Python que você pretende usar.\n",
    "\n",
    ". Carregando seu conjunto de dados de CSV.\n",
    "\n",
    "Este também é o local de qualquer configuração global que você possa precisar fazer. É também o lugar\n",
    "onde você pode precisar fazer uma amostra reduzida de seu conjunto de dados se for muito grande para trabalhar.\n",
    "Idealmente, seu conjunto de dados deve ser pequeno o suficiente para construir um modelo ou criar uma visualização dentro de um\n",
    "minuto, idealmente 30 segundos. Você sempre pode escalar modelos de bom desempenho mais tarde."
   ]
  },
  {
   "attachments": {},
   "cell_type": "markdown",
   "metadata": {},
   "source": [
    "##### Resumir dados"
   ]
  },
  {
   "attachments": {},
   "cell_type": "markdown",
   "metadata": {},
   "source": [
    "Esta etapa é sobre entender melhor os dados que você tem disponíveis. Isso inclui\n",
    "entender seus dados usando:\n",
    "\n",
    ". Estatísticas descritivas, como resumos.\n",
    ". Visualizações de dados, como gráficos com Matplotlib, idealmente usando funções de conveniência de\n",
    "Pandas.\n",
    "\n",
    "Não se apresse e use os resultados para levantar muitas questões, suposições e hipóteses\n",
    "que você pode investigar mais tarde com modelos especializados."
   ]
  },
  {
   "attachments": {},
   "cell_type": "markdown",
   "metadata": {},
   "source": [
    "##### Preparar Dados"
   ]
  },
  {
   "attachments": {},
   "cell_type": "markdown",
   "metadata": {},
   "source": [
    "Esta etapa trata de preparar os dados de forma que exponham melhor a estrutura do\n",
    "problema e as relações entre seus atributos de entrada com a variável de saída. Esse\n",
    "inclui tarefas como:\n",
    "\n",
    ". Limpeza de dados removendo duplicatas, marcando valores ausentes e até imputando valores ausentes\n",
    "valores.\n",
    ". Seleção de recursos onde recursos redundantes podem ser removidos e novos recursos desenvolvidos.\n",
    ". Transformações de dados onde os atributos são dimensionados ou redistribuídos para melhor expor o\n",
    "estrutura do problema posteriormente para algoritmos de aprendizagem.\n",
    "\n",
    "Comece simples. Revisite esta etapa com frequência e alterne com a próxima etapa até convergir para um\n",
    "subconjunto de algoritmos e uma apresentação dos dados que resultam em resultados precisos ou precisos o suficiente\n",
    "modelos para prosseguir."
   ]
  },
  {
   "attachments": {},
   "cell_type": "markdown",
   "metadata": {},
   "source": [
    "##### Avaliar Algoritmos"
   ]
  },
  {
   "attachments": {},
   "cell_type": "markdown",
   "metadata": {},
   "source": [
    "Esta etapa trata de encontrar um subconjunto de algoritmos de aprendizado de máquina que são bons em explorar\n",
    "a estrutura de seus dados (por exemplo, ter habilidade acima da média). Isso envolve etapas como:\n",
    "\n",
    ". Separando um conjunto de dados de validação para usar para confirmação posterior da habilidade de seu\n",
    "modelo desenvolvido.\n",
    ". Definir opções de teste usando scikit-learn, como validação cruzada e métrica de avaliação\n",
    "usar.\n",
    ". Verificação pontual de um conjunto de algoritmos de aprendizado de máquina lineares e não lineares.\n",
    ". Comparando a precisão estimada dos algoritmos.\n",
    "\n",
    "Em um determinado problema, você provavelmente gastará a maior parte do seu tempo nesta e na etapa anterior\n",
    "até você convergir para um conjunto de algoritmos de aprendizado de máquina de 3 a 5 com bom desempenho."
   ]
  },
  {
   "attachments": {},
   "cell_type": "markdown",
   "metadata": {},
   "source": [
    "##### Melhorar a Precisão"
   ]
  },
  {
   "attachments": {},
   "cell_type": "markdown",
   "metadata": {},
   "source": [
    "Depois de ter uma lista restrita de algoritmos de aprendizado de máquina, você precisa aproveitá-los ao máximo.\n",
    "Existem duas maneiras diferentes de melhorar a precisão de seus modelos:\n",
    "\n",
    ". Pesquise uma combinação de parâmetros para cada algoritmo usando o scikit-learn que produz\n",
    "os melhores resultados.\n",
    ". Combine a previsão de vários modelos em uma previsão de conjunto usando o conjunto\n",
    "técnicas.\n",
    "\n",
    "A linha entre esta e a etapa anterior pode se confundir quando um projeto se torna concreto.\n",
    "Pode haver um pequeno ajuste de algoritmo na etapa anterior. E no caso de conjuntos, você\n",
    "pode apresentar mais do que uma lista restrita de algoritmos para combinar suas previsões."
   ]
  },
  {
   "attachments": {},
   "cell_type": "markdown",
   "metadata": {},
   "source": [
    "##### Finalizar modelo"
   ]
  },
  {
   "attachments": {},
   "cell_type": "markdown",
   "metadata": {},
   "source": [
    "Depois de encontrar um modelo que acredita poder fazer previsões precisas sobre dados não vistos,\n",
    "você está pronto para nalizá-lo. A finalização de um modelo pode envolver subtarefas como:\n",
    "\n",
    ". Usando um modelo ideal ajustado pelo scikit-learn para fazer previsões sobre dados não vistos.\n",
    ". Criar um modelo autônomo usando os parâmetros ajustados pelo scikit-learn.\n",
    ". Salvando um modelo ideal para arquivo para uso posterior.\n",
    "\n",
    "Depois de chegar até aqui, você estará pronto para apresentar os resultados às partes interessadas e/ou implantar\n",
    "seu modelo para começar a fazer previsões sobre dados não vistos."
   ]
  },
  {
   "attachments": {},
   "cell_type": "markdown",
   "metadata": {},
   "source": [
    "#### Dicas para usar bem o modelo"
   ]
  },
  {
   "attachments": {},
   "cell_type": "markdown",
   "metadata": {},
   "source": [
    "Esta seção lista dicas que você pode usar para aproveitar ao máximo o projeto de aprendizado de máquina\n",
    "modelo em Python.\n",
    "\n",
    ". Primeira passagem rápida. Faça uma primeira passagem pelas etapas do projeto o mais rápido possível. Esse\n",
    "lhe dará a confiança de que você tem todas as peças de que precisa e uma linha de base de\n",
    "que melhorar.\n",
    "\n",
    ". Ciclos. O processo não é linear, mas cíclico. Você fará um loop entre as etapas e provavelmente\n",
    "passe a maior parte do tempo em loops apertados entre as etapas 3-4 ou 3-4-5 até atingir um nível\n",
    "de precisão suficiente ou você ficará sem tempo.\n",
    "\n",
    ". Tente cada etapa. É fácil pular etapas, especialmente se você não estiver confiante ou\n",
    "familiarizado com as tarefas dessa etapa. Tente fazer algo em cada etapa do processo,\n",
    "mesmo que não melhore a precisão. Você sempre pode construir sobre ele mais tarde. Não pule etapas,\n",
    "apenas reduza sua contribuição.\n",
    "\n",
    ". Precisão da catraca. O objetivo do projeto é a precisão do modelo. Cada passo contribui\n",
    "rumo a este objetivo. Trate as alterações que você faz como experimentos que aumentam a precisão como\n",
    "o caminho de ouro no processo e reorganizar outras etapas em torno deles. Precisão é um\n",
    "catraca que só pode se mover em uma direção (melhor, não pior).\n",
    "\n",
    ". Adapte conforme necessário. Modifique as etapas conforme necessário em um projeto, especialmente quando você se torna\n",
    "mais experientes com o modelo. Desfoque as bordas das tarefas, como as etapas 4 a 5 para melhor\n",
    "servir a precisão do modelo."
   ]
  },
  {
   "cell_type": "code",
   "execution_count": null,
   "metadata": {},
   "outputs": [],
   "source": [
    "%reload_ext watermark\n",
    "%watermark -a \"Caique Miranda\" -gu \"caiquemiranda\" -iv"
   ]
  },
  {
   "attachments": {},
   "cell_type": "markdown",
   "metadata": {},
   "source": [
    "### End."
   ]
  }
 ],
 "metadata": {
  "kernelspec": {
   "display_name": "Python 3",
   "language": "python",
   "name": "python3"
  },
  "language_info": {
   "name": "python",
   "version": "3.10.5"
  },
  "orig_nbformat": 4
 },
 "nbformat": 4,
 "nbformat_minor": 2
}
