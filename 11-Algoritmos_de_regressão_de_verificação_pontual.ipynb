{
 "cells": [
  {
   "attachments": {},
   "cell_type": "markdown",
   "metadata": {},
   "source": [
    "### Algoritmos de regressão de verificação pontual"
   ]
  },
  {
   "attachments": {},
   "cell_type": "markdown",
   "metadata": {},
   "source": [
    "A verificação pontual é uma maneira de descobrir quais algoritmos funcionam bem em seu aprendizado de máquina\n",
    "problema. Você não pode saber quais algoritmos são mais adequados para o seu problema de antemão. Você\n",
    "deve experimentar uma série de métodos e focar a atenção naqueles que provam ser os mais\n",
    "promissor. Neste capítulo, você descobrirá seis algoritmos de aprendizado de máquina que você pode usar\n",
    "ao verificar seu problema de regressão no Python com o scikit-learn. Depois de concluir isso\n",
    "lição que você vai saber:\n",
    "\n",
    "1. Como verificar algoritmos de aprendizado de máquina em um problema de regressão.\n",
    "2. Como verificar quatro algoritmos de regressão linear.\n",
    "3. Como verificar três algoritmos de regressão não linear.\n",
    "Vamos começar."
   ]
  },
  {
   "attachments": {},
   "cell_type": "markdown",
   "metadata": {},
   "source": [
    "#### Visão geral dos algoritmos"
   ]
  },
  {
   "attachments": {},
   "cell_type": "markdown",
   "metadata": {},
   "source": [
    "Nesta lição, vamos dar uma olhada em sete algoritmos de regressão que você pode verificar\n",
    "em seu conjunto de dados. Começando com quatro algoritmos de aprendizado de máquina linear:\n",
    "\n",
    "Regressão linear.\n",
    "Regressão Ridge.\n",
    "Regressão Linear LASSO.\n",
    "Regressão Líquida Elástica.\n",
    "\n",
    "Em seguida, analisando três algoritmos de aprendizado de máquina não lineares:\n",
    "\n",
    "k-vizinhos mais próximos.\n",
    "Árvores de classificação e regressão.\n",
    "Máquinas de vetores de suporte."
   ]
  },
  {
   "attachments": {},
   "cell_type": "markdown",
   "metadata": {},
   "source": [
    "Cada receita é demonstrada no conjunto de dados Boston House Price. Isso é uma regressão\n",
    "problema em que todos os atributos são numéricos. Um arnês de teste com validação cruzada de 10 vezes é usado\n",
    "para demonstrar como verificar cada algoritmo de aprendizado de máquina e erro quadrático médio\n",
    "as medidas são usadas para indicar o desempenho do algoritmo. Observe que os valores de erro quadrático médio são\n",
    "invertido (negativo). Esta é uma peculiaridade da função cross val score() usada que requer todos\n",
    "métricas de algoritmo a serem classificadas em ordem crescente (valor maior é melhor). As receitas assumem\n",
    "que você conhece cada algoritmo de aprendizado de máquina e como usá-los. nós não vamos\n",
    "na API ou parametrização de cada algoritmo."
   ]
  },
  {
   "attachments": {},
   "cell_type": "markdown",
   "metadata": {},
   "source": [
    "#### Algoritmos de aprendizado de máquina linear"
   ]
  },
  {
   "attachments": {},
   "cell_type": "markdown",
   "metadata": {},
   "source": [
    "Esta seção fornece exemplos de como usar quatro algoritmos de aprendizado de máquina linear diferentes\n",
    "para regressão em Python com scikit-learn."
   ]
  },
  {
   "attachments": {},
   "cell_type": "markdown",
   "metadata": {},
   "source": [
    "##### Regressão linear"
   ]
  },
  {
   "attachments": {},
   "cell_type": "markdown",
   "metadata": {},
   "source": [
    "A regressão linear assume que as variáveis de entrada têm uma distribuição gaussiana. Isso é também\n",
    "assumiu que as variáveis de entrada são relevantes para a variável de saída e que não são altamente\n",
    "correlacionadas umas com as outras (um problema chamado colinearidade). Você pode construir uma regressão linear\n",
    "modelo usando a classe LinearRegression1."
   ]
  },
  {
   "cell_type": "code",
   "execution_count": null,
   "metadata": {},
   "outputs": [],
   "source": [
    "# Linear Regression\n",
    "from pandas import read_csv\n",
    "from sklearn.model_selection import KFold\n",
    "from sklearn.model_selection import cross_val_score\n",
    "from sklearn.linear_model import LinearRegression\n",
    "filename = 'housing.csv'\n",
    "names = ['CRIM', 'ZN', 'INDUS', 'CHAS', 'NOX', 'RM', 'AGE', 'DIS', 'RAD', 'TAX', 'PTRATIO',\n",
    "'B', 'LSTAT', 'MEDV']\n",
    "dataframe = read_csv(filename, delim_whitespace=True, names=names)\n",
    "array = dataframe.values\n",
    "X = array[:,0:13]\n",
    "Y = array[:,13]\n",
    "kfold = KFold(n_splits=10, random_state=7)\n",
    "model = LinearRegression()\n",
    "scoring = 'neg_mean_squared_error'\n",
    "results = cross_val_score(model, X, Y, cv=kfold, scoring=scoring)\n",
    "print(results.mean())"
   ]
  },
  {
   "attachments": {},
   "cell_type": "markdown",
   "metadata": {},
   "source": [
    "##### Regressão Ridge"
   ]
  },
  {
   "attachments": {},
   "cell_type": "markdown",
   "metadata": {},
   "source": [
    "A regressão Ridge é uma extensão da regressão linear onde a função de perda é modificada para\n",
    "minimizar a complexidade do modelo medido como o valor da soma ao quadrado do coeficiente\n",
    "(também chamada de norma L2). Você pode construir um modelo de regressão de cume usando o Ridge\n",
    "classe2."
   ]
  },
  {
   "cell_type": "code",
   "execution_count": null,
   "metadata": {},
   "outputs": [],
   "source": [
    "# Ridge Regression\n",
    "from pandas import read_csv\n",
    "from sklearn.model_selection import KFold\n",
    "from sklearn.model_selection import cross_val_score\n",
    "from sklearn.linear_model import Ridge\n",
    "filename = 'housing.csv'\n",
    "names = ['CRIM', 'ZN', 'INDUS', 'CHAS', 'NOX', 'RM', 'AGE', 'DIS', 'RAD', 'TAX', 'PTRATIO',\n",
    "'B', 'LSTAT', 'MEDV']\n",
    "dataframe = read_csv(filename, delim_whitespace=True, names=names)\n",
    "array = dataframe.values\n",
    "X = array[:,0:13]\n",
    "Y = array[:,13]\n",
    "num_folds = 10\n",
    "kfold = KFold(n_splits=10, random_state=7)\n",
    "model = Ridge()\n",
    "scoring = 'neg_mean_squared_error'\n",
    "results = cross_val_score(model, X, Y, cv=kfold, scoring=scoring)\n",
    "print(results.mean())"
   ]
  },
  {
   "attachments": {},
   "cell_type": "markdown",
   "metadata": {},
   "source": [
    "##### Regressão LASSO"
   ]
  },
  {
   "attachments": {},
   "cell_type": "markdown",
   "metadata": {},
   "source": [
    "O menor encolhimento absoluto e operador de seleção (ou LASSO para abreviar) é uma modificação\n",
    "de regressão linear, como a regressão ridge, onde a função de perda é modificada para minimizar o\n",
    "complexidade do modelo medido como a soma do valor absoluto dos valores coe cientes (também chamado\n",
    "a norma L1). Você pode construir um modelo LASSO usando o Lasso class3."
   ]
  },
  {
   "cell_type": "code",
   "execution_count": null,
   "metadata": {},
   "outputs": [],
   "source": [
    "# Lasso Regression\n",
    "from pandas import read_csv\n",
    "from sklearn.model_selection import KFold\n",
    "from sklearn.model_selection import cross_val_score\n",
    "from sklearn.linear_model import Lasso\n",
    "filename = 'housing.csv'\n",
    "names = ['CRIM', 'ZN', 'INDUS', 'CHAS', 'NOX', 'RM', 'AGE', 'DIS', 'RAD', 'TAX', 'PTRATIO',\n",
    "'B', 'LSTAT', 'MEDV']\n",
    "dataframe = read_csv(filename, delim_whitespace=True, names=names)\n",
    "array = dataframe.values\n",
    "X = array[:,0:13]\n",
    "Y = array[:,13]\n",
    "kfold = KFold(n_splits=10, random_state=7)\n",
    "model = Lasso()\n",
    "scoring = 'neg_mean_squared_error'\n",
    "results = cross_val_score(model, X, Y, cv=kfold, scoring=scoring)\n",
    "print(results.mean())"
   ]
  },
  {
   "attachments": {},
   "cell_type": "markdown",
   "metadata": {},
   "source": [
    "##### Regressão ElasticNet"
   ]
  },
  {
   "attachments": {},
   "cell_type": "markdown",
   "metadata": {},
   "source": [
    "ElasticNet é uma forma de regressão de regularização que combina as propriedades de Ridge\n",
    "Regressão e regressão LASSO. Procura minimizar a complexidade do modelo de regressão\n",
    "(magnitude e número de coeficientes de regressão) penalizando o modelo usando ambos os\n",
    "Norma L2 (soma dos valores dos coeficientes ao quadrado) e norma L1 (soma dos valores dos coeficientes absolutos).\n",
    "Você pode construir um modelo ElasticNet usando a classe ElasticNet4."
   ]
  },
  {
   "cell_type": "code",
   "execution_count": null,
   "metadata": {},
   "outputs": [],
   "source": [
    "# ElasticNet Regression\n",
    "from pandas import read_csv\n",
    "from sklearn.model_selection import KFold\n",
    "from sklearn.model_selection import cross_val_score\n",
    "from sklearn.linear_model import ElasticNet\n",
    "filename = 'housing.csv'\n",
    "names = ['CRIM', 'ZN', 'INDUS', 'CHAS', 'NOX', 'RM', 'AGE', 'DIS', 'RAD', 'TAX', 'PTRATIO',\n",
    "'B', 'LSTAT', 'MEDV']\n",
    "dataframe = read_csv(filename, delim_whitespace=True, names=names)\n",
    "array = dataframe.values\n",
    "X = array[:,0:13]\n",
    "Y = array[:,13]\n",
    "kfold = KFold(n_splits=10, random_state=7)\n",
    "model = ElasticNet()\n",
    "scoring = 'neg_mean_squared_error'\n",
    "results = cross_val_score(model, X, Y, cv=kfold, scoring=scoring)\n",
    "print(results.mean())"
   ]
  },
  {
   "attachments": {},
   "cell_type": "markdown",
   "metadata": {},
   "source": [
    "#### Algoritmos de aprendizado de máquina não linear"
   ]
  },
  {
   "attachments": {},
   "cell_type": "markdown",
   "metadata": {},
   "source": [
    "Esta seção fornece exemplos de como usar três algoritmos de aprendizado de máquina não linear diferentes\n",
    "para regressão em Python com scikit-learn."
   ]
  },
  {
   "attachments": {},
   "cell_type": "markdown",
   "metadata": {},
   "source": [
    "##### K-vizinhos mais próximos"
   ]
  },
  {
   "attachments": {},
   "cell_type": "markdown",
   "metadata": {},
   "source": [
    "O algoritmo k-Nearest Neighbors (ou KNN) localiza as k instâncias mais semelhantes no\n",
    "conjunto de dados de treinamento para uma nova instância de dados. Dos vizinhos k, uma saída média ou mediana\n",
    "variável é tomada como a previsão. Digno de nota é a métrica de distância usada (o argumento métrico).\n",
    "A distância de Minkowski é usada por padrão, que é uma generalização tanto da distância euclidiana\n",
    "distância (usada quando todas as entradas têm a mesma escala) e distância de Manhattan (para quando o\n",
    "escalas das variáveis de entrada diferem). Você pode construir um modelo KNN para regressão usando o\n",
    "KNeighborsRegressor class5."
   ]
  },
  {
   "cell_type": "code",
   "execution_count": null,
   "metadata": {},
   "outputs": [],
   "source": [
    "# KNN Regression\n",
    "from pandas import read_csv\n",
    "from sklearn.model_selection import KFold\n",
    "from sklearn.model_selection import cross_val_score\n",
    "from sklearn.neighbors import KNeighborsRegressor\n",
    "filename = 'housing.csv'\n",
    "names = ['CRIM', 'ZN', 'INDUS', 'CHAS', 'NOX', 'RM', 'AGE', 'DIS', 'RAD', 'TAX', 'PTRATIO',\n",
    "'B', 'LSTAT', 'MEDV']\n",
    "dataframe = read_csv(filename, delim_whitespace=True, names=names)\n",
    "array = dataframe.values\n",
    "X = array[:,0:13]\n",
    "Y = array[:,13]\n",
    "kfold = KFold(n_splits=10, random_state=7)\n",
    "model = KNeighborsRegressor()\n",
    "scoring = 'neg_mean_squared_error'\n",
    "results = cross_val_score(model, X, Y, cv=kfold, scoring=scoring)\n",
    "print(results.mean())"
   ]
  },
  {
   "attachments": {},
   "cell_type": "markdown",
   "metadata": {},
   "source": [
    "##### Árvores de classificação e regressão"
   ]
  },
  {
   "attachments": {},
   "cell_type": "markdown",
   "metadata": {},
   "source": [
    "Árvores de decisão ou Árvores de Classificação e Regressão (CART como são conhecidas) usam o treinamento\n",
    "dados para selecionar os melhores pontos para dividir os dados a fim de minimizar uma métrica de custo. O padrão\n",
    "métrica de custo para árvores de decisão de regressão é o erro médio quadrado, especificado no critério\n",
    "parâmetro. Você pode criar um modelo CART para regressão usando o DecisionTreeRegressor\n",
    "classe6."
   ]
  },
  {
   "cell_type": "code",
   "execution_count": null,
   "metadata": {},
   "outputs": [],
   "source": [
    "# Decision Tree Regression\n",
    "from pandas import read_csv\n",
    "from sklearn.model_selection import KFold\n",
    "from sklearn.model_selection import cross_val_score\n",
    "from sklearn.tree import DecisionTreeRegressor\n",
    "filename = 'housing.csv'\n",
    "names = ['CRIM', 'ZN', 'INDUS', 'CHAS', 'NOX', 'RM', 'AGE', 'DIS', 'RAD', 'TAX', 'PTRATIO',\n",
    "'B', 'LSTAT', 'MEDV']\n",
    "dataframe = read_csv(filename, delim_whitespace=True, names=names)\n",
    "array = dataframe.values\n",
    "X = array[:,0:13]\n",
    "Y = array[:,13]\n",
    "kfold = KFold(n_splits=10, random_state=7)\n",
    "model = DecisionTreeRegressor()\n",
    "scoring = 'neg_mean_squared_error'\n",
    "results = cross_val_score(model, X, Y, cv=kfold, scoring=scoring)\n",
    "print(results.mean())"
   ]
  },
  {
   "attachments": {},
   "cell_type": "markdown",
   "metadata": {},
   "source": [
    "##### Máquinas de vetores de suporte"
   ]
  },
  {
   "attachments": {},
   "cell_type": "markdown",
   "metadata": {},
   "source": [
    "As Support Vector Machines (SVM) foram desenvolvidas para classificação binária. A técnica tem\n",
    "foi estendido para a predição de problemas de valores reais chamados Support Vector Regression (SVR).\n",
    "Como o exemplo de classificação, o SVR é construído sobre a biblioteca LIBSVM. Você pode criar um SVM\n",
    "modelo de regressão usando a classe SVR7."
   ]
  },
  {
   "cell_type": "code",
   "execution_count": null,
   "metadata": {},
   "outputs": [],
   "source": [
    "# SVM Regression\n",
    "from pandas import read_csv\n",
    "from sklearn.model_selection import KFold\n",
    "from sklearn.model_selection import cross_val_score\n",
    "from sklearn.svm import SVR\n",
    "filename = 'housing.csv'\n",
    "names = ['CRIM', 'ZN', 'INDUS', 'CHAS', 'NOX', 'RM', 'AGE', 'DIS', 'RAD', 'TAX', 'PTRATIO',\n",
    "'B', 'LSTAT', 'MEDV']\n",
    "dataframe = read_csv(filename, delim_whitespace=True, names=names)\n",
    "array = dataframe.values\n",
    "X = array[:,0:13]\n",
    "Y = array[:,13]\n",
    "num_folds = 10\n",
    "kfold = KFold(n_splits=10, random_state=7)\n",
    "model = SVR()\n",
    "scoring = 'neg_mean_squared_error'\n",
    "results = cross_val_score(model, X, Y, cv=kfold, scoring=scoring)\n",
    "print(results.mean())"
   ]
  },
  {
   "cell_type": "code",
   "execution_count": null,
   "metadata": {},
   "outputs": [],
   "source": [
    "%reload_ext watermark\n",
    "%watermark -a \"Caique Miranda\" -gu \"caiquemiranda\" -iv"
   ]
  },
  {
   "attachments": {},
   "cell_type": "markdown",
   "metadata": {},
   "source": [
    "### End."
   ]
  }
 ],
 "metadata": {
  "language_info": {
   "name": "python"
  },
  "orig_nbformat": 4
 },
 "nbformat": 4,
 "nbformat_minor": 2
}
