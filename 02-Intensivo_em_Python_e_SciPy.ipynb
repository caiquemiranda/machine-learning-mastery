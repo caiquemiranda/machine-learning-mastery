{
 "cells": [
  {
   "attachments": {},
   "cell_type": "markdown",
   "metadata": {},
   "source": [
    "### Estudos Miranda: Curso intensivo em Python e SciPy"
   ]
  },
  {
   "cell_type": "code",
   "execution_count": 1,
   "metadata": {},
   "outputs": [
    {
     "name": "stdout",
     "output_type": "stream",
     "text": [
      "Author: Caique Miranda\n",
      "\n",
      "Github username: caiquemiranda\n",
      "\n"
     ]
    }
   ],
   "source": [
    "%reload_ext watermark\n",
    "%watermark -a \"Caique Miranda\" -gu \"caiquemiranda\" -iv"
   ]
  },
  {
   "attachments": {},
   "cell_type": "markdown",
   "metadata": {},
   "source": [
    "Você não precisa ser um desenvolvedor Python para começar a usar o ecossistema Python para máquina aprendizado. Como desenvolvedor que já sabe programar em uma ou mais linguagens, você é capaz de aprender uma nova linguagem como o Python muito rapidamente. Você só precisa conheça algumas propriedades do idioma para transferir o que você já sabe para o novo idioma. \n",
    "\n",
    "Depois de concluir esta lição, você saberá:\n",
    "1. Como navegar na sintaxe da linguagem Python.\n",
    "\n",
    "2. NumPy, Matplotlib e Pandas suficientes para ler e escrever Python de aprendizado de máquina\n",
    "scripts.\n",
    "\n",
    "3. Uma base para construir uma compreensão mais profunda das tarefas de aprendizado de máquina em\n",
    "Python."
   ]
  },
  {
   "attachments": {},
   "cell_type": "markdown",
   "metadata": {},
   "source": [
    "#### Curso Intensivo de Python"
   ]
  },
  {
   "attachments": {},
   "cell_type": "markdown",
   "metadata": {},
   "source": [
    "Ao começar no Python, você precisa saber alguns detalhes importantes sobre a sintaxe da linguagem ser capaz de ler e entender o código Python. Isso inclui:\n",
    "\n",
    "* Atribuição.\n",
    "* Controle de Fluxo.\n",
    "* Estruturas de Dados.\n",
    "* Funções."
   ]
  },
  {
   "attachments": {},
   "cell_type": "markdown",
   "metadata": {},
   "source": [
    "##### Atribuição"
   ]
  },
  {
   "attachments": {},
   "cell_type": "markdown",
   "metadata": {},
   "source": [
    "Como programador, atribuições e tipos não devem ser surpreendentes para você."
   ]
  },
  {
   "cell_type": "code",
   "execution_count": 2,
   "metadata": {},
   "outputs": [
    {
     "name": "stdout",
     "output_type": "stream",
     "text": [
      "O\n",
      "10\n",
      "Olá Mundo!\n"
     ]
    }
   ],
   "source": [
    "# Strings\n",
    "\n",
    "dados = 'Olá Mundo!'\n",
    "\n",
    "print(dados[0])\n",
    "print(len(dados))\n",
    "print(dados)"
   ]
  },
  {
   "cell_type": "code",
   "execution_count": 3,
   "metadata": {},
   "outputs": [
    {
     "name": "stdout",
     "output_type": "stream",
     "text": [
      "123.1\n",
      "10\n"
     ]
    }
   ],
   "source": [
    "# Numeros\n",
    "\n",
    "valor = 123.1\n",
    "print(valor)\n",
    "\n",
    "valor = 10\n",
    "print(valor)"
   ]
  },
  {
   "cell_type": "code",
   "execution_count": 4,
   "metadata": {},
   "outputs": [
    {
     "name": "stdout",
     "output_type": "stream",
     "text": [
      "True False\n"
     ]
    }
   ],
   "source": [
    "# Boolean\n",
    "\n",
    "a = True\n",
    "b = False\n",
    "\n",
    "print(a, b)"
   ]
  },
  {
   "cell_type": "code",
   "execution_count": 5,
   "metadata": {},
   "outputs": [
    {
     "name": "stdout",
     "output_type": "stream",
     "text": [
      "1 2 3\n"
     ]
    }
   ],
   "source": [
    "# Atribuição Múltipla\n",
    "\n",
    "a, b, c = 1, 2, 3\n",
    "print(a, b, c)"
   ]
  },
  {
   "cell_type": "code",
   "execution_count": 6,
   "metadata": {},
   "outputs": [
    {
     "name": "stdout",
     "output_type": "stream",
     "text": [
      "None\n"
     ]
    }
   ],
   "source": [
    "# Sem valor\n",
    "\n",
    "a = None\n",
    "print(a)"
   ]
  },
  {
   "attachments": {},
   "cell_type": "markdown",
   "metadata": {},
   "source": [
    "##### Controle de fluxo"
   ]
  },
  {
   "attachments": {},
   "cell_type": "markdown",
   "metadata": {},
   "source": [
    "Existem três tipos principais de controle de fluxo que você precisa aprender: \n",
    "condições If-Then-Else, For-Loops e While-Loops."
   ]
  },
  {
   "cell_type": "code",
   "execution_count": 7,
   "metadata": {},
   "outputs": [
    {
     "name": "stdout",
     "output_type": "stream",
     "text": [
      "Isso é rápido\n"
     ]
    }
   ],
   "source": [
    "# Condicional if-elif-else \n",
    "\n",
    "valor = 99\n",
    "\n",
    "if valor == 99:\n",
    "    print('Isso é rápido')\n",
    "    \n",
    "elif valor > 200:\n",
    "    print('Isso é muito rápido')\n",
    "\n",
    "else:\n",
    "    print('Isso é seguro')"
   ]
  },
  {
   "cell_type": "code",
   "execution_count": 8,
   "metadata": {},
   "outputs": [
    {
     "name": "stdout",
     "output_type": "stream",
     "text": [
      "0\n",
      "1\n",
      "2\n",
      "3\n",
      "4\n",
      "5\n",
      "6\n",
      "7\n",
      "8\n",
      "9\n"
     ]
    }
   ],
   "source": [
    "# For-Loop\n",
    "\n",
    "for i in range(10):\n",
    "    print(i)"
   ]
  },
  {
   "cell_type": "code",
   "execution_count": 9,
   "metadata": {},
   "outputs": [
    {
     "name": "stdout",
     "output_type": "stream",
     "text": [
      "0\n",
      "1\n",
      "2\n",
      "3\n",
      "4\n",
      "5\n",
      "6\n",
      "7\n",
      "8\n",
      "9\n"
     ]
    }
   ],
   "source": [
    "# While-Loop\n",
    "\n",
    "i = 0\n",
    "while i < 10:\n",
    "    print(i)\n",
    "    i += 1"
   ]
  },
  {
   "attachments": {},
   "cell_type": "markdown",
   "metadata": {},
   "source": [
    "##### Estruturas de dados"
   ]
  },
  {
   "attachments": {},
   "cell_type": "markdown",
   "metadata": {},
   "source": [
    "Existem três estruturas de dados em Python que você achará as mais usadas e úteis. Eles são tuplas, listas e dicionários."
   ]
  },
  {
   "attachments": {},
   "cell_type": "markdown",
   "metadata": {},
   "source": [
    "Tupla são coleções de itens somente leitura."
   ]
  },
  {
   "cell_type": "code",
   "execution_count": 10,
   "metadata": {},
   "outputs": [
    {
     "name": "stdout",
     "output_type": "stream",
     "text": [
      "(1, 2, 3)\n"
     ]
    }
   ],
   "source": [
    "a = (1, 2, 3)\n",
    "print(a)"
   ]
  },
  {
   "attachments": {},
   "cell_type": "markdown",
   "metadata": {},
   "source": [
    "As listas usam a notação de colchetes e podem ser indexadas usando a notação de matriz."
   ]
  },
  {
   "cell_type": "code",
   "execution_count": 11,
   "metadata": {},
   "outputs": [
    {
     "name": "stdout",
     "output_type": "stream",
     "text": [
      "Valor zero: 1\n",
      "Tamanho da lista: 4\n",
      "1\n",
      "2\n",
      "3\n",
      "4\n"
     ]
    }
   ],
   "source": [
    "minha_lista = [1, 2, 3]\n",
    "\n",
    "print(f\"Valor zero: {minha_lista[0]}\")\n",
    "\n",
    "minha_lista.append(4)\n",
    "print(f\"Tamanho da lista: {len(minha_lista)}\")\n",
    "\n",
    "for valor in minha_lista:\n",
    "    print(valor)"
   ]
  },
  {
   "attachments": {},
   "cell_type": "markdown",
   "metadata": {},
   "source": [
    "Dicionários são mapeamentos de nomes para valores, como pares chave-valor. Observe o uso das notações de colchete e dois pontos ao definir o dicionário."
   ]
  },
  {
   "cell_type": "code",
   "execution_count": 12,
   "metadata": {},
   "outputs": [
    {
     "name": "stdout",
     "output_type": "stream",
     "text": [
      "Um valor: 1\n",
      "Um valor: 11\n",
      "Chaves: dict_keys(['a', 'b', 'c'])\n",
      "Valores: dict_values([11, 2, 3])\n",
      "11\n",
      "2\n",
      "3\n"
     ]
    }
   ],
   "source": [
    "meu_dicionario = {'a': 1, 'b': 2, 'c': 3}\n",
    "\n",
    "print(f\"Um valor: {meu_dicionario['a']}\")\n",
    "\n",
    "meu_dicionario['a'] = 11\n",
    "\n",
    "print(f\"Um valor: {meu_dicionario['a']}\")\n",
    "print(f\"Chaves: {meu_dicionario.keys()}\")\n",
    "print(f\"Valores: {meu_dicionario.values()}\")\n",
    "\n",
    "for key in meu_dicionario.keys():\n",
    "    print(meu_dicionario[key])"
   ]
  },
  {
   "attachments": {},
   "cell_type": "markdown",
   "metadata": {},
   "source": [
    "Funções"
   ]
  },
  {
   "attachments": {},
   "cell_type": "markdown",
   "metadata": {},
   "source": [
    "A maior pegadinha do Python é o espaço em branco. Verifique se você tem uma nova linha vazia após o código recuado. O exemplo abaixo define uma nova função para calcular a soma de dois values e chama a função com dois argumentos."
   ]
  },
  {
   "cell_type": "code",
   "execution_count": 13,
   "metadata": {},
   "outputs": [
    {
     "name": "stdout",
     "output_type": "stream",
     "text": [
      "4\n"
     ]
    }
   ],
   "source": [
    "# função de soma\n",
    "def soma(x, y):\n",
    "    return x + y\n",
    "\n",
    "# Função de soma de teste\n",
    "resultado = soma(1, 3)\n",
    "print(resultado)"
   ]
  },
  {
   "attachments": {},
   "cell_type": "markdown",
   "metadata": {},
   "source": [
    "#### Curso Intensivo NumPy"
   ]
  },
  {
   "attachments": {},
   "cell_type": "markdown",
   "metadata": {},
   "source": [
    "O NumPy fornece as estruturas e operações de dados fundamentais para o SciPy. Estas são matrizes (ndarrays) que são e cientes para definir e manipular."
   ]
  },
  {
   "attachments": {},
   "cell_type": "markdown",
   "metadata": {},
   "source": [
    "##### Criar Matriz"
   ]
  },
  {
   "cell_type": "code",
   "execution_count": 14,
   "metadata": {},
   "outputs": [
    {
     "name": "stdout",
     "output_type": "stream",
     "text": [
      "[1 2 3]\n",
      "(3,)\n"
     ]
    }
   ],
   "source": [
    "# definir uma matriz\n",
    "\n",
    "import numpy\n",
    "\n",
    "minha_lista = [1, 2, 3]\n",
    "meu_array = numpy.array(minha_lista)\n",
    "\n",
    "print(meu_array)\n",
    "print(meu_array.shape)"
   ]
  },
  {
   "attachments": {},
   "cell_type": "markdown",
   "metadata": {},
   "source": [
    "##### Acessar dados"
   ]
  },
  {
   "attachments": {},
   "cell_type": "markdown",
   "metadata": {},
   "source": [
    "A notação e os intervalos da matriz podem ser usados para acessar dados com eficiência em uma matriz NumPy."
   ]
  },
  {
   "cell_type": "code",
   "execution_count": 15,
   "metadata": {},
   "outputs": [
    {
     "name": "stdout",
     "output_type": "stream",
     "text": [
      "[[1 2 3]\n",
      " [3 4 5]]\n",
      "(2, 3)\n",
      "Primeira linha: [1 2 3]\n",
      "Última linha: [3 4 5]\n",
      "Linha e coluna específicas: 3\n",
      "Coluna inteira: [3 5]\n"
     ]
    }
   ],
   "source": [
    "# Acessando valores\n",
    "\n",
    "minha_lista = [[1, 2, 3],\n",
    "               [3, 4, 5]]\n",
    "\n",
    "meu_array = numpy.array(minha_lista)\n",
    "\n",
    "print(meu_array)\n",
    "print(meu_array.shape)\n",
    "print(f\"Primeira linha: {meu_array[0]}\")\n",
    "print(f\"Última linha: {meu_array[-1]}\")\n",
    "print(f\"Linha e coluna específicas: {meu_array[0, 2]}\")\n",
    "print(f\"Coluna inteira: {meu_array[:, 2]}\")"
   ]
  },
  {
   "attachments": {},
   "cell_type": "markdown",
   "metadata": {},
   "source": [
    "##### Aritmética"
   ]
  },
  {
   "attachments": {},
   "cell_type": "markdown",
   "metadata": {},
   "source": [
    "As matrizes NumPy podem ser usadas diretamente em aritmética."
   ]
  },
  {
   "cell_type": "code",
   "execution_count": 16,
   "metadata": {},
   "outputs": [
    {
     "name": "stdout",
     "output_type": "stream",
     "text": [
      "Adição: [5 5 5]\n",
      "Multiplicação: [6 6 6]\n"
     ]
    }
   ],
   "source": [
    "# Aritmética\n",
    "meu_array1 = numpy.array([2, 2, 2])\n",
    "meu_array2 = numpy.array([3, 3, 3])\n",
    "\n",
    "print(f\"Adição: {meu_array1 + meu_array2}\")\n",
    "print(f\"Multiplicação: {meu_array1 * meu_array2}\")"
   ]
  },
  {
   "attachments": {},
   "cell_type": "markdown",
   "metadata": {},
   "source": [
    "Há muito mais em matrizes NumPy, mas esses exemplos fornecem uma sabor das eficiências eles fornecem ao trabalhar com muitos dados numéricos."
   ]
  },
  {
   "attachments": {},
   "cell_type": "markdown",
   "metadata": {},
   "source": [
    "#### Curso Intensivo Matplotlib"
   ]
  },
  {
   "attachments": {},
   "cell_type": "markdown",
   "metadata": {},
   "source": [
    "O Matplotlib pode ser usado para criar plotagens e gráficos. A biblioteca é geralmente usada da seguinte forma:\n",
    "\n",
    "* Chame uma função de plotagem com alguns dados (por exemplo, .plot()).\n",
    "* Chame várias funções para configurar as propriedades do gráfico (por exemplo, rótulos e cores).\n",
    "* Torne o gráfico visível (por exemplo, .show())."
   ]
  },
  {
   "attachments": {},
   "cell_type": "markdown",
   "metadata": {},
   "source": [
    "##### Gráfico de linha"
   ]
  },
  {
   "attachments": {},
   "cell_type": "markdown",
   "metadata": {},
   "source": [
    "O exemplo abaixo cria um gráfico de linha simples a partir de dados unidimensionais."
   ]
  },
  {
   "cell_type": "code",
   "execution_count": 17,
   "metadata": {},
   "outputs": [
    {
     "data": {
      "image/png": "[encoded data removed]",
      "text/plain": [
       "<Figure size 432x288 with 1 Axes>"
      ]
     },
     "metadata": {
      "needs_background": "light"
     },
     "output_type": "display_data"
    }
   ],
   "source": [
    "# plotagem de linha simples\n",
    "\n",
    "import matplotlib.pyplot as plt\n",
    "\n",
    "meu_array = numpy.array([1, 2, 3])\n",
    "\n",
    "plt.plot(meu_array)\n",
    "plt.xlabel('Eixo x')\n",
    "plt.ylabel('Eixo y')\n",
    "plt.show()"
   ]
  },
  {
   "attachments": {},
   "cell_type": "markdown",
   "metadata": {},
   "source": [
    "##### Scatter Plot"
   ]
  },
  {
   "attachments": {},
   "cell_type": "markdown",
   "metadata": {},
   "source": [
    "Abaixo está um exemplo simples de criação de um gráfico de dispersão a partir de dados bidimensionais."
   ]
  },
  {
   "cell_type": "code",
   "execution_count": 18,
   "metadata": {},
   "outputs": [
    {
     "data": {
      "image/png": "[encoded data removed]",
      "text/plain": [
       "<Figure size 432x288 with 1 Axes>"
      ]
     },
     "metadata": {
      "needs_background": "light"
     },
     "output_type": "display_data"
    }
   ],
   "source": [
    "# gráfico de dispersão básico\n",
    "\n",
    "x = numpy.array([1, 2, 3])\n",
    "y = numpy.array([2, 4, 6])\n",
    "\n",
    "plt.scatter(x,y)\n",
    "plt.xlabel('Eixo x')\n",
    "plt.ylabel('Eixo y')\n",
    "plt.show()"
   ]
  },
  {
   "attachments": {},
   "cell_type": "markdown",
   "metadata": {},
   "source": [
    "Há muito mais tipos de plotagem e muito mais propriedades que podem ser definidas em uma plotagem para configurá-lo."
   ]
  },
  {
   "attachments": {},
   "cell_type": "markdown",
   "metadata": {},
   "source": [
    "#### Curso Intensivo de Pandas"
   ]
  },
  {
   "attachments": {},
   "cell_type": "markdown",
   "metadata": {},
   "source": [
    "Pandas fornece estruturas de dados e funcionalidade para manipular e analisar dados rapidamente. O a chave para entender o Pandas para aprendizado de máquina é entender a série e o DataFrame estruturas de dados."
   ]
  },
  {
   "attachments": {},
   "cell_type": "markdown",
   "metadata": {},
   "source": [
    "##### Series"
   ]
  },
  {
   "cell_type": "code",
   "execution_count": 19,
   "metadata": {},
   "outputs": [
    {
     "name": "stdout",
     "output_type": "stream",
     "text": [
      "a    1\n",
      "b    2\n",
      "c    3\n",
      "dtype: int32\n"
     ]
    }
   ],
   "source": [
    "# series\n",
    "\n",
    "import pandas\n",
    "\n",
    "meu_array = numpy.array([1, 2, 3])\n",
    "nome_linhas = ['a', 'b', 'c']\n",
    "\n",
    "minha_serie = pandas.Series(meu_array, index=nome_linhas)\n",
    "print(minha_serie)"
   ]
  },
  {
   "attachments": {},
   "cell_type": "markdown",
   "metadata": {},
   "source": [
    "Você pode acessar os dados em uma série como um array NumPy e como um dicionário, por exemplo:"
   ]
  },
  {
   "cell_type": "code",
   "execution_count": 20,
   "metadata": {},
   "outputs": [
    {
     "name": "stdout",
     "output_type": "stream",
     "text": [
      "1\n",
      "1\n"
     ]
    }
   ],
   "source": [
    "print(minha_serie[0])\n",
    "print(minha_serie['a'])"
   ]
  },
  {
   "attachments": {},
   "cell_type": "markdown",
   "metadata": {},
   "source": [
    "##### DataFrame"
   ]
  },
  {
   "attachments": {},
   "cell_type": "markdown",
   "metadata": {},
   "source": [
    "Um DataFrame é uma matriz multidimensional onde as linhas e as colunas podem ser rotuladas."
   ]
  },
  {
   "cell_type": "code",
   "execution_count": 21,
   "metadata": {},
   "outputs": [
    {
     "name": "stdout",
     "output_type": "stream",
     "text": [
      "   um  dois  três\n",
      "a   1     2     3\n",
      "b   4     5     6\n"
     ]
    }
   ],
   "source": [
    "# dataframe\n",
    "\n",
    "meu_array = numpy.array([[1, 2, 3], \n",
    "                         [4, 5, 6]])\n",
    "\n",
    "nome_linhas = ['a', 'b']\n",
    "nome_colunas = ['um', 'dois', 'três']\n",
    "\n",
    "meu_dataframe = pandas.DataFrame(meu_array,\n",
    "                                 index = nome_linhas,\n",
    "                                 columns = nome_colunas)\n",
    "print(meu_dataframe)"
   ]
  },
  {
   "attachments": {},
   "cell_type": "markdown",
   "metadata": {},
   "source": [
    "Os dados podem ser indexados usando nomes de colunas."
   ]
  },
  {
   "cell_type": "code",
   "execution_count": 22,
   "metadata": {},
   "outputs": [
    {
     "name": "stdout",
     "output_type": "stream",
     "text": [
      "método 1:\n",
      "coluna um: a    1\n",
      "b    4\n",
      "Name: um, dtype: int32\n",
      "método 2:\n",
      "coluna um: a    1\n",
      "b    4\n",
      "Name: um, dtype: int32\n"
     ]
    }
   ],
   "source": [
    "print(\"método 1:\")\n",
    "print(f\"coluna um: {meu_dataframe['um']}\")\n",
    "\n",
    "print(\"método 2:\")\n",
    "print(f\"coluna um: {meu_dataframe.um}\")"
   ]
  },
  {
   "attachments": {},
   "cell_type": "markdown",
   "metadata": {},
   "source": [
    "O Pandas é uma ferramenta muito poderosa para dividir e dividir seus dados."
   ]
  },
  {
   "attachments": {},
   "cell_type": "markdown",
   "metadata": {},
   "source": [
    "### Fim."
   ]
  }
 ],
 "metadata": {
  "kernelspec": {
   "display_name": "Python 3",
   "language": "python",
   "name": "python3"
  },
  "language_info": {
   "codemirror_mode": {
    "name": "ipython",
    "version": 3
   },
   "file_extension": ".py",
   "mimetype": "text/x-python",
   "name": "python",
   "nbconvert_exporter": "python",
   "pygments_lexer": "ipython3",
   "version": "3.10.5"
  },
  "orig_nbformat": 4
 },
 "nbformat": 4,
 "nbformat_minor": 2
}
