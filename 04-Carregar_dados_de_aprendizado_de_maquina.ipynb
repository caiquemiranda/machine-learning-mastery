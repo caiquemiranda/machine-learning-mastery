{
 "cells": [
  {
   "attachments": {},
   "cell_type": "markdown",
   "metadata": {},
   "source": [
    "### Como carregar dados de aprendizado de máquina"
   ]
  },
  {
   "attachments": {},
   "cell_type": "markdown",
   "metadata": {},
   "source": [
    "Você deve ser capaz de carregar seus dados antes de iniciar seu projeto de aprendizado de máquina. O\n",
    "O formato mais comum para dados de aprendizado de máquina são os arquivos CSV. Existem várias maneiras de\n",
    "carregue um arquivo CSV em Python. Nesta lição, você aprenderá três maneiras que pode usar para carregar\n",
    "seus dados CSV em Python:"
   ]
  },
  {
   "attachments": {},
   "cell_type": "markdown",
   "metadata": {},
   "source": [
    "1. Carregue arquivos CSV com a biblioteca padrão do Python.\n",
    "2. Carregue arquivos CSV com NumPy.\n",
    "3. Carregar arquivos CSV com Pandas."
   ]
  },
  {
   "attachments": {},
   "cell_type": "markdown",
   "metadata": {},
   "source": [
    "#### Considerações ao carregar dados CSV"
   ]
  },
  {
   "attachments": {},
   "cell_type": "markdown",
   "metadata": {},
   "source": [
    "Há uma série de considerações ao carregar seus dados de aprendizado de máquina de arquivos CSV.\n",
    "Para referência, você pode aprender muito sobre as expectativas para arquivos CSV revisando o CSV\n",
    "pedido de comentário intitulado Formato comum e tipo MIME para valores separados por vírgula\n",
    "(CSV) Arquivos1."
   ]
  },
  {
   "attachments": {},
   "cell_type": "markdown",
   "metadata": {},
   "source": [
    "##### File Header"
   ]
  },
  {
   "attachments": {},
   "cell_type": "markdown",
   "metadata": {},
   "source": [
    "Seus dados têm um cabeçalho de arquivo? Nesse caso, isso pode ajudar a atribuir nomes automaticamente a cada\n",
    "coluna de dados. Caso contrário, pode ser necessário nomear seus atributos manualmente. De qualquer maneira, você deve\n",
    "especifique explicitamente se seu arquivo CSV tinha ou não um cabeçalho de arquivo ao carregar seus dados."
   ]
  },
  {
   "attachments": {},
   "cell_type": "markdown",
   "metadata": {},
   "source": [
    "##### Comments"
   ]
  },
  {
   "attachments": {},
   "cell_type": "markdown",
   "metadata": {},
   "source": [
    "Seus dados têm comentários? Os comentários em um arquivo CSV são indicados por um hash (#) na\n",
    "início de uma linha. Se você tiver comentários em seu arquivo, dependendo do método usado para carregar seu\n",
    "dados, você pode precisar indicar se deve ou não esperar comentários e o personagem a esperar\n",
    "para significar uma linha de comentário."
   ]
  },
  {
   "attachments": {},
   "cell_type": "markdown",
   "metadata": {},
   "source": [
    "##### Delimiter"
   ]
  },
  {
   "attachments": {},
   "cell_type": "markdown",
   "metadata": {},
   "source": [
    "O delimitador padrão que separa valores em campos é a vírgula (,). seu le poderia\n",
    "use um delimitador diferente como tabulação ou espaço em branco, caso em que você deve especificá-lo explicitamente."
   ]
  },
  {
   "attachments": {},
   "cell_type": "markdown",
   "metadata": {},
   "source": [
    "##### Quotes"
   ]
  },
  {
   "attachments": {},
   "cell_type": "markdown",
   "metadata": {},
   "source": [
    "Às vezes, os valores de campo podem ter espaços. Nesses arquivos CSV, os valores geralmente são citados. O\n",
    "o caractere de aspas padrão é o caractere de aspas duplas. Outros caracteres podem ser usados,\n",
    "e você deve especificar o caractere de aspas usado em seu arquivo."
   ]
  },
  {
   "attachments": {},
   "cell_type": "markdown",
   "metadata": {},
   "source": [
    "#### Pima Indians Dataset"
   ]
  },
  {
   "attachments": {},
   "cell_type": "markdown",
   "metadata": {},
   "source": [
    "O conjunto de dados dos índios Pima é usado para demonstrar o carregamento de dados nesta lição. Também será usado\n",
    "em muitas das lições que virão. Este conjunto de dados descreve os registros médicos dos índios Pima\n",
    "e se cada paciente terá ou não um início de diabetes dentro de cinco anos. Como tal\n",
    "é um problema de classificação. É um bom conjunto de dados para demonstração porque todas as entradas\n",
    "os atributos são numéricos e a variável de saída a ser prevista é binária (0 ou 1). os dados são\n",
    "disponível gratuitamente no UCI Machine Learning Repository2."
   ]
  },
  {
   "attachments": {},
   "cell_type": "markdown",
   "metadata": {},
   "source": [
    "#### Load CSV Files with the Python Standard Library"
   ]
  },
  {
   "attachments": {},
   "cell_type": "markdown",
   "metadata": {},
   "source": [
    "A API Python fornece o módulo CSV e a função reader() que pode ser usada para carregar\n",
    "Arquivos CSV. Depois de carregado, você pode converter os dados CSV em um array NumPy e usá-lo para a máquina\n",
    "aprendizado. Por exemplo, você pode baixar3 o conjunto de dados dos índios Pima em seu diretório local\n",
    "com o nome de arquivo pima-indians-diabetes.data.csv. Todos os campos neste conjunto de dados são numéricos\n",
    "e não há linha de cabeçalho."
   ]
  },
  {
   "cell_type": "code",
   "execution_count": null,
   "metadata": {},
   "outputs": [],
   "source": [
    "# Load CSV Using Python Standard Library\n",
    "import csv\n",
    "import numpy\n",
    "filename = 'pima-indians-diabetes.data.csv'\n",
    "raw_data = open(filename, 'rb')\n",
    "reader = csv.reader(raw_data, delimiter=',', quoting=csv.QUOTE_NONE)\n",
    "x = list(reader)\n",
    "data = numpy.array(x).astype('float')\n",
    "print(data.shape)"
   ]
  },
  {
   "attachments": {},
   "cell_type": "markdown",
   "metadata": {},
   "source": [
    "Exemplo de carregamento de um arquivo CSV usando a biblioteca padrão do Python."
   ]
  },
  {
   "attachments": {},
   "cell_type": "markdown",
   "metadata": {},
   "source": [
    "O exemplo carrega um objeto que pode iterar sobre cada linha dos dados e pode ser facilmente\n",
    "convertido em uma matriz NumPy. A execução do exemplo imprime a forma da matriz."
   ]
  },
  {
   "cell_type": "code",
   "execution_count": null,
   "metadata": {},
   "outputs": [],
   "source": [
    "print(data.shape)"
   ]
  },
  {
   "attachments": {},
   "cell_type": "markdown",
   "metadata": {},
   "source": [
    "Saída do exemplo de carregamento de um arquivo CSV usando a biblioteca padrão do Python."
   ]
  },
  {
   "attachments": {},
   "cell_type": "markdown",
   "metadata": {},
   "source": [
    "Para obter mais informações sobre a função csv.reader(), consulte Leitura e gravação de arquivos CSV em\n",
    "a documentação da API do Python."
   ]
  },
  {
   "attachments": {},
   "cell_type": "markdown",
   "metadata": {},
   "source": [
    "#### Load CSV Files with NumPy"
   ]
  },
  {
   "attachments": {},
   "cell_type": "markdown",
   "metadata": {},
   "source": [
    "Você pode carregar seus dados CSV usando NumPy e a função numpy.loadtxt(). esta função\n",
    "não assume nenhuma linha de cabeçalho e todos os dados têm o mesmo formato. O exemplo abaixo assume que o\n",
    "le pima-indians-diabetes.data.csv está em seu diretório de trabalho atual."
   ]
  },
  {
   "cell_type": "code",
   "execution_count": null,
   "metadata": {},
   "outputs": [],
   "source": [
    "# Load CSV using NumPy\n",
    "from numpy import loadtxt\n",
    "filename = 'pima-indians-diabetes.data.csv'\n",
    "raw_data = open(filename, 'rb')\n",
    "data = loadtxt(raw_data, delimiter=\",\")\n",
    "print(data.shape)"
   ]
  },
  {
   "attachments": {},
   "cell_type": "markdown",
   "metadata": {},
   "source": [
    "Exemplo de carregamento de um arquivo CSV usando NumPy."
   ]
  },
  {
   "attachments": {},
   "cell_type": "markdown",
   "metadata": {},
   "source": [
    "A execução do exemplo carregará o arquivo como numpy.ndarray5 e imprimirá a forma dos dados:"
   ]
  },
  {
   "cell_type": "code",
   "execution_count": null,
   "metadata": {},
   "outputs": [],
   "source": [
    "# Saída do exemplo carregando um arquivo CSV usando NumPy. \n",
    "print(data.shape)"
   ]
  },
  {
   "attachments": {},
   "cell_type": "markdown",
   "metadata": {},
   "source": [
    "Este exemplo pode ser modificado para carregar o mesmo conjunto de dados diretamente de uma URL da seguinte forma:"
   ]
  },
  {
   "cell_type": "code",
   "execution_count": null,
   "metadata": {},
   "outputs": [],
   "source": [
    "# Load CSV from URL using NumPy\n",
    "from numpy import loadtxt\n",
    "from urllib import urlopen\n",
    "url = 'https://goo.gl/vhm1eU'\n",
    "raw_data = urlopen(url)\n",
    "dataset = loadtxt(raw_data, delimiter=\",\")\n",
    "print(dataset.shape)"
   ]
  },
  {
   "attachments": {},
   "cell_type": "markdown",
   "metadata": {},
   "source": [
    "Again, running the example produces the same resulting shape of the data."
   ]
  },
  {
   "cell_type": "code",
   "execution_count": null,
   "metadata": {},
   "outputs": [],
   "source": [
    "# Output of example loading a CSV URL using NumPy.\n",
    "print(dataset.shape)"
   ]
  },
  {
   "attachments": {},
   "cell_type": "markdown",
   "metadata": {},
   "source": [
    "For more information on the numpy.loadtxt()6 function see the API documentation."
   ]
  },
  {
   "attachments": {},
   "cell_type": "markdown",
   "metadata": {},
   "source": [
    "#### Load CSV Files with Pandas"
   ]
  },
  {
   "attachments": {},
   "cell_type": "markdown",
   "metadata": {},
   "source": [
    "Você pode carregar seus dados CSV usando Pandas e a função pandas.read csv(). esta função\n",
    "é muito\n",
    "flexível e talvez seja minha abordagem recomendada para carregar seu aprendizado de máquina\n",
    "dados. A função retorna um pandas.DataFrame7 que você pode começar a resumir imediatamente\n",
    "e plotagem. O exemplo abaixo assume que o arquivo pima-indians-diabetes.data.csv é\n",
    "no diretório de trabalho atual."
   ]
  },
  {
   "cell_type": "code",
   "execution_count": null,
   "metadata": {},
   "outputs": [],
   "source": [
    "# Load CSV using Pandas\n",
    "from pandas import read_csv\n",
    "filename = 'pima-indians-diabetes.data.csv'\n",
    "names = ['preg', 'plas', 'pres', 'skin', 'test', 'mass', 'pedi', 'age', 'class']\n",
    "data = read_csv(filename, names=names)\n",
    "print(data.shape)"
   ]
  },
  {
   "attachments": {},
   "cell_type": "markdown",
   "metadata": {},
   "source": [
    "Observe que neste exemplo especificamos explicitamente os nomes de cada atributo para o DataFrame.\n",
    "A execução do exemplo exibe a forma dos dados:"
   ]
  },
  {
   "cell_type": "code",
   "execution_count": null,
   "metadata": {},
   "outputs": [],
   "source": [
    "# Output of example loading a CSV file using Pandas.\n",
    "print(data.shape)"
   ]
  },
  {
   "attachments": {},
   "cell_type": "markdown",
   "metadata": {},
   "source": [
    "Também podemos modificar este exemplo para carregar dados CSV diretamente de um URL."
   ]
  },
  {
   "cell_type": "code",
   "execution_count": null,
   "metadata": {},
   "outputs": [],
   "source": [
    "# Load CSV using Pandas from URL\n",
    "from pandas import read_csv\n",
    "url = 'https://goo.gl/vhm1eU'\n",
    "names = ['preg', 'plas', 'pres', 'skin', 'test', 'mass', 'pedi', 'age', 'class']\n",
    "data = read_csv(url, names=names)\n",
    "print(data.shape)"
   ]
  },
  {
   "attachments": {},
   "cell_type": "markdown",
   "metadata": {},
   "source": [
    "Again, running the example downloads the CSV file, parses it and displays the shape of the\n",
    "loaded DataFrame."
   ]
  },
  {
   "cell_type": "code",
   "execution_count": null,
   "metadata": {},
   "outputs": [],
   "source": [
    "# Output of example loading a CSV URL using Pandas.\n",
    "print(data.shape)"
   ]
  },
  {
   "attachments": {},
   "cell_type": "markdown",
   "metadata": {},
   "source": [
    "To learn more about the pandas.read csv()8 function you can refer to the API documen-\n",
    "tation."
   ]
  },
  {
   "cell_type": "code",
   "execution_count": null,
   "metadata": {},
   "outputs": [],
   "source": [
    "%reload_ext watermark\n",
    "%watermark -a \"Caique Miranda\" -gu \"caiquemiranda\" -iv"
   ]
  },
  {
   "attachments": {},
   "cell_type": "markdown",
   "metadata": {},
   "source": [
    "### End."
   ]
  }
 ],
 "metadata": {
  "language_info": {
   "name": "python"
  },
  "orig_nbformat": 4
 },
 "nbformat": 4,
 "nbformat_minor": 2
}
