{
 "cells": [
  {
   "attachments": {},
   "cell_type": "markdown",
   "metadata": {},
   "source": [
    "### Ecossistema Python para aprendizado de máquina"
   ]
  },
  {
   "attachments": {},
   "cell_type": "markdown",
   "metadata": {},
   "source": [
    "O ecossistema Python está crescendo e pode se tornar a plataforma dominante para aprendizado de máquina. A principal razão para adotar o Python para aprendizado de máquina é porque é uma linguagem de programação de propósito que você pode usar tanto para P&D quanto para produção."
   ]
  },
  {
   "attachments": {},
   "cell_type": "markdown",
   "metadata": {},
   "source": [
    "1. Python e seu uso crescente para aprendizado de máquina.\n",
    "2. SciPy e a funcionalidade que ele fornece com NumPy, Matplotlib e Pandas.\n",
    "3. scikit-learn que fornece todos os algoritmos de aprendizado de máquina.\n",
    "4. Como configurar seu ecossistema Python para aprendizado de máquina e quais versões usar."
   ]
  },
  {
   "attachments": {},
   "cell_type": "markdown",
   "metadata": {},
   "source": [
    "#### Python"
   ]
  },
  {
   "attachments": {},
   "cell_type": "markdown",
   "metadata": {},
   "source": [
    "Python é uma linguagem de programação interpretada de propósito geral. É fácil de aprender e usar principalmente porque a linguagem se concentra na legibilidade. A filosofia do Python é capturada em o Zen of Python que inclui frases como:"
   ]
  },
  {
   "cell_type": "code",
   "execution_count": 1,
   "metadata": {},
   "outputs": [
    {
     "name": "stdout",
     "output_type": "stream",
     "text": [
      "The Zen of Python, by Tim Peters\n",
      "\n",
      "Beautiful is better than ugly.\n",
      "Explicit is better than implicit.\n",
      "Simple is better than complex.\n",
      "Complex is better than complicated.\n",
      "Flat is better than nested.\n",
      "Sparse is better than dense.\n",
      "Readability counts.\n",
      "Special cases aren't special enough to break the rules.\n",
      "Although practicality beats purity.\n",
      "Errors should never pass silently.\n",
      "Unless explicitly silenced.\n",
      "In the face of ambiguity, refuse the temptation to guess.\n",
      "There should be one-- and preferably only one --obvious way to do it.\n",
      "Although that way may not be obvious at first unless you're Dutch.\n",
      "Now is better than never.\n",
      "Although never is often better than *right* now.\n",
      "If the implementation is hard to explain, it's a bad idea.\n",
      "If the implementation is easy to explain, it may be a good idea.\n",
      "Namespaces are one honking great idea -- let's do more of those!\n"
     ]
    }
   ],
   "source": [
    "import this"
   ]
  },
  {
   "attachments": {},
   "cell_type": "markdown",
   "metadata": {},
   "source": [
    "É uma linguagem popular em geral, aparecendo consistentemente no top 10 de programação idiomas em pesquisas no StackOver. É uma linguagem dinâmica e muito adequada para desenvolvimento interativo e prototipagem rápida com o poder de suportar o desenvolvimento de grandes aplicações. Também é amplamente utilizado para aprendizado de máquina e ciência de dados devido à excelente biblioteca suporte e porque é uma linguagem de programação de uso geral (ao contrário de R ou Matlab). Para exemplo, veja os resultados da pesquisa da plataforma Kaggle em 2011 e o KDD Nuggets Resultados da pesquisa de ferramentas de 2015."
   ]
  },
  {
   "attachments": {},
   "cell_type": "markdown",
   "metadata": {},
   "source": [
    "Esta é uma consideração simples e muito importante. Isso significa que você pode executar o seu pesquisa e desenvolvimento (definir quais modelos usar) na mesma linguagem de programação que você usa para seus sistemas de produção. Simplificando muito a transição do desenvolvimento à produção."
   ]
  },
  {
   "attachments": {},
   "cell_type": "markdown",
   "metadata": {},
   "source": [
    "#### SciPy"
   ]
  },
  {
   "attachments": {},
   "cell_type": "markdown",
   "metadata": {},
   "source": [
    "SciPy é um ecossistema de bibliotecas Python para matemática, ciências e engenharia. É um complemento para Python que você precisará para aprendizado de máquina. O ecossistema SciPy é composto por os seguintes módulos principais relevantes para aprendizado de máquina"
   ]
  },
  {
   "attachments": {},
   "cell_type": "markdown",
   "metadata": {},
   "source": [
    "* NumPy: uma base para o SciPy que permite trabalhar com eficiência com dados em arrays.\n",
    "\n",
    "* Matplotlib: permite criar gráficos e plotagens 2D a partir de dados.\n",
    "\n",
    "* Pandas: Ferramentas e estruturas de dados para organizar e analisar seus dados.\n",
    "\n",
    "Para ser eficaz no aprendizado de máquina em Python, você deve instalar e se familiarizar com SciPy. Especificamente:\n",
    "\n",
    "* Você preparará seus dados como matrizes NumPy para modelagem em algoritmos de aprendizado de máquina.\n",
    "\n",
    "* Você usará o Matplotlib (e wrappers do Matplotlib em outros frameworks) para criar gráficos e gráficos de seus dados.\n",
    "\n",
    "* Você usará o Pandas para carregar, explorar e entender melhor seus dados."
   ]
  },
  {
   "attachments": {},
   "cell_type": "markdown",
   "metadata": {},
   "source": [
    "#### scikit-learn"
   ]
  },
  {
   "attachments": {},
   "cell_type": "markdown",
   "metadata": {},
   "source": [
    "A biblioteca scikit-learn é como você pode desenvolver e praticar aprendizado de máquina em Python. Isso é construído sobre e requer o ecossistema SciPy. O nome scikit sugere que é um plug-in SciPy ou kit de ferramentas. O foco da biblioteca são algoritmos de aprendizado de máquina para classificação, regressão, agrupamento e muito mais. Ele também fornece ferramentas para tarefas relacionadas, como avaliação de modelos, ajuste parâmetros e dados de pré-processamento."
   ]
  },
  {
   "attachments": {},
   "cell_type": "markdown",
   "metadata": {},
   "source": [
    "Como o Python e o SciPy, o scikit-learn é de código aberto e pode ser usado comercialmente sob o BSD licença. Isso significa que você pode aprender sobre aprendizado de máquina, desenvolver modelos e colocá-los em operações com o mesmo ecossistema e código. Um motivo poderoso para usar o scikit-learn."
   ]
  },
  {
   "cell_type": "code",
   "execution_count": 2,
   "metadata": {},
   "outputs": [
    {
     "name": "stdout",
     "output_type": "stream",
     "text": [
      "scipy: 1.8.1\n",
      "numpy: 1.23.0\n",
      "matplotlib: 3.5.2\n",
      "pandas: 1.4.3\n",
      "sklearn: 1.1.1\n"
     ]
    }
   ],
   "source": [
    "# scipy\n",
    "import scipy\n",
    "print(f'scipy: {scipy.__version__}')\n",
    "\n",
    "# numpy\n",
    "import numpy\n",
    "print(f'numpy: {numpy.__version__}')\n",
    "\n",
    "# matplotlib\n",
    "import matplotlib\n",
    "print(f'matplotlib: {matplotlib.__version__}')\n",
    "\n",
    "# pandas\n",
    "import pandas\n",
    "print(f'pandas: {pandas.__version__}')\n",
    "\n",
    "# scikit-learn\n",
    "import sklearn\n",
    "print(f'sklearn: {sklearn.__version__}')"
   ]
  },
  {
   "cell_type": "code",
   "execution_count": 3,
   "metadata": {},
   "outputs": [
    {
     "name": "stdout",
     "output_type": "stream",
     "text": [
      "Author: Caique Miranda\n",
      "\n",
      "Github username: caiquemiranda\n",
      "\n",
      "pandas    : 1.4.3\n",
      "scipy     : 1.8.1\n",
      "numpy     : 1.23.0\n",
      "sklearn   : 1.1.1\n",
      "matplotlib: 3.5.2\n",
      "\n"
     ]
    }
   ],
   "source": [
    "%reload_ext watermark\n",
    "%watermark -a \"Caique Miranda\" -gu \"caiquemiranda\" -iv"
   ]
  },
  {
   "attachments": {},
   "cell_type": "markdown",
   "metadata": {},
   "source": [
    "### End."
   ]
  }
 ],
 "metadata": {
  "kernelspec": {
   "display_name": "Python 3",
   "language": "python",
   "name": "python3"
  },
  "language_info": {
   "codemirror_mode": {
    "name": "ipython",
    "version": 3
   },
   "file_extension": ".py",
   "mimetype": "text/x-python",
   "name": "python",
   "nbconvert_exporter": "python",
   "pygments_lexer": "ipython3",
   "version": "3.10.5"
  },
  "orig_nbformat": 4
 },
 "nbformat": 4,
 "nbformat_minor": 2
}
